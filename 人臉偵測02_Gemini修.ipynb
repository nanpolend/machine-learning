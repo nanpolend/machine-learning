{
  "nbformat": 4,
  "nbformat_minor": 0,
  "metadata": {
    "colab": {
      "provenance": [],
      "authorship_tag": "ABX9TyNXVTjssO/ZIdV6eXUc5TAo",
      "include_colab_link": true
    },
    "kernelspec": {
      "name": "python3",
      "display_name": "Python 3"
    },
    "language_info": {
      "name": "python"
    }
  },
  "cells": [
    {
      "cell_type": "markdown",
      "metadata": {
        "id": "view-in-github",
        "colab_type": "text"
      },
      "source": [
        "<a href=\"https://colab.research.google.com/github/nanpolend/machine-learning/blob/master/%E4%BA%BA%E8%87%89%E5%81%B5%E6%B8%AC02_Gemini%E4%BF%AE.ipynb\" target=\"_parent\"><img src=\"https://colab.research.google.com/assets/colab-badge.svg\" alt=\"Open In Colab\"/></a>"
      ]
    },
    {
      "source": [
        "開始\n",
        "                                     |\n",
        "                                 載入 OpenCV 函式庫\n",
        "                                     |\n",
        "                    載入人臉和眼睛的 Haar Cascade 分類器\n",
        "                                     |\n",
        "                                讀取影像檔案\n",
        "                                     |\n",
        "                             將影像轉換為灰階\n",
        "                                     |\n",
        "                                偵測人臉\n",
        "                                     |\n",
        "                              繪製人臉方框\n",
        "                                     |\n",
        "                                偵測眼睛\n",
        "                                     |\n",
        "                              繪製眼睛圓圈\n",
        "                                     |\n",
        "                            顯示處理後的影像\n",
        "                                     |\n",
        "                                等待按鍵\n",
        "                                     |\n",
        "                             關閉所有視窗\n",
        "                                     |\n",
        "                                    結束"
      ],
      "cell_type": "code",
      "metadata": {
        "id": "khA-EIkv3lzn"
      },
      "execution_count": null,
      "outputs": []
    },
    {
      "source": [
        "import cv2  # 載入 OpenCV 函式庫\n",
        "\n",
        "# 載入人臉和眼睛的 Haar Cascade 分類器\n",
        "face_cascade = cv2.CascadeClassifier('haarcascade_frontalface_alt2.xml')\n",
        "eye_cascade = cv2.CascadeClassifier('haarcascade_eye.xml')  # 修正錯誤：使用正確的檔案名稱\n",
        "\n",
        "# 讀取影像檔案\n",
        "image = cv2.imread('facedemo.jpg')\n",
        "\n",
        "# 檢查影像是否成功載入\n",
        "if image is None:\n",
        "    print(\"錯誤：無法載入影像。請檢查檔案路徑。\")\n",
        "else:\n",
        "    # 將影像轉換為灰階\n",
        "    gray = cv2.cvtColor(image, cv2.COLOR_BGR2GRAY)\n",
        "\n",
        "    # 偵測人臉\n",
        "    faces = face_cascade.detectMultiScale(gray, 1.02, 2)\n",
        "\n",
        "    # 迭代每一個偵測到的人臉\n",
        "    for (x, y, w, h) in faces:\n",
        "        # 在原始影像上繪製人臉方框\n",
        "        image = cv2.rectangle(image, (x, y), (x + w, y + h), (8, 255, 8), 3)\n",
        "        # 擷取人臉區域，用於偵測眼睛\n",
        "        face_rect = gray[y:y + h, x:x + w]\n",
        "\n",
        "        # 偵測眼睛\n",
        "        eyes = eye_cascade.detectMultiscale(face_rect, 1.3, 8)\n",
        "\n",
        "        # 迭代每一個偵測到的眼睛\n",
        "        for (ex, ey, ew, eh) in eyes:\n",
        "            # 計算眼睛中心點座標\n",
        "            center = (x + ex + int(ew / 2), y + ey + int(eh / 2))  # 修正錯誤：計算中心點\n",
        "            # 計算眼睛圓圈半徑\n",
        "            radius = int(min(ew, eh) / 2)  # 修正錯誤：計算半徑\n",
        "            # 在原始影像上繪製眼睛圓圈\n",
        "            image = cv2.circle(image, center, radius, (255, 255, 8), 5)\n",
        "\n",
        "    # 建立視窗並顯示影像\n",
        "    cv2.namedWindow('facesdemo', cv2.WINDOW_NORMAL)\n",
        "    cv2.imshow('facesdemo', image)\n",
        "\n",
        "    # 等待按鍵按下\n",
        "    cv2.waitKey(0)  # 修正錯誤：等待任意按鍵\n",
        "\n",
        "    # 關閉所有視窗\n",
        "    cv2.destroyAllWindows()"
      ],
      "cell_type": "code",
      "metadata": {
        "colab": {
          "base_uri": "https://localhost:8080/"
        },
        "id": "8ixffieG4AXD",
        "outputId": "71c8503d-6435-4614-e9e1-6541b8d86010"
      },
      "execution_count": 2,
      "outputs": [
        {
          "output_type": "stream",
          "name": "stdout",
          "text": [
            "錯誤：無法載入影像。請檢查檔案路徑。\n"
          ]
        }
      ]
    }
  ]
}