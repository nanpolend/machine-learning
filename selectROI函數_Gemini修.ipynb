{
  "nbformat": 4,
  "nbformat_minor": 0,
  "metadata": {
    "colab": {
      "provenance": [],
      "authorship_tag": "ABX9TyMfuQ5I29xPNeB3sqzfplyF",
      "include_colab_link": true
    },
    "kernelspec": {
      "name": "python3",
      "display_name": "Python 3"
    },
    "language_info": {
      "name": "python"
    }
  },
  "cells": [
    {
      "cell_type": "markdown",
      "metadata": {
        "id": "view-in-github",
        "colab_type": "text"
      },
      "source": [
        "<a href=\"https://colab.research.google.com/github/nanpolend/machine-learning/blob/master/selectROI%E5%87%BD%E6%95%B8_Gemini%E4%BF%AE.ipynb\" target=\"_parent\"><img src=\"https://colab.research.google.com/assets/colab-badge.svg\" alt=\"Open In Colab\"/></a>"
      ]
    },
    {
      "source": [
        "# 程式架構圖：\n",
        "#\n",
        "# [影片來源] --> [讀取影格] --> [選擇 ROI] --> [初始化追蹤器] -->\n",
        "# [更新追蹤器位置] --> [繪製邊界框] --> [顯示影格] --> [檢查 Esc 按鍵] --> [結束]\n",
        "\n",
        "while True:\n",
        "    # 讀取影格\n",
        "    ret, frame = cap.read()\n",
        "\n",
        "    # 選擇 ROI（Region of Interest，感興趣區域）\n",
        "    if roi is None:\n",
        "        # 如果尚未選擇 ROI，則使用 cv2.selectROI 讓使用者選擇\n",
        "        roi = cv2.selectROI('frame', frame, False, False)\n",
        "\n",
        "        # 如果選擇了有效的 ROI（非 (0, 0, 0, 0)），則初始化追蹤器\n",
        "        if roi != (0, 0, 0, 0):\n",
        "            tracker.init(frame, roi)\n",
        "\n",
        "    # 更新追蹤器位置\n",
        "    success, rect = tracker.update(frame)\n",
        "\n",
        "    # 繪製邊界框\n",
        "    if success:\n",
        "        # 如果追蹤成功，則取得邊界框座標並繪製在影格上\n",
        "        (x, y, w, h) = [int(i) for i in rect]\n",
        "        cv2.rectangle(frame, (x, y), (x + w, y + h), (0, 255, 0), 2)\n",
        "\n",
        "    # 顯示影格\n",
        "    cv2.imshow('frame', frame)\n",
        "\n",
        "    # 檢查 Esc 按鍵\n",
        "    if cv2.waitKey(66) == 27:\n",
        "        # 如果按下 Esc 按鍵，則關閉所有視窗並結束迴圈\n",
        "        cv2.destroyAllWindows()\n",
        "        break"
      ],
      "cell_type": "code",
      "metadata": {
        "id": "tl7jx7fv7sJz"
      },
      "execution_count": null,
      "outputs": []
    }
  ]
}