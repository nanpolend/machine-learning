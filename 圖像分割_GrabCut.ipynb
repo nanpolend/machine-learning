{
  "cells": [
    {
      "cell_type": "markdown",
      "metadata": {
        "id": "view-in-github",
        "colab_type": "text"
      },
      "source": [
        "<a href=\"https://colab.research.google.com/github/nanpolend/machine-learning/blob/master/%E5%9C%96%E5%83%8F%E5%88%86%E5%89%B2_GrabCut.ipynb\" target=\"_parent\"><img src=\"https://colab.research.google.com/assets/colab-badge.svg\" alt=\"Open In Colab\"/></a>"
      ]
    },
    {
      "cell_type": "markdown",
      "metadata": {
        "id": "lTzssIldJkj4"
      },
      "source": [
        "<h1>光頭傑夫製作</h1><img src=\"https://rolqiw.bl.files.1drv.com/y4mYqkObWmQmdJFd8pab8t8m7d_mFhh3_YG63fiAnPaG6gjahHFt0n087pF97x1W2wemm7hd4ZdiPD2OxoPtqcCD_4-Jy-fojnt97kGGWR4Hnq0-9Ny61afd7WVHVTmF_9pcr45OFDFSwLKByeQU1q9TjwKk-HsNmWVsW1eGQ4Gi-9G4pQ5DYoTxswYJ5r5dLF-kKsA1InEyrqmV3kF5pm4WQ?width=658&height=584&cropmode=none\" width=160px align=\"left\" />\n",
        "<!--1789344913-276-->"
      ]
    },
    {
      "cell_type": "markdown",
      "metadata": {
        "id": "XGvYPKh6Jkj6"
      },
      "source": [
        "## <font color=red>你有聽過去背嗎??"
      ]
    },
    {
      "cell_type": "markdown",
      "metadata": {
        "id": "E3ZgJDRoJkj6"
      },
      "source": [
        "## <font color=red>圖像分割-GrabCut Technique\n",
        "--------\n",
        "![image.png](attachment:image.png)"
      ]
    },
    {
      "cell_type": "markdown",
      "metadata": {
        "id": "VdSuAss-Jkj7"
      },
      "source": [
        "## <font color=red>要講之前，你就要先知道mask遮罩\n",
        "------\n",
        "    mask是用一副二值化圖片(0和1)對另外一幅圖片進行局部的遮擋。\n",
        "------\n",
        "    Image mask，用選定的圖形，對處理的圖像（全部或局部）進行遮擋，來控制圖像處理的區域或處理過程。\n",
        "    用於覆蓋的特點圖像或物體稱為mask或模板。\n",
        "    光學圖像處理中，mask可以是膠片，濾光片等。\n",
        "    mask是由0和1組成的一個二進製圖像。\n",
        "    當在某一功能中應用mask時，1值區域被處理，被屏蔽的0值區域不被包括在計算中。"
      ]
    },
    {
      "cell_type": "markdown",
      "metadata": {
        "id": "2CLK0r7OJkj7"
      },
      "source": [
        "## <font color=red>mask遮罩怎麼運算呢?\n",
        "------\n",
        "![image.png](attachment:image.png)"
      ]
    },
    {
      "cell_type": "markdown",
      "metadata": {
        "id": "G7lQlfFDJkj8"
      },
      "source": [
        "## <font color=red>把前景、背景分出來-grabCut語法\n",
        "--------\n",
        "```\n",
        "outputmask, bgModel, fgModel = cv2.grabCut(image,\n",
        "                                           mask,\n",
        "                                           rect,\n",
        "                                           bgModel,\n",
        "                                           fgModel,\n",
        "                                           iterCount,\n",
        "                                           mode)\n",
        "```\n",
        "--------\n",
        "### output的部分有三塊，最重要的是outputmask:\n",
        "    1. outputmask-會返回一塊跟輸入image一樣大小的灰階圖片  \n",
        "                  裡面每個pixel的值，有四種可能:\n",
        "                  Pixel value 0 => cv2.GC_BGD =>屬於背景\n",
        "                  Pixel value 1 => cv2.GC_FGD =>屬於前景\n",
        "                  Pixel value 2 => cv2.GC_PR_BGD=>可能屬於背景\n",
        "                  Pixel value 3 => cv2.GC_PR_FGD=>可能屬於前景\n",
        "--------\n",
        "### input的部分\n",
        "    1.image-目標照片\n",
        "    2.bgModel,fgModel-就是兩個尺寸(1,65)的array，給算法存模型參數用的。\n",
        "    ----\n",
        "    下面兩個參數，就是要告訴算式，你打算怎麼分前後景\n",
        "    3.mask-你可以用一張跟輸入圖像一樣大的二元圖像當設定值                                            \n",
        "    4.rect-你也可以用框選的方式當設定值\n",
        "    ----\n",
        "    5.iterCount-計算過程你想要跑多少次\n",
        "    6.mode-你可以用這個參數，決定你要用前面的mask當初始值，還是用rect當初始值，比如你用rect當初始值，model就知道主題在rect裡面，所以            外面的部分先自動變成背景了。  \n",
        "           cv2.GC_INIT_WITH_RECT  \n",
        "           cv2.GC_INIT_WITH_MASK\n",
        "--------\n",
        "          \n",
        "   grabcut會把算出來的結果存回去 mask、bgdModel、fgdModel，沒錯就是這樣!!\n",
        "    "
      ]
    },
    {
      "cell_type": "markdown",
      "metadata": {
        "id": "NXtpibVfJkj8"
      },
      "source": [
        "## <font color=red>範例講解-GrabCut Technique"
      ]
    },
    {
      "cell_type": "code",
      "execution_count": null,
      "metadata": {
        "id": "FvBnK07LJkj9"
      },
      "outputs": [],
      "source": [
        "import cv2\n",
        "import numpy as np\n",
        "img = cv2.imread(\"person.jpg\")\n",
        "imgCopy = img.copy()"
      ]
    },
    {
      "cell_type": "code",
      "execution_count": null,
      "metadata": {
        "id": "Mk_OgA_aJkj-",
        "outputId": "6bed50b2-703c-44e6-a500-40fdf2302645"
      },
      "outputs": [
        {
          "data": {
            "text/plain": [
              "(510, 768, 3)"
            ]
          },
          "execution_count": 2,
          "metadata": {},
          "output_type": "execute_result"
        }
      ],
      "source": [
        "img.shape"
      ]
    },
    {
      "cell_type": "code",
      "execution_count": null,
      "metadata": {
        "id": "wxg3PSl-JkkA",
        "outputId": "e3fb4b0d-69f7-44ff-9544-8d4bd913305d",
        "colab": {
          "base_uri": "https://localhost:8080/",
          "height": 186
        }
      },
      "outputs": [
        {
          "output_type": "error",
          "ename": "NameError",
          "evalue": "ignored",
          "traceback": [
            "\u001b[0;31m---------------------------------------------------------------------------\u001b[0m",
            "\u001b[0;31mNameError\u001b[0m                                 Traceback (most recent call last)",
            "\u001b[0;32m<ipython-input-1-bc78e32e9216>\u001b[0m in \u001b[0;36m<cell line: 1>\u001b[0;34m()\u001b[0m\n\u001b[0;32m----> 1\u001b[0;31m \u001b[0mbgdModel\u001b[0m \u001b[0;34m=\u001b[0m \u001b[0mnp\u001b[0m\u001b[0;34m.\u001b[0m\u001b[0mzeros\u001b[0m\u001b[0;34m(\u001b[0m\u001b[0;34m(\u001b[0m\u001b[0;36m1\u001b[0m\u001b[0;34m,\u001b[0m\u001b[0;36m65\u001b[0m\u001b[0;34m)\u001b[0m\u001b[0;34m,\u001b[0m\u001b[0mnp\u001b[0m\u001b[0;34m.\u001b[0m\u001b[0mfloat64\u001b[0m\u001b[0;34m)\u001b[0m\u001b[0;34m\u001b[0m\u001b[0;34m\u001b[0m\u001b[0m\n\u001b[0m\u001b[1;32m      2\u001b[0m \u001b[0mfgdModel\u001b[0m \u001b[0;34m=\u001b[0m \u001b[0mnp\u001b[0m\u001b[0;34m.\u001b[0m\u001b[0mzeros\u001b[0m\u001b[0;34m(\u001b[0m\u001b[0;34m(\u001b[0m\u001b[0;36m1\u001b[0m\u001b[0;34m,\u001b[0m\u001b[0;36m65\u001b[0m\u001b[0;34m)\u001b[0m\u001b[0;34m,\u001b[0m\u001b[0mnp\u001b[0m\u001b[0;34m.\u001b[0m\u001b[0mfloat64\u001b[0m\u001b[0;34m)\u001b[0m\u001b[0;34m\u001b[0m\u001b[0;34m\u001b[0m\u001b[0m\n",
            "\u001b[0;31mNameError\u001b[0m: name 'np' is not defined"
          ]
        }
      ],
      "source": [
        "bgdModel = np.zeros((1,65),np.float64)\n",
        "fgdModel = np.zeros((1,65),np.float64)"
      ]
    },
    {
      "cell_type": "code",
      "execution_count": null,
      "metadata": {
        "id": "Un1klYF1JkkA"
      },
      "outputs": [],
      "source": [
        "rect = cv2.selectROI(img)\n",
        "cv2.destroyAllWindows()"
      ]
    },
    {
      "cell_type": "code",
      "execution_count": null,
      "metadata": {
        "id": "644Ykn3tJkkB",
        "outputId": "175fbd9f-cecb-4612-e6cd-ccb60d341f81"
      },
      "outputs": [
        {
          "data": {
            "text/plain": [
              "(183, 101, 451, 324)"
            ]
          },
          "execution_count": 6,
          "metadata": {},
          "output_type": "execute_result"
        }
      ],
      "source": [
        "# Draw rectangle\n",
        "x,y,w,h = rect\n",
        "x,y,w,h"
      ]
    },
    {
      "cell_type": "code",
      "execution_count": null,
      "metadata": {
        "id": "n1q4mRW0JkkB",
        "outputId": "7aef6e5e-e6d6-4614-aebf-1c53c4577bdf"
      },
      "outputs": [
        {
          "data": {
            "text/plain": [
              "(array([[0, 0, 0, ..., 0, 0, 0],\n",
              "        [0, 0, 0, ..., 0, 0, 0],\n",
              "        [0, 0, 0, ..., 0, 0, 0],\n",
              "        ...,\n",
              "        [0, 0, 0, ..., 0, 0, 0],\n",
              "        [0, 0, 0, ..., 0, 0, 0],\n",
              "        [0, 0, 0, ..., 0, 0, 0]], dtype=uint8),\n",
              " array([[3.16931929e-01, 2.15906045e-01, 1.48120164e-01, 1.97486898e-01,\n",
              "         1.21554964e-01, 4.54001799e+01, 1.00736854e+02, 8.24678872e+01,\n",
              "         3.62922758e+01, 6.29786326e+01, 7.79666020e+01, 5.42293211e+01,\n",
              "         9.85297503e+01, 1.03785482e+02, 3.56281709e+01, 8.48539624e+01,\n",
              "         6.60936719e+01, 2.89590683e+01, 5.21228185e+01, 4.46442344e+01,\n",
              "         2.61636921e+01, 2.25387726e+01, 2.34621874e+01, 2.25387726e+01,\n",
              "         2.87398765e+01, 2.58527705e+01, 2.34621874e+01, 2.58527705e+01,\n",
              "         3.02119934e+01, 4.81230452e+01, 5.82091822e+01, 7.11424160e+01,\n",
              "         5.82091822e+01, 9.76236735e+01, 1.19387794e+02, 7.11424160e+01,\n",
              "         1.19387794e+02, 1.68781196e+02, 2.35085355e+02, 2.39670332e+02,\n",
              "         2.25211622e+02, 2.39670332e+02, 3.21267883e+02, 1.77189619e+02,\n",
              "         2.25211622e+02, 1.77189619e+02, 3.76677961e+02, 5.85863147e+01,\n",
              "         3.84165564e+01, 3.69810928e+01, 3.84165564e+01, 5.45520094e+01,\n",
              "         5.10769890e+01, 3.69810928e+01, 5.10769890e+01, 5.62441745e+01,\n",
              "         7.96616526e+01, 8.10725351e+01, 5.46148712e+01, 8.10725351e+01,\n",
              "         1.80838594e+02, 6.03525940e+01, 5.46148712e+01, 6.03525940e+01,\n",
              "         9.57280705e+01]]),\n",
              " array([[8.32560184e-03, 3.37955955e-01, 1.06304019e-01, 3.70062015e-01,\n",
              "         1.77352410e-01, 4.79941349e+01, 6.62697947e+01, 8.67302053e+01,\n",
              "         3.64158359e+01, 4.17485190e+01, 1.69528681e+02, 7.62700965e+01,\n",
              "         9.31088654e+01, 1.62381488e+02, 6.12703041e+01, 6.67850498e+01,\n",
              "         2.08308636e+02, 1.30353800e+01, 1.51354626e+01, 7.23481553e+01,\n",
              "         2.18539555e+02, 1.82505981e+02, 1.82608388e+02, 1.82505981e+02,\n",
              "         3.39874425e+02, 1.84717950e+02, 1.82608388e+02, 1.84717950e+02,\n",
              "         2.01962401e+02, 1.27356195e+02, 1.24013042e+02, 1.74837228e+02,\n",
              "         1.24013042e+02, 1.31331570e+02, 1.92608679e+02, 1.74837228e+02,\n",
              "         1.92608679e+02, 4.71041693e+02, 9.79570135e+02, 1.07063343e+03,\n",
              "         7.05254334e+02, 1.07063343e+03, 1.26355085e+03, 7.78751303e+02,\n",
              "         7.05254334e+02, 7.78751303e+02, 9.16057728e+02, 1.72935117e+02,\n",
              "         2.01336191e+02, 2.91629951e+01, 2.01336191e+02, 2.54647601e+02,\n",
              "         2.66260168e+01, 2.91629951e+01, 2.66260168e+01, 7.43960018e+01,\n",
              "         1.14394536e+02, 8.31219970e+01, 8.32093233e+01, 8.31219970e+01,\n",
              "         1.00588203e+02, 7.07360153e+01, 8.32093233e+01, 7.07360153e+01,\n",
              "         5.62156459e+02]]))"
            ]
          },
          "execution_count": 7,
          "metadata": {},
          "output_type": "execute_result"
        }
      ],
      "source": [
        "#我們這邊是採用rect的選取方式，所以mask要設None，要不然error\n",
        "cv2.grabCut(img,None,rect,bgdModel,fgdModel,5,cv2.GC_INIT_WITH_RECT)\n",
        "# grabcut會把算出來的結果存回去 mask、bgdModel、fgdModel"
      ]
    },
    {
      "cell_type": "code",
      "execution_count": null,
      "metadata": {
        "id": "qBQogShLJkkC",
        "outputId": "5832b54c-d4e8-4721-accd-785ad4a189af"
      },
      "outputs": [
        {
          "data": {
            "text/plain": [
              "array([0, 0, 0, 0, 0, 0, 0, 0, 0, 0, 0, 0, 0, 0, 0, 0, 0, 0, 0, 0, 0, 0,\n",
              "       0, 0, 0, 0, 0, 0, 0, 0, 0, 0, 0, 0, 0, 0, 0, 0, 0, 0, 0, 0, 0, 0,\n",
              "       0, 0, 0, 0, 0, 0, 0, 0, 0, 0, 0, 0, 0, 0, 0, 0, 0, 0, 0, 0, 0, 0,\n",
              "       0, 0, 0, 0, 0, 0, 0, 0, 0, 0, 0, 0, 0, 0, 0, 0, 0, 0, 0, 0, 0, 0,\n",
              "       0, 0, 0, 0, 0, 0, 0, 0, 0, 0, 0, 0, 0, 0, 0, 0, 0, 0, 0, 0, 0, 0,\n",
              "       0, 0, 0, 0, 0, 0, 0, 0, 0, 0, 0, 0, 0, 0, 0, 0, 0, 0, 0, 0, 0, 0,\n",
              "       0, 0, 0, 0, 0, 0, 0, 0, 0, 0, 0, 0, 0, 0, 0, 0, 0, 0, 0, 0, 0, 0,\n",
              "       0, 0, 0, 0, 0, 0, 0, 0, 0, 0, 0, 0, 0, 0, 0, 0, 0, 0, 0, 0, 0, 0,\n",
              "       0, 0, 0, 0, 0, 0, 0, 2, 2, 2, 2, 2, 2, 2, 2, 2, 2, 2, 2, 2, 2, 2,\n",
              "       2, 2, 2, 2, 2, 2, 2, 2, 2, 2, 2, 2, 2, 2, 2, 2, 2, 2, 2, 2, 2, 2,\n",
              "       2, 2, 2, 2, 2, 2, 2, 2, 2, 2, 2, 2, 2, 2, 2, 2, 2, 2, 2, 2, 2, 2,\n",
              "       2, 2, 2, 2, 2, 2, 2, 2, 2, 2, 2, 2, 2, 2, 2, 2, 2, 2, 2, 2, 2, 2,\n",
              "       2, 2, 2, 2, 2, 2, 2, 2, 2, 2, 2, 2, 2, 2, 2, 2, 2, 2, 2, 2, 2, 2,\n",
              "       2, 2, 2, 2, 2, 2, 2, 2, 2, 2, 2, 2, 2, 2, 2, 2, 2, 2, 2, 2, 2, 2,\n",
              "       2, 2, 2, 2, 2, 2, 2, 2, 2, 2, 2, 2, 3, 3, 3, 3, 3, 3, 3, 3, 3, 3,\n",
              "       3, 3, 3, 3, 3, 3, 3, 3, 3, 3, 3, 3, 3, 3, 3, 3, 3, 3, 3, 3, 3, 3,\n",
              "       3, 3, 3, 3, 3, 3, 3, 3, 3, 3, 3, 3, 3, 3, 3, 3, 3, 3, 3, 3, 3, 3,\n",
              "       3, 3, 3, 3, 3, 3, 3, 3, 3, 3, 3, 3, 3, 3, 3, 3, 3, 3, 3, 3, 3, 3,\n",
              "       3, 3, 3, 3, 3, 3, 3, 3, 3, 3, 3, 3, 3, 3, 3, 3, 3, 3, 3, 3, 3, 3,\n",
              "       3, 3, 3, 3, 3, 3, 3, 3, 3, 3, 3, 3, 3, 3, 3, 2, 2, 2, 2, 2, 2, 2,\n",
              "       2, 2, 2, 2, 2, 2, 2, 2, 2, 2, 2, 2, 2, 2, 2, 2, 2, 2, 2, 2, 2, 2,\n",
              "       2, 2, 2, 2, 2, 2, 2, 2, 2, 2, 2, 2, 2, 2, 2, 2, 2, 2, 2, 2, 2, 2,\n",
              "       2, 2, 2, 2, 2, 2, 2, 2, 2, 2, 2, 2, 2, 2, 2, 2, 2, 2, 2, 2, 2, 2,\n",
              "       2, 2, 2, 2, 2, 2, 2, 2, 2, 2, 2, 2, 2, 2, 2, 2, 2, 2, 2, 2, 2, 2,\n",
              "       2, 2, 2, 2, 2, 2, 2, 2, 2, 2, 2, 2, 2, 2, 2, 2, 2, 2, 2, 2, 2, 2,\n",
              "       2, 2, 2, 2, 2, 2, 2, 2, 2, 2, 2, 2, 2, 2, 2, 2, 2, 2, 2, 2, 2, 2,\n",
              "       2, 2, 2, 2, 2, 2, 2, 2, 2, 2, 2, 2, 2, 2, 2, 2, 2, 2, 2, 2, 2, 2,\n",
              "       2, 2, 2, 2, 2, 2, 2, 2, 2, 2, 2, 2, 2, 2, 2, 2, 2, 2, 2, 2, 2, 2,\n",
              "       2, 2, 2, 2, 2, 2, 2, 2, 2, 2, 2, 2, 2, 2, 2, 2, 2, 0, 0, 0, 0, 0,\n",
              "       0, 0, 0, 0, 0, 0, 0, 0, 0, 0, 0, 0, 0, 0, 0, 0, 0, 0, 0, 0, 0, 0,\n",
              "       0, 0, 0, 0, 0, 0, 0, 0, 0, 0, 0, 0, 0, 0, 0, 0, 0, 0, 0, 0, 0, 0,\n",
              "       0, 0, 0, 0, 0, 0, 0, 0, 0, 0, 0, 0, 0, 0, 0, 0, 0, 0, 0, 0, 0, 0,\n",
              "       0, 0, 0, 0, 0, 0, 0, 0, 0, 0, 0, 0, 0, 0, 0, 0, 0, 0, 0, 0, 0, 0,\n",
              "       0, 0, 0, 0, 0, 0, 0, 0, 0, 0, 0, 0, 0, 0, 0, 0, 0, 0, 0, 0, 0, 0,\n",
              "       0, 0, 0, 0, 0, 0, 0, 0, 0, 0, 0, 0, 0, 0, 0, 0, 0, 0, 0, 0],\n",
              "      dtype=uint8)"
            ]
          },
          "execution_count": 7,
          "metadata": {},
          "output_type": "execute_result"
        }
      ],
      "source": [
        "mask[200,:]\n",
        "\n",
        "#讓我們看看第200row的pixel資料\n",
        "#0:背景、1:前景，2:可能屬於背景，3:可能屬於前景"
      ]
    },
    {
      "cell_type": "code",
      "execution_count": null,
      "metadata": {
        "scrolled": true,
        "id": "Inaha2wSJkkC",
        "outputId": "8543b03b-8f5d-499e-824e-751980566fc3"
      },
      "outputs": [
        {
          "data": {
            "text/plain": [
              "array([0, 0, 0, 0, 0, 0, 0, 0, 0, 0, 0, 0, 0, 0, 0, 0, 0, 0, 0, 0, 0, 0,\n",
              "       0, 0, 0, 0, 0, 0, 0, 0, 0, 0, 0, 0, 0, 0, 0, 0, 0, 0, 0, 0, 0, 0,\n",
              "       0, 0, 0, 0, 0, 0, 0, 0, 0, 0, 0, 0, 0, 0, 0, 0, 0, 0, 0, 0, 0, 0,\n",
              "       0, 0, 0, 0, 0, 0, 0, 0, 0, 0, 0, 0, 0, 0, 0, 0, 0, 0, 0, 0, 0, 0,\n",
              "       0, 0, 0, 0, 0, 0, 0, 0, 0, 0, 0, 0, 0, 0, 0, 0, 0, 0, 0, 0, 0, 0,\n",
              "       0, 0, 0, 0, 0, 0, 0, 0, 0, 0, 0, 0, 0, 0, 0, 0, 0, 0, 0, 0, 0, 0,\n",
              "       0, 0, 0, 0, 0, 0, 0, 0, 0, 0, 0, 0, 0, 0, 0, 0, 0, 0, 0, 0, 0, 0,\n",
              "       0, 0, 0, 0, 0, 0, 0, 0, 0, 0, 0, 0, 0, 0, 0, 0, 0, 0, 0, 0, 0, 0,\n",
              "       0, 0, 0, 0, 0, 0, 0, 0, 0, 0, 0, 0, 0, 0, 0, 0, 0, 0, 0, 0, 0, 0,\n",
              "       0, 0, 0, 0, 0, 0, 0, 0, 0, 0, 0, 0, 0, 0, 0, 0, 0, 0, 0, 0, 0, 0,\n",
              "       0, 0, 0, 0, 0, 0, 0, 0, 0, 0, 0, 0, 0, 0, 0, 0, 0, 0, 0, 0, 0, 0,\n",
              "       0, 0, 0, 0, 0, 0, 0, 0, 0, 0, 0, 0, 0, 0, 0, 0, 0, 0, 0, 0, 0, 0,\n",
              "       0, 0, 0, 0, 0, 0, 0, 0, 0, 0, 0, 0, 0, 0, 0, 0, 0, 0, 0, 0, 0, 0,\n",
              "       0, 0, 0, 0, 0, 0, 0, 0, 0, 0, 0, 0, 0, 0, 0, 0, 0, 0, 0, 0, 0, 0,\n",
              "       0, 0, 0, 0, 0, 0, 0, 0, 0, 0, 0, 0, 1, 1, 1, 1, 1, 1, 1, 1, 1, 1,\n",
              "       1, 1, 1, 1, 1, 1, 1, 1, 1, 1, 1, 1, 1, 1, 1, 1, 1, 1, 1, 1, 1, 1,\n",
              "       1, 1, 1, 1, 1, 1, 1, 1, 1, 1, 1, 1, 1, 1, 1, 1, 1, 1, 1, 1, 1, 1,\n",
              "       1, 1, 1, 1, 1, 1, 1, 1, 1, 1, 1, 1, 1, 1, 1, 1, 1, 1, 1, 1, 1, 1,\n",
              "       1, 1, 1, 1, 1, 1, 1, 1, 1, 1, 1, 1, 1, 1, 1, 1, 1, 1, 1, 1, 1, 1,\n",
              "       1, 1, 1, 1, 1, 1, 1, 1, 1, 1, 1, 1, 1, 1, 1, 0, 0, 0, 0, 0, 0, 0,\n",
              "       0, 0, 0, 0, 0, 0, 0, 0, 0, 0, 0, 0, 0, 0, 0, 0, 0, 0, 0, 0, 0, 0,\n",
              "       0, 0, 0, 0, 0, 0, 0, 0, 0, 0, 0, 0, 0, 0, 0, 0, 0, 0, 0, 0, 0, 0,\n",
              "       0, 0, 0, 0, 0, 0, 0, 0, 0, 0, 0, 0, 0, 0, 0, 0, 0, 0, 0, 0, 0, 0,\n",
              "       0, 0, 0, 0, 0, 0, 0, 0, 0, 0, 0, 0, 0, 0, 0, 0, 0, 0, 0, 0, 0, 0,\n",
              "       0, 0, 0, 0, 0, 0, 0, 0, 0, 0, 0, 0, 0, 0, 0, 0, 0, 0, 0, 0, 0, 0,\n",
              "       0, 0, 0, 0, 0, 0, 0, 0, 0, 0, 0, 0, 0, 0, 0, 0, 0, 0, 0, 0, 0, 0,\n",
              "       0, 0, 0, 0, 0, 0, 0, 0, 0, 0, 0, 0, 0, 0, 0, 0, 0, 0, 0, 0, 0, 0,\n",
              "       0, 0, 0, 0, 0, 0, 0, 0, 0, 0, 0, 0, 0, 0, 0, 0, 0, 0, 0, 0, 0, 0,\n",
              "       0, 0, 0, 0, 0, 0, 0, 0, 0, 0, 0, 0, 0, 0, 0, 0, 0, 0, 0, 0, 0, 0,\n",
              "       0, 0, 0, 0, 0, 0, 0, 0, 0, 0, 0, 0, 0, 0, 0, 0, 0, 0, 0, 0, 0, 0,\n",
              "       0, 0, 0, 0, 0, 0, 0, 0, 0, 0, 0, 0, 0, 0, 0, 0, 0, 0, 0, 0, 0, 0,\n",
              "       0, 0, 0, 0, 0, 0, 0, 0, 0, 0, 0, 0, 0, 0, 0, 0, 0, 0, 0, 0, 0, 0,\n",
              "       0, 0, 0, 0, 0, 0, 0, 0, 0, 0, 0, 0, 0, 0, 0, 0, 0, 0, 0, 0, 0, 0,\n",
              "       0, 0, 0, 0, 0, 0, 0, 0, 0, 0, 0, 0, 0, 0, 0, 0, 0, 0, 0, 0, 0, 0,\n",
              "       0, 0, 0, 0, 0, 0, 0, 0, 0, 0, 0, 0, 0, 0, 0, 0, 0, 0, 0, 0],\n",
              "      dtype=uint8)"
            ]
          },
          "execution_count": 8,
          "metadata": {},
          "output_type": "execute_result"
        }
      ],
      "source": [
        "# 把判定成背景(代碼0的)或是可能是背景的(代碼1的)都歸0\n",
        "mask2 = np.where((mask==0)|(mask==2),0,1).astype('uint8')\n",
        "mask2[200,:]"
      ]
    },
    {
      "cell_type": "code",
      "execution_count": null,
      "metadata": {
        "id": "vcVwYpRZJkkD",
        "outputId": "5b55cb74-cf3d-4943-ec7c-d6cc5868379d"
      },
      "outputs": [
        {
          "data": {
            "text/plain": [
              "array([0, 2, 3], dtype=uint8)"
            ]
          },
          "execution_count": 10,
          "metadata": {},
          "output_type": "execute_result"
        }
      ],
      "source": [
        "#我們的mask裡面有那些值\n",
        "#背景、可能屬於背景、可能屬於前景\n",
        "np.unique(mask)"
      ]
    },
    {
      "cell_type": "code",
      "execution_count": null,
      "metadata": {
        "id": "_kD-mz1eJkkD",
        "outputId": "5fd89695-f4fa-4fc6-efe4-cbdef47dd036"
      },
      "outputs": [
        {
          "data": {
            "text/plain": [
              "array([0, 1], dtype=uint8)"
            ]
          },
          "execution_count": 11,
          "metadata": {},
          "output_type": "execute_result"
        }
      ],
      "source": [
        "#經過我們整理以後，我們的mask2裡面有那些值\n",
        "#背景、前景\n",
        "np.unique(mask2)"
      ]
    },
    {
      "cell_type": "code",
      "execution_count": null,
      "metadata": {
        "id": "YqfeJEh8JkkD"
      },
      "outputs": [],
      "source": [
        "#把pixel值放大一點，要不然都接近0，我想應該是看不到吧\n",
        "cv2.imshow(\"Mask\",mask*60)\n",
        "cv2.imshow(\"Mask2\",mask2*255)\n",
        "cv2.imwrite(\"mask.jpg\",mask*80)\n",
        "cv2.imwrite(\"mask2.jpg\",mask2*255)\n",
        "cv2.waitKey(0)\n",
        "cv2.destroyAllWindows()"
      ]
    },
    {
      "cell_type": "markdown",
      "metadata": {
        "id": "zyovxVzuJkkE"
      },
      "source": [
        "## <font color=red>接著，我們要把分析的結果，套回我們的圖片"
      ]
    },
    {
      "cell_type": "code",
      "execution_count": null,
      "metadata": {
        "id": "vu2BPcqWJkkE",
        "outputId": "6bd46d08-f629-41a5-a01a-d2cb5195e140"
      },
      "outputs": [
        {
          "ename": "ValueError",
          "evalue": "operands could not be broadcast together with shapes (510,768,3) (510,768) ",
          "output_type": "error",
          "traceback": [
            "\u001b[1;31m---------------------------------------------------------------------------\u001b[0m",
            "\u001b[1;31mValueError\u001b[0m                                Traceback (most recent call last)",
            "\u001b[1;32m~\\AppData\\Local\\Temp/ipykernel_10472/2175362697.py\u001b[0m in \u001b[0;36m<module>\u001b[1;34m\u001b[0m\n\u001b[1;32m----> 1\u001b[1;33m \u001b[0mimg\u001b[0m \u001b[1;33m=\u001b[0m \u001b[0mimg\u001b[0m\u001b[1;33m*\u001b[0m\u001b[0mmask2\u001b[0m\u001b[1;33m\u001b[0m\u001b[1;33m\u001b[0m\u001b[0m\n\u001b[0m\u001b[0;32m      2\u001b[0m \u001b[1;33m\u001b[0m\u001b[0m\n\u001b[0;32m      3\u001b[0m \u001b[1;31m#透過相乘，乘0的歸0，乘1的留下來\u001b[0m\u001b[1;33m\u001b[0m\u001b[1;33m\u001b[0m\u001b[1;33m\u001b[0m\u001b[0m\n\u001b[0;32m      4\u001b[0m \u001b[1;31m#但是乘不起來...\u001b[0m\u001b[1;33m\u001b[0m\u001b[1;33m\u001b[0m\u001b[1;33m\u001b[0m\u001b[0m\n",
            "\u001b[1;31mValueError\u001b[0m: operands could not be broadcast together with shapes (510,768,3) (510,768) "
          ]
        }
      ],
      "source": [
        "img = img*mask2\n",
        "\n",
        "#透過相乘，乘0的歸0，乘1的留下來\n",
        "#但是乘不起來..."
      ]
    },
    {
      "cell_type": "code",
      "execution_count": null,
      "metadata": {
        "id": "nd0fct7GJkkE",
        "outputId": "f42cf6e6-e119-438f-e7e3-524de775ac31"
      },
      "outputs": [
        {
          "data": {
            "text/plain": [
              "(510, 768)"
            ]
          },
          "execution_count": 16,
          "metadata": {},
          "output_type": "execute_result"
        }
      ],
      "source": [
        "#看一下尺寸\n",
        "mask2.shape"
      ]
    },
    {
      "cell_type": "code",
      "execution_count": null,
      "metadata": {
        "id": "3iAFRK49JkkF",
        "outputId": "f0993f22-fd3d-49b4-aa56-c739d86da054"
      },
      "outputs": [
        {
          "data": {
            "text/plain": [
              "(510, 768, 1)"
            ]
          },
          "execution_count": 17,
          "metadata": {},
          "output_type": "execute_result"
        }
      ],
      "source": [
        "mask2[:,:,np.newaxis].shape"
      ]
    },
    {
      "cell_type": "code",
      "execution_count": null,
      "metadata": {
        "id": "ptlUoOs8JkkF"
      },
      "outputs": [],
      "source": [
        "#調整一下再來\n",
        "img = img*mask2[:,:,np.newaxis]"
      ]
    },
    {
      "cell_type": "code",
      "execution_count": null,
      "metadata": {
        "id": "jDkCcqv0JkkF"
      },
      "outputs": [],
      "source": [
        "cv2.imwrite(\"grabcut-result.png\",img)\n",
        "cv2.imshow(\"Image\",img)\n",
        "cv2.waitKey(0)\n",
        "cv2.destroyAllWindows()"
      ]
    },
    {
      "cell_type": "markdown",
      "metadata": {
        "id": "usr3zOjAJkkF"
      },
      "source": [
        "## <font color=red ><小測驗>結果還是有點不完美，可以試試看調整iterCount，看看結果\n"
      ]
    },
    {
      "cell_type": "code",
      "execution_count": null,
      "metadata": {
        "id": "1GswyorkJkkG"
      },
      "outputs": [],
      "source": []
    },
    {
      "cell_type": "markdown",
      "metadata": {
        "id": "xjcAXIwyJkkG"
      },
      "source": [
        "## <font color=red ><答案>"
      ]
    },
    {
      "cell_type": "code",
      "execution_count": null,
      "metadata": {
        "id": "-OeXrlN9JkkG"
      },
      "outputs": [],
      "source": [
        "import cv2\n",
        "import numpy as np\n",
        "\n",
        "img = cv2.imread(\"person.jpg\")\n",
        "imgCopy = img.copy()\n",
        "mask = np.zeros(img.shape[:2], np.uint8)\n",
        "bgdModel = np.zeros((1,65),np.float64)\n",
        "fgdModel = np.zeros((1,65),np.float64)\n",
        "\n",
        "rect = cv2.selectROI(img)\n",
        "cv2.destroyAllWindows()\n",
        "\n",
        "for i in range(3,10):\n",
        "    mask = np.zeros(img.shape[:2], np.uint8)\n",
        "    bgdModel = np.zeros((1,65),np.float64)\n",
        "    fgdModel = np.zeros((1,65),np.float64)\n",
        "    cv2.grabCut(img,mask,rect,bgdModel,fgdModel,i,cv2.GC_INIT_WITH_RECT)\n",
        "    mask2 = np.where((mask==0)|(mask==2),0,1).astype('uint8')\n",
        "#     print(np.unique(mask2))\n",
        "    img_copy = img.copy()\n",
        "    img_copy = img_copy*mask2[:,:,np.newaxis]\n",
        "    cv2.imshow(f\"Image{i}\",img_copy)\n",
        "\n",
        "cv2.waitKey(0)\n",
        "cv2.destroyAllWindows()"
      ]
    },
    {
      "cell_type": "markdown",
      "metadata": {
        "id": "FPmaipj2JkkG"
      },
      "source": [
        "## <font color=red>手動調整還是最符合自己的想像啦!!-做一支自己的修圖筆刷"
      ]
    },
    {
      "cell_type": "code",
      "execution_count": null,
      "metadata": {
        "id": "-D1Z0CRDJkkG"
      },
      "outputs": [],
      "source": [
        "import cv2\n",
        "import numpy as np\n",
        "img = cv2.imread(\"person.jpg\")\n",
        "imgCopy = img.copy()\n",
        "\n",
        "mask = np.zeros(img.shape[:2], np.uint8)\n",
        "bgdModel = np.zeros((1,65),np.float64)\n",
        "fgdModel = np.zeros((1,65),np.float64)\n",
        "\n",
        "rect = cv2.selectROI(img)\n",
        "\n",
        "x,y,w,h = rect\n",
        "\n",
        "cv2.grabCut(img,mask,rect,bgdModel,fgdModel,5,cv2.GC_INIT_WITH_RECT)\n",
        "\n",
        "mask2 = np.where((mask==2)|(mask==0),0,1).astype('uint8')\n",
        "\n",
        "cv2.imshow(\"Mask2\",mask2*255)\n",
        "# cv2.imwrite(\"mask.png\",mask*80)\n",
        "# cv2.imwrite(\"mask2.png\",mask2*255)\n",
        "cv2.waitKey(0)\n",
        "cv2.destroyAllWindows()\n"
      ]
    },
    {
      "cell_type": "code",
      "execution_count": null,
      "metadata": {
        "id": "guNgPYYuJkkH"
      },
      "outputs": [],
      "source": [
        "imgResult = img*mask2[:,:,np.newaxis]\n",
        "cv2.imshow(\"Image\",imgResult)\n",
        "cv2.waitKey(0)\n",
        "cv2.destroyAllWindows()"
      ]
    },
    {
      "cell_type": "code",
      "execution_count": null,
      "metadata": {
        "id": "q5DWUrF_JkkH"
      },
      "outputs": [],
      "source": [
        "#把圖各準備一份\n",
        "img_mask = img.copy()\n",
        "mask2 = mask2*255\n",
        "mask_copy = mask2.copy()"
      ]
    },
    {
      "cell_type": "markdown",
      "metadata": {
        "id": "Q4Nzr-8bJkkH"
      },
      "source": [
        "### 開一個Sketcher class，來處理我們的\"筆刷事件\"\n",
        "----\n",
        "```\n",
        "Event:\n",
        " CV_EVENT_MOUSEMOVE     0         //滑動\n",
        " CV_EVENT_LBUTTONDOWN   1         //左鍵點擊\n",
        " CV_EVENT_RBUTTONDOWN   2         //右鍵點擊\n",
        " CV_EVENT_MBUTTONDOWN   3         //中鍵點擊\n",
        " CV_EVENT_LBUTTONUP     4         //左鍵放開\n",
        " CV_EVENT_RBUTTONUP     5         //右鍵放開\n",
        " CV_EVENT_MBUTTONUP     6         //中鍵放開\n",
        " CV_EVENT_LBUTTONDBLCLK 7         //左鍵雙擊\n",
        " CV_EVENT_RBUTTONDBLCLK 8         //右鍵雙擊\n",
        " CV_EVENT_MBUTTONDBLCLK 9         //中鍵雙擊\n",
        "```\n",
        "----\n",
        "\n",
        "```\n",
        "flags:\n",
        " CV_EVENT_FLAG_LBUTTON  1         //左鍵拖曳\n",
        " CV_EVENT_FLAG_RBUTTON  2         //右鍵拖曳\n",
        " CV_EVENT_FLAG_MBUTTON  4         //中鍵拖曳\n",
        " CV_EVENT_FLAG_CTRLKEY  8         //(8~15)按Ctrl不放事件\n",
        " CV_EVENT_FLAG_SHIFTKEY 16        //(16~31)按Shift不放事件\n",
        " CV_EVENT_FLAG_ALTKEY   32        //(32~39)按Alt不放事件\n",
        "```"
      ]
    },
    {
      "cell_type": "code",
      "execution_count": null,
      "metadata": {
        "id": "vc1Ak8Y1JkkH"
      },
      "outputs": [],
      "source": [
        "class Sketcher:\n",
        "    def __init__(self, windowname, dests, colors_func):\n",
        "\n",
        "        #視窗名稱\n",
        "        self.windowname = windowname\n",
        "\n",
        "        #顯示的圖片目標\n",
        "        #會塞兩張圖進來 顯示cut圖和mask圖\n",
        "        self.dests = dests\n",
        "\n",
        "        #顯示的顏色\n",
        "        self.colors_func = colors_func\n",
        "\n",
        "        #一啟動就要顯示結果\n",
        "        self.show()\n",
        "\n",
        "        #要記錄滑鼠座標位置\n",
        "        self.prev_pt = None\n",
        "\n",
        "\n",
        "        #把滑鼠的callback function裝上來\n",
        "        #windowname是設定要把function裝在哪個視窗\n",
        "        #on_mouse是下面設計的function，這個function是要給cv2.setMouseCallback呼叫的，每逢有滑鼠訊號，cv2就會把參數傳給我們的on_mouse\n",
        "        cv2.setMouseCallback(self.windowname, self.on_mouse)\n",
        "\n",
        "    def show(self):\n",
        "        #就是顯示圖\n",
        "        #會塞兩張圖進來 顯示cut圖和mask圖\n",
        "        cv2.imshow(self.windowname  , self.dests[0])\n",
        "        cv2.imshow(self.windowname + \": mask\"  , self.dests[1])\n",
        "\n",
        "    # onMouse function for Mouse Handling\n",
        "    # 處理滑鼠動作的指令\n",
        "    def on_mouse(self, event, x, y, flags, param):\n",
        "        #point座標\n",
        "        pt = (x, y)\n",
        "\n",
        "        #當滑鼠剛按下去，就先記錄一下這個點的座標，代表畫線任務開始，只要prev_pt不是None 下面的if判斷式就會進行\n",
        "        if event == cv2.EVENT_LBUTTONDOWN:\n",
        "            self.prev_pt = pt\n",
        "        elif event == cv2.EVENT_LBUTTONUP:  #鬆開就忘記座標，歸0，那下面線就畫不出來了，代表這個畫線任務結束\n",
        "            self.prev_pt = None\n",
        "\n",
        "        #self.prev_pt如果沒有歸零，就代表是同一個畫線任務仍在進行中\n",
        "        #CV_EVENT_FLAG_LBUTTON 的意思是 有左鍵拖曳的事件發生\n",
        "        #cv2.line(影像, 開始座標, 結束座標, 顏色, 線條寬度)\n",
        "        if self.prev_pt and cv2.EVENT_FLAG_LBUTTON:\n",
        "            #針對兩個圖分別處理標示\n",
        "            for dst, color in zip(self.dests, self.colors_func()):\n",
        "                #((0,0,255), 0)\n",
        "                #隨著你畫線，會開始在兩張圖裡面開始標註color，第一張圖就會配你設計的(0,0,255)，如果第二張圖就會用後面那個0了\n",
        "                cv2.line(dst, self.prev_pt, pt, color, 5)\n",
        "            #每次畫了線就更新一下起點，那你就會畫出一條線，如果這句刪掉會怎樣?就會每次原點出發\n",
        "            self.prev_pt = pt\n",
        "            self.show()"
      ]
    },
    {
      "cell_type": "code",
      "execution_count": null,
      "metadata": {
        "id": "422_a4v-JkkI",
        "outputId": "7c70ac78-9cd0-4279-a9f4-50f013f2ce61"
      },
      "outputs": [
        {
          "name": "stdout",
          "output_type": "stream",
          "text": [
            "exiting...\n"
          ]
        }
      ],
      "source": [
        "while True:\n",
        "    #把蒐集到鍵盤的訊號存起來，下面就開始根據不同的訊號，開始不同的處理\n",
        "    ch = cv2.waitKey()\n",
        "\n",
        "    #Quit\n",
        "    #按esc\n",
        "    if ch == 27:\n",
        "        print(\"exiting...\")\n",
        "        #存照片，不接受中文名稱\n",
        "        cv2.imwrite(\"cut_result.png\",img_mask)\n",
        "        cv2.imwrite(\"mask_grabcut.png\",mask2)\n",
        "        break\n",
        "\n",
        "    # 按r的時候Reset\n",
        "    elif ch == ord('r'):\n",
        "        print(\"重新開始...\")\n",
        "        img_mask = img.copy()\n",
        "        mask2 = mask_copy.copy()\n",
        "        #處理成0或1\n",
        "        mask2 = mask2//255\n",
        "\n",
        "        #切割、重分類\n",
        "        #沒有設定rect，改用None\n",
        "        cv2.grabCut(img,mask2,None,bgdModel,fgdModel,5,cv2.GC_INIT_WITH_MASK)\n",
        "        mask2 = np.where((mask2==2)|(mask2==0),0,1).astype('uint8')\n",
        "        #準備兩個要顯示的圖\n",
        "        img_mask = img*mask2[:,:,np.newaxis]\n",
        "        mask2 = mask2*255\n",
        "        #'image'是sketcher show的時候，視窗的名稱\n",
        "        # [img_mask, mask2] 是等一下要顯示的cut圖和mask圖\n",
        "        # lambda是等一下sketch顯示的顏色\n",
        "        sketch = Sketcher('image', [img_mask, mask2], lambda : ((255,0,0), 255))\n",
        "        sketch.show()\n",
        "\n",
        "    # 按了b，表示改成背景選取\n",
        "    elif ch == ord('b'):\n",
        "        print(\"處理背景...\")\n",
        "\n",
        "        sketch = Sketcher('image', [img_mask, mask2], lambda : ((0,0,255), 0))      #這裡lambda的設定就是(img_mask的顏色，mask2的顏色)，因為這是畫背景，所以mask2的顏色是0\n",
        "        sketch.show()\n",
        "\n",
        "    # 按了f，表示改成前景選取\n",
        "    elif ch == ord('f'):\n",
        "        print(\"處理前景...\")\n",
        "        sketch = Sketcher('image', [img_mask, mask2], lambda : ((255,0,0), 255))    #這裡lambda的設定就是(img_mask的顏色，mask2的顏色)，因為這是畫前景，所以mask2的顏色是1\n",
        "        sketch.show()\n",
        "\n",
        "    else:\n",
        "#         print(\"進行 grabcut...\")\n",
        "        #處理成0或1\n",
        "        mask2 = mask2//255\n",
        "        #沒有設定rect，改用None\n",
        "        cv2.grabCut(img,mask2,None,bgdModel,fgdModel,5,cv2.GC_INIT_WITH_MASK)\n",
        "        mask2 = np.where((mask2==2)|(mask2==0),0,1).astype('uint8')\n",
        "        img_mask = img*mask2[:,:,np.newaxis]\n",
        "        mask2 = mask2*255\n",
        "#         print(\"處理好了...前台看看...\")\n",
        "        sketch = Sketcher('image', [img_mask, mask2], lambda : ((255,0,0), 255))\n",
        "        sketch.show()\n",
        "\n",
        "\n",
        "cv2.destroyAllWindows()"
      ]
    }
  ],
  "metadata": {
    "kernelspec": {
      "display_name": "Python 3 (ipykernel)",
      "language": "python",
      "name": "python3"
    },
    "language_info": {
      "codemirror_mode": {
        "name": "ipython",
        "version": 3
      },
      "file_extension": ".py",
      "mimetype": "text/x-python",
      "name": "python",
      "nbconvert_exporter": "python",
      "pygments_lexer": "ipython3",
      "version": "3.8.8"
    },
    "colab": {
      "provenance": [],
      "include_colab_link": true
    }
  },
  "nbformat": 4,
  "nbformat_minor": 0
}