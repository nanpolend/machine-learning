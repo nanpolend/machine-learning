{
  "nbformat": 4,
  "nbformat_minor": 0,
  "metadata": {
    "colab": {
      "provenance": [],
      "authorship_tag": "ABX9TyO7pyIphi7+VcVF9py0cZx4",
      "include_colab_link": true
    },
    "kernelspec": {
      "name": "python3",
      "display_name": "Python 3"
    },
    "language_info": {
      "name": "python"
    }
  },
  "cells": [
    {
      "cell_type": "markdown",
      "metadata": {
        "id": "view-in-github",
        "colab_type": "text"
      },
      "source": [
        "<a href=\"https://colab.research.google.com/github/nanpolend/machine-learning/blob/master/%E9%90%B5%E9%81%94%E5%B0%BC%E8%99%9F%E7%94%9F%E5%AD%98%E9%A0%90%E6%B8%AC_deepseek%E4%BF%AE.ipynb\" target=\"_parent\"><img src=\"https://colab.research.google.com/assets/colab-badge.svg\" alt=\"Open In Colab\"/></a>"
      ]
    },
    {
      "source": [
        "import requests\n",
        "import io\n",
        "from sklearn import preprocessing\n",
        "from sklearn.linear_model import LogisticRegression\n",
        "from sklearn.metrics import confusion_matrix, accuracy_score\n",
        "import pandas as pd\n",
        "\n",
        "# 架構圖:\n",
        "# 1. 資料獲取: 從 URL 下載 titanic.csv 檔案\n",
        "# 2. 資料預處理:\n",
        "#    - 使用 StringIO 將檔案內容轉換為檔案物件\n",
        "#    - 使用 pandas 讀取資料\n",
        "#    - 處理缺失值: 填充年齡缺失值、移除必要特徵的缺失值\n",
        "#    - 特徵工程: 使用 LabelEncoder 編碼 Pclass 特徵\n",
        "# 3. 模型訓練:\n",
        "#    - 創建特徵矩陣 X 和目標變量 y\n",
        "#    - 初始化 LogisticRegression 模型\n",
        "#    - 使用訓練資料訓練模型\n",
        "# 4. 模型評估:\n",
        "#    - 使用模型進行預測\n",
        "#    - 計算混淆矩陣、準確率等評估指標\n",
        "\n",
        "# 下載 titanic.csv 檔案\n",
        "url = \"https://calmcode.io/static/data/titanic.csv\"\n",
        "response = requests.get(url)\n",
        "titanic_data = response.content\n",
        "\n",
        "# 使用 StringIO 將檔案內容轉換為檔案物件\n",
        "titanic_file = io.StringIO(titanic_data.decode('utf-8'))\n",
        "\n",
        "# 讀取資料並處理缺失值\n",
        "titanic = pd.read_csv(titanic_file)\n",
        "# Print the column names to verify the correct name for the age column\n",
        "print(titanic.columns)\n",
        "# Access the age column using the correct name, for instance, if the column name is 'age' instead of 'Age'\n",
        "titanic[\"age\"] = titanic[\"age\"].fillna(titanic[\"age\"].median())  # 填充年齡缺失值\n",
        "# Assuming 'sex' and 'pclass' are the correct column names based on the URL\n",
        "titanic = titanic.dropna(subset=[\"pclass\", \"sex\"])  # 移除必要特徵的缺失值\n",
        "\n",
        "# 特徵工程\n",
        "label_encoder = preprocessing.LabelEncoder()\n",
        "encoded_class = label_encoder.fit_transform(titanic[\"pclass\"])\n",
        "\n",
        "# Add a new column for encoded sex\n",
        "titanic[\"sex_code\"] = label_encoder.fit_transform(titanic[\"sex\"])\n",
        "\n",
        "# 創建特徵矩陣（使用字典方式更清晰）\n",
        "X = pd.DataFrame({\n",
        "    \"Pclass\": encoded_class,\n",
        "    \"SexCode\": titanic[\"sex_code\"],  # Use the new encoded sex column\n",
        "    \"Age\": titanic[\"age\"]\n",
        "})\n",
        "\n",
        "# 目標變量\n",
        "y = titanic[\"survived\"]\n",
        "\n",
        "# 初始化模型\n",
        "logistic = LogisticRegression(max_iter=1000)  # 增加迭代次數確保收斂\n",
        "\n",
        "# 訓練模型\n",
        "logistic.fit(X, y)\n",
        "\n",
        "# 輸出模型參數\n",
        "print(\"迴歸係數:\", logistic.coef_)\n",
        "print(\"截距:\", logistic.intercept_)\n",
        "\n",
        "# 模型評估\n",
        "preds = logistic.predict(X)\n",
        "print(\"\\n混淆矩陣:\")\n",
        "print(confusion_matrix(y, preds))\n",
        "print(\"\\n模型評估指標:\")\n",
        "print(f\"準確率: {accuracy_score(y, preds):.2f}\")\n",
        "print(f\"訓練集樣本數: {len(X)}\")\n",
        "print(f\"特徵數量: {X.shape[1]}\")\n",
        "print(f\"類別分布:\\n{y.value_counts()}\")"
      ],
      "cell_type": "code",
      "metadata": {
        "colab": {
          "base_uri": "https://localhost:8080/"
        },
        "id": "t2F3BTDQSRxv",
        "outputId": "340e7bd1-719f-4644-cb8c-f22aac41ba93"
      },
      "execution_count": 4,
      "outputs": [
        {
          "output_type": "stream",
          "name": "stdout",
          "text": [
            "Index(['survived', 'pclass', 'name', 'sex', 'age', 'fare', 'sibsp', 'parch'], dtype='object')\n",
            "迴歸係數: [[-1.24883444 -2.4123266  -0.03611812]]\n",
            "截距: [3.63192566]\n",
            "\n",
            "混淆矩陣:\n",
            "[[357  67]\n",
            " [ 83 207]]\n",
            "\n",
            "模型評估指標:\n",
            "準確率: 0.79\n",
            "訓練集樣本數: 714\n",
            "特徵數量: 3\n",
            "類別分布:\n",
            "survived\n",
            "0    424\n",
            "1    290\n",
            "Name: count, dtype: int64\n"
          ]
        }
      ]
    }
  ]
}