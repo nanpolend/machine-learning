{
  "nbformat": 4,
  "nbformat_minor": 0,
  "metadata": {
    "colab": {
      "provenance": [],
      "authorship_tag": "ABX9TyOPQ1Vx83e2nim5kSMWr8p8",
      "include_colab_link": true
    },
    "kernelspec": {
      "name": "python3",
      "display_name": "Python 3"
    },
    "language_info": {
      "name": "python"
    }
  },
  "cells": [
    {
      "cell_type": "markdown",
      "metadata": {
        "id": "view-in-github",
        "colab_type": "text"
      },
      "source": [
        "<a href=\"https://colab.research.google.com/github/nanpolend/365E5/blob/master/%E9%9B%BB%E5%BD%B1%E5%88%86%E9%A1%9E%E7%9B%B8%E4%BC%BC%E5%BA%A6.ipynb\" target=\"_parent\"><img src=\"https://colab.research.google.com/assets/colab-badge.svg\" alt=\"Open In Colab\"/></a>"
      ]
    },
    {
      "cell_type": "code",
      "execution_count": null,
      "metadata": {
        "colab": {
          "base_uri": "https://localhost:8080/"
        },
        "id": "ekV8fJEUsPdW",
        "outputId": "25f976e0-370a-4dda-a0a8-e9862876874f"
      },
      "outputs": [
        {
          "output_type": "stream",
          "name": "stdout",
          "text": [
            "與玩命關頭最相似的電影:雙子殺手\n",
            "相似度值:2.449489742783178\n",
            "影片:復仇者聯盟,相似度:  7.14\n",
            "影片:決戰中途島,相似度:  8.66\n",
            "影片:冰雪奇緣,相似度: 16.19\n",
            "影片:雙子殺手,相似度:  2.45\n"
          ]
        }
      ],
      "source": [
        "import math\n",
        "film =[5,7,8,10,2]\n",
        "film_titles =[    '復仇者聯盟',    '決戰中途島',    '冰雪奇緣',    '雙子殺手']\n",
        "film_features = [[2,8,8,5,6],\n",
        "[5,6,9,2,5],\n",
        "[8,2,0,0,10],\n",
        "[5,8,8,8,3],\n",
        "]\n",
        "dist = []\n",
        "for f in film_features:\n",
        "    distances = 0\n",
        "    for i in range(len(f)):\n",
        "        distances += (film[i] - f[i])**2\n",
        "    dist.append(math.sqrt(distances))\n",
        "\n",
        "min_distance = min(dist)\n",
        "min_index = dist.index(min_distance)\n",
        "print(f\"與玩命關頭最相似的電影:{film_titles[min_index]}\")\n",
        "print(f\"相似度值:{min_distance}\")\n",
        "for i in range(len(dist)):\n",
        "  print(f\"影片:{film_titles[i]},相似度:{dist[i]:6.2f}\")"
      ]
    }
  ]
}