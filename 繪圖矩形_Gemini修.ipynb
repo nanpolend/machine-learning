{
  "nbformat": 4,
  "nbformat_minor": 0,
  "metadata": {
    "colab": {
      "provenance": [],
      "authorship_tag": "ABX9TyMatjRPdzmFW53Iku7D0hjR",
      "include_colab_link": true
    },
    "kernelspec": {
      "name": "python3",
      "display_name": "Python 3"
    },
    "language_info": {
      "name": "python"
    }
  },
  "cells": [
    {
      "cell_type": "markdown",
      "metadata": {
        "id": "view-in-github",
        "colab_type": "text"
      },
      "source": [
        "<a href=\"https://colab.research.google.com/github/nanpolend/machine-learning/blob/master/%E7%B9%AA%E5%9C%96%E7%9F%A9%E5%BD%A2_Gemini%E4%BF%AE.ipynb\" target=\"_parent\"><img src=\"https://colab.research.google.com/assets/colab-badge.svg\" alt=\"Open In Colab\"/></a>"
      ]
    },
    {
      "source": [
        "import cv2 # 導入 OpenCV 函式庫，用於影像處理\n",
        "import numpy as np # 導入 NumPy 函式庫，用於數值運算，特別是陣列和矩陣\n",
        "from google.colab.patches import cv2_imshow # 從 google.colab.patches 導入 cv2_imshow 函數，用於在 Google Colab 環境中顯示影像\n",
        "\n",
        "# 架構圖：\n",
        "#\n",
        "# 1. 導入函式庫: cv2, numpy, google.colab.patches\n",
        "# 2. 建立影像: 使用 numpy.zeros 建立空白影像 gc\n",
        "# 3. 設定背景顏色: 將 gc 的像素設定為淺灰色\n",
        "# 4. 繪製矩形: 使用 cv2.rectangle 繪製兩個矩形 (一個空心，一個實心)\n",
        "# 5. 讀取外部影像: 使用 cv2.imread 讀取 'image.jpg'\n",
        "# 6. 顯示影像: 使用 cv2_imshow 顯示影像\n",
        "# 7. 等待使用者輸入: 使用 cv2.waitKey 等待按鍵\n",
        "# 8. 關閉視窗: 使用 cv2.destroyAllWindows 關閉所有視窗\n",
        "\n",
        "\n",
        "# 建立一個 300x300 像素，具有 3 個顏色通道 (RGB) 的黑色影像，並將其儲存在變數 gc 中\n",
        "gc = np.zeros((300, 300, 3), dtype=np.uint8)\n",
        "# 將影像 gc 的所有像素設定為淺灰色 (250, 250, 250)\n",
        "gc[:]= [250, 250, 250]\n",
        "# 在影像 gc 上繪製一個藍色矩形\n",
        "# (50, 50) 和 (200, 200) 分別代表矩形的左上角和右下角座標\n",
        "# (0, 0, 255) 是矩形的顏色 (藍色，BGR 格式)\n",
        "# 10 是矩形線條的粗細\n",
        "cv2.rectangle(gc, (50, 50), (200, 200), (0, 0, 255), 10)\n",
        "# 在影像 gc 上繪製一個填滿的矩形\n",
        "# (150, 150) 和 (200, 250) 分別代表矩形的左上角和右下角座標\n",
        "# (250, 150, 100) 是矩形的填充顏色\n",
        "# -1 表示填充矩形\n",
        "cv2.rectangle(gc, (150, 150), (200, 250), (250, 150, 100), -1)\n",
        "\n",
        "# 讀取名為 'image.jpg' 的影像檔案，並將其儲存在變數 img 中\n",
        "img = cv2.imread('image.jpg')\n",
        "# 在標題為 'image' 的視窗中顯示載入的影像 img\n",
        "cv2_imshow('image', img)\n",
        "\n",
        "# 暫停程式執行，等待使用者按下任何按鍵\n",
        "cv2.waitKey(0)\n",
        "# 關閉所有 OpenCV 視窗\n",
        "cv2.destroyAllWindows()"
      ],
      "cell_type": "code",
      "metadata": {
        "id": "W7qNskueVm_3"
      },
      "execution_count": null,
      "outputs": []
    }
  ]
}