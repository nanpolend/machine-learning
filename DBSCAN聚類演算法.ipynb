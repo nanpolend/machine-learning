{
  "nbformat": 4,
  "nbformat_minor": 0,
  "metadata": {
    "colab": {
      "provenance": [],
      "authorship_tag": "ABX9TyOgEi9gJP0Q7pEtXqtYYVYJ",
      "include_colab_link": true
    },
    "kernelspec": {
      "name": "python3",
      "display_name": "Python 3"
    },
    "language_info": {
      "name": "python"
    }
  },
  "cells": [
    {
      "cell_type": "markdown",
      "metadata": {
        "id": "view-in-github",
        "colab_type": "text"
      },
      "source": [
        "<a href=\"https://colab.research.google.com/github/nanpolend/365E5/blob/master/DBSCAN%E8%81%9A%E9%A1%9E%E6%BC%94%E7%AE%97%E6%B3%95.ipynb\" target=\"_parent\"><img src=\"https://colab.research.google.com/assets/colab-badge.svg\" alt=\"Open In Colab\"/></a>"
      ]
    },
    {
      "cell_type": "code",
      "execution_count": 3,
      "metadata": {
        "id": "vUeUSvkspmRl",
        "colab": {
          "base_uri": "https://localhost:8080/"
        },
        "outputId": "4bb7e41e-95e7-407f-d2e7-37ffb40310c0"
      },
      "outputs": [
        {
          "output_type": "stream",
          "name": "stdout",
          "text": [
            "[ 0  0  0  1  1 -1 -1]\n"
          ]
        }
      ],
      "source": [
        "from sklearn.cluster import DBSCAN\n",
        "import numpy as np\n",
        "X = np.array([[2, 3], [3, 4], [4, 5],[18, 71], [19, 73],[20, 67], [125, 180]])\n",
        "clustering = DBSCAN(eps=3, min_samples=2)\n",
        "clustering.fit(X)\n",
        "Y_pred = clustering.labels_\n",
        "print(clustering.labels_)"
      ]
    }
  ]
}