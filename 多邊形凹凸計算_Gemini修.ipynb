{
  "nbformat": 4,
  "nbformat_minor": 0,
  "metadata": {
    "colab": {
      "provenance": [],
      "authorship_tag": "ABX9TyMmVf21p7lgWLjxmZ4FtV79",
      "include_colab_link": true
    },
    "kernelspec": {
      "name": "python3",
      "display_name": "Python 3"
    },
    "language_info": {
      "name": "python"
    }
  },
  "cells": [
    {
      "cell_type": "markdown",
      "metadata": {
        "id": "view-in-github",
        "colab_type": "text"
      },
      "source": [
        "<a href=\"https://colab.research.google.com/github/nanpolend/machine-learning/blob/master/%E5%A4%9A%E9%82%8A%E5%BD%A2%E5%87%B9%E5%87%B8%E8%A8%88%E7%AE%97_Gemini%E4%BF%AE.ipynb\" target=\"_parent\"><img src=\"https://colab.research.google.com/assets/colab-badge.svg\" alt=\"Open In Colab\"/></a>"
      ]
    },
    {
      "source": [
        "+-------+\n",
        "                                    | star.png|\n",
        "                                    +-------+\n",
        "                                        |\n",
        "                                        V\n",
        "                                +---------------+\n",
        "                                | cv2.imread() |  讀取影像\n",
        "                                +---------------+\n",
        "                                        |\n",
        "                                        V\n",
        "                        +-------------------------+\n",
        "                        | cv2.cvtColor()         |  轉換成灰階影像\n",
        "                        +-------------------------+\n",
        "                                        |\n",
        "                                        V\n",
        "                        +-------------------------+\n",
        "                        | cv2.Canny()            |  邊緣偵測\n",
        "                        +-------------------------+\n",
        "                                        |\n",
        "                                        V\n",
        "                        +-------------------------+\n",
        "                        | cv2.dilate()           |  膨脹邊緣\n",
        "                        +-------------------------+\n",
        "                                        |\n",
        "                                        V\n",
        "                        +-------------------------+\n",
        "                        | cv2.findContours()    |  尋找輪廓\n",
        "                        +-------------------------+\n",
        "                                        |\n",
        "                                        V\n",
        "                        +-------------------------+\n",
        "                        | cv2.approxPolyDP()    |  簡化輪廓\n",
        "                        +-------------------------+\n",
        "                                        |\n",
        "                                        V\n",
        "                        +-------------------------+\n",
        "                        | cv2.convexHull()       |  計算凸包\n",
        "                        +-------------------------+\n",
        "                                        |\n",
        "                                        V\n",
        "                        +-------------------------+\n",
        "                        | cv2.convexityDefects()|  尋找凸缺陷\n",
        "                        +-------------------------+\n",
        "                                        |\n",
        "                                        V\n",
        "                        +-------------------------+\n",
        "                        | 繪製線條和圓圈      |  標記缺陷\n",
        "                        +-------------------------+\n",
        "                                        |\n",
        "                                        V\n",
        "                        +-------------------------+\n",
        "                        | cv2.imshow()           |  顯示影像\n",
        "                        +-------------------------+"
      ],
      "cell_type": "code",
      "metadata": {
        "id": "JMNkVeQox9kI"
      },
      "execution_count": null,
      "outputs": []
    },
    {
      "source": [
        "import cv2  # 導入OpenCV庫\n",
        "\n",
        "# 讀取影像\n",
        "frame = cv2.imread('star.png')\n",
        "\n",
        "# 轉換成灰階影像\n",
        "gray = cv2.cvtColor(frame, cv2.COLOR_BGR2GRAY)\n",
        "\n",
        "# 邊緣偵測\n",
        "edged = cv2.Canny(gray, 50, 150)\n",
        "\n",
        "# 膨脹邊緣，讓邊緣更明顯\n",
        "edged = cv2.dilate(edged, None, iterations=1)\n",
        "\n",
        "# 尋找輪廓\n",
        "contours, hierarchy = cv2.findContours(edged, cv2.RETR_EXTERNAL, cv2.CHAIN_APPROX_SIMPLE)\n",
        "\n",
        "# 取得第一個輪廓\n",
        "cnt = contours[0]\n",
        "\n",
        "# 簡化輪廓\n",
        "cnt = cv2.approxPolyDP(cnt, 30, True)\n",
        "\n",
        "# 計算凸包\n",
        "hull = cv2.convexHull(cnt, returnPoints=False)\n",
        "\n",
        "# 尋找凸缺陷\n",
        "defects = cv2.convexityDefects(cnt, hull)\n",
        "\n",
        "# 顯示凸包和凸缺陷的數量\n",
        "print('凸包的點數量：{}'.format(len(hull)))\n",
        "print('凸缺陷的數量：{}'.format(len(defects)))\n",
        "\n",
        "# 繪製線條和圓圈，標記缺陷\n",
        "for i in range(defects.shape[0]):\n",
        "    s, e, f, d = defects[i, 0]  # 取得缺陷的起始點、結束點、最遠點和距離\n",
        "    start = tuple(cnt[s][0])  # 缺陷起始點座標\n",
        "    end = tuple(cnt[e][0])  # 缺陷結束點座標\n",
        "    far = tuple(cnt[f][0])  # 缺陷最遠點座標\n",
        "\n",
        "    # 在原圖上繪製綠色線條，連接缺陷的起始點和結束點\n",
        "    cv2.line(frame, start, end, (0, 255, 0), 2)\n",
        "\n",
        "    # 在原圖上繪製紅色圓圈，標記缺陷的最遠點\n",
        "    cv2.circle(frame, far, 5, (0, 0, 255), -1)\n",
        "\n",
        "# 顯示處理後的影像\n",
        "cv2.imshow('frame', frame)\n",
        "cv2.waitKey(0)\n",
        "cv2.destroyAllWindows()"
      ],
      "cell_type": "code",
      "metadata": {
        "colab": {
          "base_uri": "https://localhost:8080/",
          "height": 237
        },
        "id": "ZRXxnxA8yBdN",
        "outputId": "3a8e7b1e-a982-4967-c65e-638860383eda"
      },
      "execution_count": 1,
      "outputs": [
        {
          "output_type": "error",
          "ename": "error",
          "evalue": "OpenCV(4.11.0) /io/opencv/modules/imgproc/src/color.cpp:199: error: (-215:Assertion failed) !_src.empty() in function 'cvtColor'\n",
          "traceback": [
            "\u001b[0;31m---------------------------------------------------------------------------\u001b[0m",
            "\u001b[0;31merror\u001b[0m                                     Traceback (most recent call last)",
            "\u001b[0;32m<ipython-input-1-0f97f1cbd80f>\u001b[0m in \u001b[0;36m<cell line: 0>\u001b[0;34m()\u001b[0m\n\u001b[1;32m      5\u001b[0m \u001b[0;34m\u001b[0m\u001b[0m\n\u001b[1;32m      6\u001b[0m \u001b[0;31m# 轉換成灰階影像\u001b[0m\u001b[0;34m\u001b[0m\u001b[0;34m\u001b[0m\u001b[0m\n\u001b[0;32m----> 7\u001b[0;31m \u001b[0mgray\u001b[0m \u001b[0;34m=\u001b[0m \u001b[0mcv2\u001b[0m\u001b[0;34m.\u001b[0m\u001b[0mcvtColor\u001b[0m\u001b[0;34m(\u001b[0m\u001b[0mframe\u001b[0m\u001b[0;34m,\u001b[0m \u001b[0mcv2\u001b[0m\u001b[0;34m.\u001b[0m\u001b[0mCOLOR_BGR2GRAY\u001b[0m\u001b[0;34m)\u001b[0m\u001b[0;34m\u001b[0m\u001b[0;34m\u001b[0m\u001b[0m\n\u001b[0m\u001b[1;32m      8\u001b[0m \u001b[0;34m\u001b[0m\u001b[0m\n\u001b[1;32m      9\u001b[0m \u001b[0;31m# 邊緣偵測\u001b[0m\u001b[0;34m\u001b[0m\u001b[0;34m\u001b[0m\u001b[0m\n",
            "\u001b[0;31merror\u001b[0m: OpenCV(4.11.0) /io/opencv/modules/imgproc/src/color.cpp:199: error: (-215:Assertion failed) !_src.empty() in function 'cvtColor'\n"
          ]
        }
      ]
    }
  ]
}