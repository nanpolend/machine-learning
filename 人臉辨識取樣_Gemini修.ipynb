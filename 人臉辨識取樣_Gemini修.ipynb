{
  "nbformat": 4,
  "nbformat_minor": 0,
  "metadata": {
    "colab": {
      "provenance": [],
      "authorship_tag": "ABX9TyOQKogHM6s91dbSk+cUhvaF",
      "include_colab_link": true
    },
    "kernelspec": {
      "name": "python3",
      "display_name": "Python 3"
    },
    "language_info": {
      "name": "python"
    }
  },
  "cells": [
    {
      "cell_type": "markdown",
      "metadata": {
        "id": "view-in-github",
        "colab_type": "text"
      },
      "source": [
        "<a href=\"https://colab.research.google.com/github/nanpolend/machine-learning/blob/master/%E4%BA%BA%E8%87%89%E8%BE%A8%E8%AD%98%E5%8F%96%E6%A8%A3_Gemini%E4%BF%AE.ipynb\" target=\"_parent\"><img src=\"https://colab.research.google.com/assets/colab-badge.svg\" alt=\"Open In Colab\"/></a>"
      ]
    },
    {
      "source": [
        "+-----------------+\n",
        "| 輸入影像/視訊 |\n",
        "+-----------------+\n",
        "      |\n",
        "      V\n",
        "+-----------------+\n",
        "| 灰階轉換 (gray)|\n",
        "+-----------------+\n",
        "      |\n",
        "      V\n",
        "+-----------------+\n",
        "| 人臉偵測 (faces)|\n",
        "+-----------------+\n",
        "      |\n",
        "      V\n",
        "+-----------------+\n",
        "| 繪製方框/儲存 |\n",
        "+-----------------+\n",
        "      |\n",
        "      V\n",
        "+-----------------+\n",
        "| 顯示影像/結束 |\n",
        "+-----------------+"
      ],
      "cell_type": "code",
      "metadata": {
        "id": "j-BeThYv2pgG"
      },
      "execution_count": null,
      "outputs": []
    },
    {
      "source": [
        "import cv2\n",
        "\n",
        "# 載入預訓練的人臉偵測模型\n",
        "face_cascade = cv2.CascadeClassifier(cv2.data.haarcascades + 'haarcascade_frontalface_default.xml')\n",
        "\n",
        "# 初始化變數\n",
        "n = 0  # 影像幀數計數器\n",
        "index = 0  # 儲存檔案編號\n",
        "total = 100  # 總共要儲存的人臉影像數量\n",
        "\n",
        "\n",
        "def saveImage(image, index):\n",
        "    # 儲存影像的函數，這裡僅作為範例，您需要根據實際情況修改\n",
        "    filename = f'face_{index}.jpg'\n",
        "    cv2.imwrite(filename, image)\n",
        "    print(f'已儲存影像: {filename}')\n",
        "\n",
        "\n",
        "# 讀取視訊或影像\n",
        "# 請將 'your_video_or_image_path' 替換為您的視訊或影像路徑\n",
        "cap = cv2.VideoCapture('your_video_or_image_path')\n",
        "\n",
        "while True:\n",
        "    ret, frame = cap.read()\n",
        "    if not ret:\n",
        "        print('無法讀取視訊或影像')\n",
        "        break\n",
        "\n",
        "    # 灰階轉換\n",
        "    gray = cv2.cvtColor(frame, cv2.COLOR_BGR2GRAY)\n",
        "\n",
        "    # 人臉偵測\n",
        "    faces = face_cascade.detectMultiScale(gray, 1.1, 3)\n",
        "\n",
        "    # 繪製方框/儲存\n",
        "    for (x, y, w, h) in faces:\n",
        "        frame = cv2.rectangle(frame, (x, y), (x + w, y + h), (0, 255, 0), 3)\n",
        "\n",
        "        if n % 5 == 0:\n",
        "            face_image = cv2.resize(gray[y: y + h, x: x + w], (488, 480))\n",
        "            saveImage(face_image, index)\n",
        "            index += 1\n",
        "            if index >= total:\n",
        "                print('訓練資料獲取完成')\n",
        "                n = -1\n",
        "                break\n",
        "\n",
        "    n += 1\n",
        "\n",
        "    # 顯示影像/結束\n",
        "    cv2.imshow('video', frame)\n",
        "    if cv2.waitKey(1) == 27:\n",
        "        cv2.destroyAllWindows()\n",
        "        break\n",
        "\n",
        "cap.release()"
      ],
      "cell_type": "code",
      "metadata": {
        "colab": {
          "base_uri": "https://localhost:8080/"
        },
        "id": "KbLHMG8l26-l",
        "outputId": "4d9e7832-8a0f-48ec-9611-e8bdea3e3e74"
      },
      "execution_count": 2,
      "outputs": [
        {
          "output_type": "stream",
          "name": "stdout",
          "text": [
            "無法讀取視訊或影像\n"
          ]
        }
      ]
    }
  ]
}