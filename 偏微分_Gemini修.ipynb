{
  "nbformat": 4,
  "nbformat_minor": 0,
  "metadata": {
    "colab": {
      "provenance": [],
      "authorship_tag": "ABX9TyMi/eu8HQq8jfYTLgR9etC6",
      "include_colab_link": true
    },
    "kernelspec": {
      "name": "python3",
      "display_name": "Python 3"
    },
    "language_info": {
      "name": "python"
    }
  },
  "cells": [
    {
      "cell_type": "markdown",
      "metadata": {
        "id": "view-in-github",
        "colab_type": "text"
      },
      "source": [
        "<a href=\"https://colab.research.google.com/github/nanpolend/machine-learning/blob/master/%E5%81%8F%E5%BE%AE%E5%88%86_Gemini%E4%BF%AE.ipynb\" target=\"_parent\"><img src=\"https://colab.research.google.com/assets/colab-badge.svg\" alt=\"Open In Colab\"/></a>"
      ]
    },
    {
      "source": [
        "+-----------------+      +-----------------+      +-----------------+\n",
        "| 輸入變數 (x)    | ---> | 函數計算 (y=x²) | ---> | 梯度計算 (dy/dx) |\n",
        "+-----------------+      +-----------------+      +-----------------+\n",
        "       ^                                               |\n",
        "       |                                               v\n",
        "       +-----------------------------------------------+\n",
        "                     TensorFlow 自動微分"
      ],
      "cell_type": "code",
      "metadata": {
        "id": "-ht96PjAmeND"
      },
      "execution_count": null,
      "outputs": []
    },
    {
      "source": [
        "import numpy as np\n",
        "import tensorflow as tf\n",
        "\n",
        "# 定義變數 x，初始值為 3.0\n",
        "x = tf.Variable(3.0)\n",
        "\n",
        "# 使用 tf.GradientTape() 紀錄計算過程\n",
        "with tf.GradientTape() as g:\n",
        "    # 定義函數 y = x²\n",
        "    y = x * x\n",
        "\n",
        "# 計算 y 對 x 的梯度 (dy/dx)\n",
        "dy_dx = g.gradient(y, x)\n",
        "\n",
        "# 輸出梯度的值\n",
        "print(dy_dx.numpy())"
      ],
      "cell_type": "code",
      "metadata": {
        "colab": {
          "base_uri": "https://localhost:8080/"
        },
        "id": "vC9cXYw7mmGs",
        "outputId": "b07d85c3-7c22-4d22-977c-125dccbe2f23"
      },
      "execution_count": 1,
      "outputs": [
        {
          "output_type": "stream",
          "name": "stdout",
          "text": [
            "6.0\n"
          ]
        }
      ]
    }
  ]
}