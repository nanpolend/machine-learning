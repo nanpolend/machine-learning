{
  "nbformat": 4,
  "nbformat_minor": 0,
  "metadata": {
    "colab": {
      "provenance": [],
      "authorship_tag": "ABX9TyMbyn00M22clMvfH1xdz5B7",
      "include_colab_link": true
    },
    "kernelspec": {
      "name": "python3",
      "display_name": "Python 3"
    },
    "language_info": {
      "name": "python"
    }
  },
  "cells": [
    {
      "cell_type": "markdown",
      "metadata": {
        "id": "view-in-github",
        "colab_type": "text"
      },
      "source": [
        "<a href=\"https://colab.research.google.com/github/nanpolend/machine-learning/blob/master/%E6%88%B0%E5%A0%B4%E6%89%93%E5%9C%B0%E9%BC%A0.ipynb\" target=\"_parent\"><img src=\"https://colab.research.google.com/assets/colab-badge.svg\" alt=\"Open In Colab\"/></a>"
      ]
    },
    {
      "source": [
        "+-----------------+\n",
        "                                     | 載入影像         |\n",
        "                                     +--------+---------+\n",
        "                                              |\n",
        "                                              v\n",
        "                            +-----------------+-----------------+\n",
        "                            | Haar Cascades  |  HOG with dlib  |\n",
        "                            +--------+---------+--------+---------+\n",
        "                                              |                |\n",
        "                                              v                v\n",
        "                      +-----------------+   +-----------------+\n",
        "                      | 轉換成灰階     |   | 轉換成灰階     |\n",
        "                      +--------+---------+   +--------+---------+\n",
        "                                              |                |\n",
        "                                              v                v\n",
        "                +-----------------+      +-----------------+\n",
        "                | 偵測臉部       |      | 偵測臉部       |\n",
        "                +--------+---------+      +--------+---------+\n",
        "                                              |                |\n",
        "                                              v                v\n",
        "                  +-----------------+    +-----------------+\n",
        "                  | 繪製矩形框     |    | 繪製矩形框     |\n",
        "                  +--------+---------+    +--------+---------+\n",
        "                                              |                |\n",
        "                                              v                v\n",
        "                                     +-----------------+\n",
        "                                     | 顯示影像         |\n",
        "                                     +-----------------+"
      ],
      "cell_type": "code",
      "metadata": {
        "id": "8jrguTqtkkBx"
      },
      "execution_count": null,
      "outputs": []
    },
    {
      "source": [
        "# 安裝必要的函式庫\n",
        "!pip install -U pip  # 更新 pip 套件管理器\n",
        "!pip install opencv-python  # 安裝 OpenCV 函式庫\n",
        "!pip install dlib # 安裝 dlib 函式庫\n",
        "import cv2  # 導入 OpenCV 函式庫\n",
        "import dlib  # 導入 dlib 函式庫\n",
        "\n",
        "# --- Haar Cascades 方法 ---\n",
        "# 載入影像\n",
        "# Make sure 'image.jpg' is in the correct path or provide the full path\n",
        "img = cv2.imread('image.jpg')\n",
        "\n",
        "# Check if image loading was successful\n",
        "if img is None:\n",
        "    print(\"Error: Could not load image. Please check the file path.\")\n",
        "else:\n",
        "    # 載入 Haar Cascade 分類器，用於臉部偵測\n",
        "    face_cascade = cv2.CascadeClassifier(cv2.data.haarcascades + 'haarcascade_frontalface_default.xml')\n",
        "\n",
        "    # 將影像轉換成灰階\n",
        "    gray = cv2.cvtColor(img, cv2.COLOR_BGR2GRAY)\n",
        "\n",
        "    # 偵測影像中的臉部\n",
        "    faces = face_cascade.detectMultiScale(gray, scaleFactor=1.1, minNeighbors=5)\n",
        "\n",
        "    # 在偵測到的臉部周圍繪製矩形框\n",
        "    for (x, y, w, h) in faces:\n",
        "        cv2.rectangle(img, (x, y), (x + w, y + h), (0, 255, 0), 2)\n",
        "\n",
        "    # 顯示影像\n",
        "    cv2.imshow('Haar Cascades 臉部偵測', img)\n",
        "    cv2.waitKey(0)\n",
        "    cv2.destroyAllWindows()\n",
        "\n",
        "\n",
        "# --- HOG with dlib 方法 ---\n",
        "# 載入影像\n",
        "# Make sure 'image.jpg' is in the correct path or provide the full path\n",
        "img = cv2.imread('image.jpg')\n",
        "\n",
        "# Check if image loading was successful\n",
        "if img is None:\n",
        "    print(\"Error: Could not load image. Please check the file path.\")\n",
        "else:\n",
        "    # 載入 HOG 臉部偵測器\n",
        "    detector = dlib.get_frontal_face_detector()\n",
        "\n",
        "    # 將影像轉換成灰階\n",
        "    gray = cv2.cvtColor(img, cv2.COLOR_BGR2GRAY)\n",
        "\n",
        "    # 偵測影像中的臉部\n",
        "    faces = detector(gray, 1)\n",
        "\n",
        "    # 在偵測到的臉部周圍繪製矩形框\n",
        "    for face in faces:\n",
        "        x, y, w, h = face.left(), face.top(), face.right() - face.left(), face.bottom() - face.top()\n",
        "        cv2.rectangle(img, (x, y), (x + w, y + h), (0, 255, 0), 2)\n",
        "\n",
        "    # 顯示影像\n",
        "    cv2.imshow('HOG with dlib 臉部偵測', img)\n",
        "    cv2.waitKey(0)\n",
        "    cv2.destroyAllWindows()"
      ],
      "cell_type": "code",
      "metadata": {
        "colab": {
          "base_uri": "https://localhost:8080/"
        },
        "id": "wMOf0AonlCWh",
        "outputId": "629af548-2168-476d-ca1d-a4706d7855bc"
      },
      "execution_count": 2,
      "outputs": [
        {
          "output_type": "stream",
          "name": "stdout",
          "text": [
            "Requirement already satisfied: pip in /usr/local/lib/python3.11/dist-packages (25.0.1)\n",
            "Requirement already satisfied: opencv-python in /usr/local/lib/python3.11/dist-packages (4.11.0.86)\n",
            "Requirement already satisfied: numpy>=1.21.2 in /usr/local/lib/python3.11/dist-packages (from opencv-python) (2.0.2)\n",
            "Requirement already satisfied: dlib in /usr/local/lib/python3.11/dist-packages (19.24.6)\n",
            "Error: Could not load image. Please check the file path.\n",
            "Error: Could not load image. Please check the file path.\n"
          ]
        }
      ]
    }
  ]
}