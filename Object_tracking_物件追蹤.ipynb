{
  "cells": [
    {
      "cell_type": "markdown",
      "metadata": {
        "id": "view-in-github",
        "colab_type": "text"
      },
      "source": [
        "<a href=\"https://colab.research.google.com/github/nanpolend/machine-learning/blob/master/Object_tracking_%E7%89%A9%E4%BB%B6%E8%BF%BD%E8%B9%A4.ipynb\" target=\"_parent\"><img src=\"https://colab.research.google.com/assets/colab-badge.svg\" alt=\"Open In Colab\"/></a>"
      ]
    },
    {
      "cell_type": "markdown",
      "metadata": {
        "id": "fjdRGPiD9Dx5"
      },
      "source": [
        "<h1>光頭傑夫製作</h1><img src=\"https://rolqiw.bl.files.1drv.com/y4mYqkObWmQmdJFd8pab8t8m7d_mFhh3_YG63fiAnPaG6gjahHFt0n087pF97x1W2wemm7hd4ZdiPD2OxoPtqcCD_4-Jy-fojnt97kGGWR4Hnq0-9Ny61afd7WVHVTmF_9pcr45OFDFSwLKByeQU1q9TjwKk-HsNmWVsW1eGQ4Gi-9G4pQ5DYoTxswYJ5r5dLF-kKsA1InEyrqmV3kF5pm4WQ?width=658&height=584&cropmode=none\" width=160px align=\"left\" />\n",
        "<!--1789344913-75-->"
      ]
    },
    {
      "cell_type": "markdown",
      "metadata": {
        "id": "97fbkqpR9Dx6"
      },
      "source": [
        "## <font color=red>物件追蹤\n",
        "------\n",
        "    如果今天我們拿在手上的檔案不是照片，是一段影片，那我們可以辨識嗎?  沒錯，這就是物件追蹤  \n",
        "    照片是靜態的，影片可是會動的，那影響辨識結果的因素可多了!!有外觀變化，快速運動，模糊，縮放變化等等"
      ]
    },
    {
      "cell_type": "markdown",
      "metadata": {
        "id": "OFFcLU7C9Dx7"
      },
      "source": [
        "## <font color=red>OpenCV Tracking API"
      ]
    },
    {
      "cell_type": "markdown",
      "metadata": {
        "id": "_lyuC-Y59Dx7"
      },
      "source": [
        "## <font color=red>處理架構\n",
        "--------\n",
        "### [GOTURN模型下載](https://github.com/spmallick/goturn-files)\n",
        "### [GOTURN用法](https://blog.csdn.net/LuohenYJ/article/details/89083351)"
      ]
    },
    {
      "cell_type": "markdown",
      "metadata": {
        "id": "cZQrcdQS9Dx7"
      },
      "source": [
        "## <font color=red>把影片讀進來"
      ]
    },
    {
      "cell_type": "code",
      "execution_count": null,
      "metadata": {
        "id": "PZ-S1ehD9Dx8"
      },
      "outputs": [],
      "source": [
        "import cv2\n",
        "import numpy as np\n",
        "\n",
        "video = cv2.VideoCapture(\"soccer2.mp4\")\n",
        "ret, frame = video.read()\n"
      ]
    },
    {
      "cell_type": "markdown",
      "metadata": {
        "id": "gKvdpB1G9Dx8"
      },
      "source": [
        "## <font color=red>框選你想要追蹤的東西"
      ]
    },
    {
      "cell_type": "code",
      "execution_count": null,
      "metadata": {
        "id": "YnUkbwAg9Dx8",
        "outputId": "04d08201-7144-453f-cf1e-da24bdd2292e"
      },
      "outputs": [
        {
          "name": "stdout",
          "output_type": "stream",
          "text": [
            "(389, 197, 84, 279)\n"
          ]
        }
      ],
      "source": [
        "bbox = cv2.selectROI(frame)\n",
        "print(bbox)\n",
        "cv2.destroyAllWindows()"
      ]
    },
    {
      "cell_type": "markdown",
      "metadata": {
        "id": "JbRiGQVF9Dx9"
      },
      "source": [
        "## <font color=red>啟動辨識機器人"
      ]
    },
    {
      "cell_type": "code",
      "execution_count": null,
      "metadata": {
        "id": "p8bEwC2P9Dx9"
      },
      "outputs": [],
      "source": [
        "#有移到Legacy的方法，要用下面的方法導入\n",
        "# tracker = cv2.legacy.TrackerMedianFlow_create()\n",
        "tracker = cv2.TrackerGOTURN_create()\n",
        "ret = tracker.init(frame,bbox)"
      ]
    },
    {
      "cell_type": "markdown",
      "metadata": {
        "id": "md0_Pxp09Dx9"
      },
      "source": [
        "## <font color=red>咱們就一路辨識下去吧!!"
      ]
    },
    {
      "cell_type": "code",
      "execution_count": null,
      "metadata": {
        "id": "WvFeoeeO9Dx-"
      },
      "outputs": [],
      "source": [
        "while True:\n",
        "\n",
        "    # Read next frame\n",
        "    ret, frame = video.read()\n",
        "\n",
        "    # Check if frame was read\n",
        "    if ret == False:\n",
        "        break\n",
        "\n",
        "    # Update tracker\n",
        "    found, bbox = tracker.update(frame)\n",
        "\n",
        "    # If object found, draw bbox\n",
        "    # x,y,w,h\n",
        "    if found:\n",
        "        # Top left corner\n",
        "        topLeft = (int(bbox[0]), int(bbox[1]))\n",
        "        # Bottom right corner\n",
        "        bottomRight = (int(bbox[0]+bbox[2]), int(bbox[1]+bbox[3]))\n",
        "        # Display bounding box\n",
        "        cv2.rectangle(frame, topLeft, bottomRight, (0,0,255), 2)\n",
        "    else:\n",
        "        # Display status\n",
        "        cv2.putText(frame, \"Object not found\", (20,70),\n",
        "                   cv2.FONT_HERSHEY_SIMPLEX, 0.75, (0,0,255), 2)\n",
        "\n",
        "    # Display frame\n",
        "    cv2.imshow(\"Tracker\",frame)\n",
        "    k = cv2.waitKey(5)\n",
        "    if k == 27:\n",
        "        break\n",
        "cv2.destroyAllWindows()"
      ]
    },
    {
      "cell_type": "markdown",
      "metadata": {
        "id": "BYxUOmIW9Dx-"
      },
      "source": [
        "## <font color=red>還有哪些API可以用\n",
        "--------\n",
        "### [API改版](https://github.com/opencv/opencv_contrib/blob/4fc6995375e384b8e25bd6c8693fa8dd2ed4bb0a/modules/tracking/samples/samples_utility.hpp#L13-L28)"
      ]
    },
    {
      "cell_type": "code",
      "execution_count": null,
      "metadata": {
        "id": "4AX7rQ9u9Dx-"
      },
      "outputs": [],
      "source": [
        "#有移到Legacy的方法，要用下面的方法導入\n",
        "# tracker = cv2.legacy.TrackerMedianFlow_create()\n",
        "tracker = cv2.TrackerKCF_create()\n",
        "ret = tracker.init(frame,bbox)"
      ]
    },
    {
      "cell_type": "code",
      "execution_count": null,
      "metadata": {
        "id": "C1we8VPu9Dx-"
      },
      "outputs": [],
      "source": [
        "#有移到Legacy的方法，要用下面的方法導入\n",
        "# tracker = cv2.legacy.TrackerMedianFlow_create()\n",
        "tracker = cv2.TrackerMIL_create()\n",
        "ret = tracker.init(frame,bbox)"
      ]
    },
    {
      "cell_type": "markdown",
      "metadata": {
        "id": "VxWUaRU99Dx-"
      },
      "source": [
        "## <font color=red>換dlib的追蹤版本試試看\n",
        "----\n",
        "![image.png](attachment:image.png)"
      ]
    },
    {
      "cell_type": "markdown",
      "metadata": {
        "id": "H4GDcjWK9Dx-"
      },
      "source": [
        "## <font color=red>導入工具"
      ]
    },
    {
      "cell_type": "code",
      "execution_count": null,
      "metadata": {
        "id": "Ew2SZ_Iy9Dx-"
      },
      "outputs": [],
      "source": [
        "import cv2\n",
        "import numpy as np\n",
        "import dlib"
      ]
    },
    {
      "cell_type": "markdown",
      "metadata": {
        "id": "PAUMy5rf9Dx_"
      },
      "source": [
        "## <font color=red>影片讀進來"
      ]
    },
    {
      "cell_type": "code",
      "execution_count": null,
      "metadata": {
        "id": "z8pvKWip9Dx_"
      },
      "outputs": [],
      "source": [
        "video = cv2.VideoCapture(\"people.mp4\")\n",
        "ret, frame = video.read()"
      ]
    },
    {
      "cell_type": "markdown",
      "metadata": {
        "id": "nd_wXXlt9Dx_"
      },
      "source": [
        "## <font color=red>框選你想要追蹤的東西"
      ]
    },
    {
      "cell_type": "code",
      "execution_count": null,
      "metadata": {
        "id": "iGbFQunX9Dx_"
      },
      "outputs": [],
      "source": [
        "bbox = cv2.selectROI(frame)\n",
        "cv2.destroyAllWindows()"
      ]
    },
    {
      "cell_type": "markdown",
      "metadata": {
        "id": "qCUEIEUp9Dx_"
      },
      "source": [
        "## <font color=red>把框選的座標轉成dlib格式"
      ]
    },
    {
      "cell_type": "code",
      "execution_count": null,
      "metadata": {
        "id": "C1jmmidU9Dx_"
      },
      "outputs": [],
      "source": [
        "# need to convert the rectangle given by the cv2.selectROI function into Dlib's rectangle type\n",
        "(topLeftX, topLeftY, w, h) = bbox\n",
        "bottomRightX = topLeftX + w\n",
        "bottomRightY = topLeftY + h\n",
        "#dlib是用四角座標\n",
        "dlibRect = dlib.rectangle(topLeftX, topLeftY, bottomRightX, bottomRightY)"
      ]
    },
    {
      "cell_type": "markdown",
      "metadata": {
        "id": "6XrCtx-19Dx_"
      },
      "source": [
        "## <font color=red>啟動dlib辨識機器人"
      ]
    },
    {
      "cell_type": "code",
      "execution_count": null,
      "metadata": {
        "id": "QDH7__FW9Dx_"
      },
      "outputs": [],
      "source": [
        "#要餵dlib吃RGB\n",
        "rgb = cv2.cvtColor(frame,cv2.COLOR_BGR2RGB)\n",
        "#初始化，並啟動tracker\n",
        "tracker = dlib.correlation_tracker()\n",
        "tracker.start_track(rgb, dlibRect)"
      ]
    },
    {
      "cell_type": "markdown",
      "metadata": {
        "id": "m1-uHkgu9Dx_"
      },
      "source": [
        "## <font color=red>咱們就一路辨識下去吧!!"
      ]
    },
    {
      "cell_type": "code",
      "execution_count": null,
      "metadata": {
        "id": "-_Bap_NR9DyA"
      },
      "outputs": [],
      "source": [
        "while True:\n",
        "\n",
        "    # Read next frame\n",
        "    ret, frame = video.read()\n",
        "\n",
        "    # Check if frame was read\n",
        "    if ret == False:\n",
        "        break\n",
        "    # Convert frame to RGB\n",
        "    rgb = cv2.cvtColor(frame,cv2.COLOR_BGR2RGB)\n",
        "    # 看新的一幀，繼續track\n",
        "    tracker.update(rgb)\n",
        "\n",
        "    #獲得追蹤物件的新位址\n",
        "    objectPosition = tracker.get_position()\n",
        "\n",
        "    topLeftX = int(objectPosition.left())\n",
        "\n",
        "    topLeftY = int(objectPosition.top())\n",
        "\n",
        "    bottomRightX = int(objectPosition.right())\n",
        "\n",
        "    bottomRightY = int(objectPosition.bottom())\n",
        "\n",
        "    # 畫一下新位址\n",
        "    cv2.rectangle(frame, (topLeftX, topLeftY), (bottomRightX, bottomRightY), (0,0,255), 2)\n",
        "\n",
        "    # Display frame\n",
        "    cv2.imshow(\"Tracker\",frame)\n",
        "    k = cv2.waitKey(5)\n",
        "    if k == 27:\n",
        "        break\n",
        "cv2.destroyAllWindows()"
      ]
    },
    {
      "cell_type": "markdown",
      "metadata": {
        "id": "gZyN53ue9DyA"
      },
      "source": [
        "## <font color=red>難道追蹤都要選擇ROI嗎?\n",
        "------\n",
        "    當然不用，你只要可以自動識別物件，然後丟給追蹤API，那就開始追蹤囉!!"
      ]
    },
    {
      "cell_type": "markdown",
      "metadata": {
        "id": "7x3HQEvl9DyA"
      },
      "source": [
        "## <font color=red>前傳-MobileNet SSD上場\n",
        "------\n",
        "    這是一個CNN的模型，是用caffe做出來的模型，可以提供20個類別的辨識能力"
      ]
    },
    {
      "cell_type": "markdown",
      "metadata": {
        "id": "qc08_ZXZ9DyA"
      },
      "source": [
        "## <font color=red>導入工具"
      ]
    },
    {
      "cell_type": "code",
      "execution_count": null,
      "metadata": {
        "id": "AMoDgrRT9DyA"
      },
      "outputs": [],
      "source": [
        "import cv2\n",
        "import numpy as np"
      ]
    },
    {
      "cell_type": "markdown",
      "metadata": {
        "id": "EZVlpV129DyA"
      },
      "source": [
        "## <font color=red>導入模型"
      ]
    },
    {
      "cell_type": "code",
      "execution_count": null,
      "metadata": {
        "id": "yuiQiVl99DyA"
      },
      "outputs": [],
      "source": [
        "net = cv2.dnn.readNetFromCaffe('MobileNetSSD_deploy.prototxt.txt', 'MobileNetSSD_deploy.caffemodel')"
      ]
    },
    {
      "cell_type": "markdown",
      "metadata": {
        "id": "5O_nixg99DyA"
      },
      "source": [
        "## <font color=red>建立辨識類別列表"
      ]
    },
    {
      "cell_type": "code",
      "execution_count": null,
      "metadata": {
        "id": "rlNYaNGl9DyA"
      },
      "outputs": [],
      "source": [
        "categories = { 0: 'background', 1: 'aeroplane', 2: 'bicycle', 3: 'bird', 4: 'boat', 5: 'bottle', 6: 'bus', 7: 'car', 8: 'cat',\n",
        "              9: 'chair', 10: 'cow', 11: 'diningtable', 12: 'dog', 13: 'horse', 14: 'motorbike', 15: 'person',\n",
        "              16: 'pottedplant', 17: 'sheep', 18: 'sofa', 19: 'train', 20: 'tvmonitor'}"
      ]
    },
    {
      "cell_type": "markdown",
      "metadata": {
        "id": "BmqZRoU49DyA"
      },
      "source": [
        "## <font color=red>讀入辨識目標"
      ]
    },
    {
      "cell_type": "code",
      "execution_count": null,
      "metadata": {
        "id": "GUm4qbuu9DyA",
        "outputId": "33c4350f-517b-4ac6-a68d-c6ad8a3ff45e"
      },
      "outputs": [
        {
          "data": {
            "text/plain": [
              "(720, 1280, 3)"
            ]
          },
          "execution_count": 20,
          "metadata": {},
          "output_type": "execute_result"
        }
      ],
      "source": [
        "image = cv2.imread('frame.png')\n",
        "cv2.imshow(\"Tracker\",image)\n",
        "cv2.waitKey()\n",
        "cv2.destroyAllWindows()\n",
        "image.shape"
      ]
    },
    {
      "cell_type": "markdown",
      "metadata": {
        "id": "97evp0Lh9DyB"
      },
      "source": [
        "## <font color=red>把目標轉成模型需要的blob格式"
      ]
    },
    {
      "cell_type": "code",
      "execution_count": null,
      "metadata": {
        "id": "w5XaU_Yt9DyE"
      },
      "outputs": [],
      "source": [
        "#調整成固定尺寸，才有辦法辨識，所以就調成300*300\n",
        "#0.007843=>scalefactor:圖像各通道數值的縮放比例\n",
        "#後面127.5，用於各通道減去的值，以降低光照的影響\n",
        "#簡單的說，我們需要透過這個過程把圖片弄成MobileNetSSD可以吃的尺寸啦!\n",
        "blob = cv2.dnn.blobFromImage(cv2.resize(image, (300, 300)), 0.007843, (300, 300), (127.5,127.5,127.5))"
      ]
    },
    {
      "cell_type": "markdown",
      "metadata": {
        "id": "X2qaq9cp9DyF"
      },
      "source": [
        "## <font color=red>啟動機器人，偵測吧!!"
      ]
    },
    {
      "cell_type": "code",
      "execution_count": null,
      "metadata": {
        "id": "SHADAdhw9DyF"
      },
      "outputs": [],
      "source": [
        "net.setInput(blob)\n",
        "detections = net.forward()"
      ]
    },
    {
      "cell_type": "code",
      "execution_count": null,
      "metadata": {
        "id": "5m5qg8Lj9DyF",
        "outputId": "293aedee-651f-4de1-8c0d-821354da4824"
      },
      "outputs": [
        {
          "data": {
            "text/plain": [
              "array([[[[ 0.        , 15.        ,  0.9279718 ,  0.81247264,\n",
              "           0.29258215,  0.91479486,  0.6521735 ],\n",
              "         [ 0.        , 15.        ,  0.48497418,  0.31316453,\n",
              "           0.27825695,  0.37916064,  0.6593019 ],\n",
              "         [ 0.        ,  0.        ,  0.        ,  0.        ,\n",
              "           0.        ,  0.        ,  0.        ],\n",
              "         [ 0.        ,  0.        ,  0.        ,  0.        ,\n",
              "           0.        ,  0.        ,  0.        ],\n",
              "         [ 0.        ,  0.        ,  0.        ,  0.        ,\n",
              "           0.        ,  0.        ,  0.        ],\n",
              "         [ 0.        ,  0.        ,  0.        ,  0.        ,\n",
              "           0.        ,  0.        ,  0.        ],\n",
              "         [ 0.        ,  0.        ,  0.        ,  0.        ,\n",
              "           0.        ,  0.        ,  0.        ],\n",
              "         [ 0.        ,  0.        ,  0.        ,  0.        ,\n",
              "           0.        ,  0.        ,  0.        ],\n",
              "         [ 0.        ,  0.        ,  0.        ,  0.        ,\n",
              "           0.        ,  0.        ,  0.        ],\n",
              "         [ 0.        ,  0.        ,  0.        ,  0.        ,\n",
              "           0.        ,  0.        ,  0.        ],\n",
              "         [ 0.        ,  0.        ,  0.        ,  0.        ,\n",
              "           0.        ,  0.        ,  0.        ],\n",
              "         [ 0.        ,  0.        ,  0.        ,  0.        ,\n",
              "           0.        ,  0.        ,  0.        ],\n",
              "         [ 0.        ,  0.        ,  0.        ,  0.        ,\n",
              "           0.        ,  0.        ,  0.        ],\n",
              "         [ 0.        ,  0.        ,  0.        ,  0.        ,\n",
              "           0.        ,  0.        ,  0.        ],\n",
              "         [ 0.        ,  0.        ,  0.        ,  0.        ,\n",
              "           0.        ,  0.        ,  0.        ],\n",
              "         [ 0.        ,  0.        ,  0.        ,  0.        ,\n",
              "           0.        ,  0.        ,  0.        ],\n",
              "         [ 0.        ,  0.        ,  0.        ,  0.        ,\n",
              "           0.        ,  0.        ,  0.        ],\n",
              "         [ 0.        ,  0.        ,  0.        ,  0.        ,\n",
              "           0.        ,  0.        ,  0.        ],\n",
              "         [ 0.        ,  0.        ,  0.        ,  0.        ,\n",
              "           0.        ,  0.        ,  0.        ],\n",
              "         [ 0.        ,  0.        ,  0.        ,  0.        ,\n",
              "           0.        ,  0.        ,  0.        ],\n",
              "         [ 0.        ,  0.        ,  0.        ,  0.        ,\n",
              "           0.        ,  0.        ,  0.        ],\n",
              "         [ 0.        ,  0.        ,  0.        ,  0.        ,\n",
              "           0.        ,  0.        ,  0.        ],\n",
              "         [ 0.        ,  0.        ,  0.        ,  0.        ,\n",
              "           0.        ,  0.        ,  0.        ],\n",
              "         [ 0.        ,  0.        ,  0.        ,  0.        ,\n",
              "           0.        ,  0.        ,  0.        ],\n",
              "         [ 0.        ,  0.        ,  0.        ,  0.        ,\n",
              "           0.        ,  0.        ,  0.        ],\n",
              "         [ 0.        ,  0.        ,  0.        ,  0.        ,\n",
              "           0.        ,  0.        ,  0.        ],\n",
              "         [ 0.        ,  0.        ,  0.        ,  0.        ,\n",
              "           0.        ,  0.        ,  0.        ],\n",
              "         [ 0.        ,  0.        ,  0.        ,  0.        ,\n",
              "           0.        ,  0.        ,  0.        ],\n",
              "         [ 0.        ,  0.        ,  0.        ,  0.        ,\n",
              "           0.        ,  0.        ,  0.        ],\n",
              "         [ 0.        ,  0.        ,  0.        ,  0.        ,\n",
              "           0.        ,  0.        ,  0.        ],\n",
              "         [ 0.        ,  0.        ,  0.        ,  0.        ,\n",
              "           0.        ,  0.        ,  0.        ],\n",
              "         [ 0.        ,  0.        ,  0.        ,  0.        ,\n",
              "           0.        ,  0.        ,  0.        ],\n",
              "         [ 0.        ,  0.        ,  0.        ,  0.        ,\n",
              "           0.        ,  0.        ,  0.        ],\n",
              "         [ 0.        ,  0.        ,  0.        ,  0.        ,\n",
              "           0.        ,  0.        ,  0.        ],\n",
              "         [ 0.        ,  0.        ,  0.        ,  0.        ,\n",
              "           0.        ,  0.        ,  0.        ],\n",
              "         [ 0.        ,  0.        ,  0.        ,  0.        ,\n",
              "           0.        ,  0.        ,  0.        ],\n",
              "         [ 0.        ,  0.        ,  0.        ,  0.        ,\n",
              "           0.        ,  0.        ,  0.        ],\n",
              "         [ 0.        ,  0.        ,  0.        ,  0.        ,\n",
              "           0.        ,  0.        ,  0.        ],\n",
              "         [ 0.        ,  0.        ,  0.        ,  0.        ,\n",
              "           0.        ,  0.        ,  0.        ],\n",
              "         [ 0.        ,  0.        ,  0.        ,  0.        ,\n",
              "           0.        ,  0.        ,  0.        ],\n",
              "         [ 0.        ,  0.        ,  0.        ,  0.        ,\n",
              "           0.        ,  0.        ,  0.        ],\n",
              "         [ 0.        ,  0.        ,  0.        ,  0.        ,\n",
              "           0.        ,  0.        ,  0.        ],\n",
              "         [ 0.        ,  0.        ,  0.        ,  0.        ,\n",
              "           0.        ,  0.        ,  0.        ],\n",
              "         [ 0.        ,  0.        ,  0.        ,  0.        ,\n",
              "           0.        ,  0.        ,  0.        ],\n",
              "         [ 0.        ,  0.        ,  0.        ,  0.        ,\n",
              "           0.        ,  0.        ,  0.        ],\n",
              "         [ 0.        ,  0.        ,  0.        ,  0.        ,\n",
              "           0.        ,  0.        ,  0.        ],\n",
              "         [ 0.        ,  0.        ,  0.        ,  0.        ,\n",
              "           0.        ,  0.        ,  0.        ],\n",
              "         [ 0.        ,  0.        ,  0.        ,  0.        ,\n",
              "           0.        ,  0.        ,  0.        ],\n",
              "         [ 0.        ,  0.        ,  0.        ,  0.        ,\n",
              "           0.        ,  0.        ,  0.        ],\n",
              "         [ 0.        ,  0.        ,  0.        ,  0.        ,\n",
              "           0.        ,  0.        ,  0.        ],\n",
              "         [ 0.        ,  0.        ,  0.        ,  0.        ,\n",
              "           0.        ,  0.        ,  0.        ],\n",
              "         [ 0.        ,  0.        ,  0.        ,  0.        ,\n",
              "           0.        ,  0.        ,  0.        ],\n",
              "         [ 0.        ,  0.        ,  0.        ,  0.        ,\n",
              "           0.        ,  0.        ,  0.        ],\n",
              "         [ 0.        ,  0.        ,  0.        ,  0.        ,\n",
              "           0.        ,  0.        ,  0.        ],\n",
              "         [ 0.        ,  0.        ,  0.        ,  0.        ,\n",
              "           0.        ,  0.        ,  0.        ],\n",
              "         [ 0.        ,  0.        ,  0.        ,  0.        ,\n",
              "           0.        ,  0.        ,  0.        ],\n",
              "         [ 0.        ,  0.        ,  0.        ,  0.        ,\n",
              "           0.        ,  0.        ,  0.        ],\n",
              "         [ 0.        ,  0.        ,  0.        ,  0.        ,\n",
              "           0.        ,  0.        ,  0.        ],\n",
              "         [ 0.        ,  0.        ,  0.        ,  0.        ,\n",
              "           0.        ,  0.        ,  0.        ],\n",
              "         [ 0.        ,  0.        ,  0.        ,  0.        ,\n",
              "           0.        ,  0.        ,  0.        ],\n",
              "         [ 0.        ,  0.        ,  0.        ,  0.        ,\n",
              "           0.        ,  0.        ,  0.        ],\n",
              "         [ 0.        ,  0.        ,  0.        ,  0.        ,\n",
              "           0.        ,  0.        ,  0.        ],\n",
              "         [ 0.        ,  0.        ,  0.        ,  0.        ,\n",
              "           0.        ,  0.        ,  0.        ],\n",
              "         [ 0.        ,  0.        ,  0.        ,  0.        ,\n",
              "           0.        ,  0.        ,  0.        ],\n",
              "         [ 0.        ,  0.        ,  0.        ,  0.        ,\n",
              "           0.        ,  0.        ,  0.        ],\n",
              "         [ 0.        ,  0.        ,  0.        ,  0.        ,\n",
              "           0.        ,  0.        ,  0.        ],\n",
              "         [ 0.        ,  0.        ,  0.        ,  0.        ,\n",
              "           0.        ,  0.        ,  0.        ],\n",
              "         [ 0.        ,  0.        ,  0.        ,  0.        ,\n",
              "           0.        ,  0.        ,  0.        ],\n",
              "         [ 0.        ,  0.        ,  0.        ,  0.        ,\n",
              "           0.        ,  0.        ,  0.        ],\n",
              "         [ 0.        ,  0.        ,  0.        ,  0.        ,\n",
              "           0.        ,  0.        ,  0.        ],\n",
              "         [ 0.        ,  0.        ,  0.        ,  0.        ,\n",
              "           0.        ,  0.        ,  0.        ],\n",
              "         [ 0.        ,  0.        ,  0.        ,  0.        ,\n",
              "           0.        ,  0.        ,  0.        ],\n",
              "         [ 0.        ,  0.        ,  0.        ,  0.        ,\n",
              "           0.        ,  0.        ,  0.        ],\n",
              "         [ 0.        ,  0.        ,  0.        ,  0.        ,\n",
              "           0.        ,  0.        ,  0.        ],\n",
              "         [ 0.        ,  0.        ,  0.        ,  0.        ,\n",
              "           0.        ,  0.        ,  0.        ],\n",
              "         [ 0.        ,  0.        ,  0.        ,  0.        ,\n",
              "           0.        ,  0.        ,  0.        ],\n",
              "         [ 0.        ,  0.        ,  0.        ,  0.        ,\n",
              "           0.        ,  0.        ,  0.        ],\n",
              "         [ 0.        ,  0.        ,  0.        ,  0.        ,\n",
              "           0.        ,  0.        ,  0.        ],\n",
              "         [ 0.        ,  0.        ,  0.        ,  0.        ,\n",
              "           0.        ,  0.        ,  0.        ],\n",
              "         [ 0.        ,  0.        ,  0.        ,  0.        ,\n",
              "           0.        ,  0.        ,  0.        ],\n",
              "         [ 0.        ,  0.        ,  0.        ,  0.        ,\n",
              "           0.        ,  0.        ,  0.        ],\n",
              "         [ 0.        ,  0.        ,  0.        ,  0.        ,\n",
              "           0.        ,  0.        ,  0.        ],\n",
              "         [ 0.        ,  0.        ,  0.        ,  0.        ,\n",
              "           0.        ,  0.        ,  0.        ],\n",
              "         [ 0.        ,  0.        ,  0.        ,  0.        ,\n",
              "           0.        ,  0.        ,  0.        ],\n",
              "         [ 0.        ,  0.        ,  0.        ,  0.        ,\n",
              "           0.        ,  0.        ,  0.        ],\n",
              "         [ 0.        ,  0.        ,  0.        ,  0.        ,\n",
              "           0.        ,  0.        ,  0.        ],\n",
              "         [ 0.        ,  0.        ,  0.        ,  0.        ,\n",
              "           0.        ,  0.        ,  0.        ],\n",
              "         [ 0.        ,  0.        ,  0.        ,  0.        ,\n",
              "           0.        ,  0.        ,  0.        ],\n",
              "         [ 0.        ,  0.        ,  0.        ,  0.        ,\n",
              "           0.        ,  0.        ,  0.        ],\n",
              "         [ 0.        ,  0.        ,  0.        ,  0.        ,\n",
              "           0.        ,  0.        ,  0.        ],\n",
              "         [ 0.        ,  0.        ,  0.        ,  0.        ,\n",
              "           0.        ,  0.        ,  0.        ],\n",
              "         [ 0.        ,  0.        ,  0.        ,  0.        ,\n",
              "           0.        ,  0.        ,  0.        ],\n",
              "         [ 0.        ,  0.        ,  0.        ,  0.        ,\n",
              "           0.        ,  0.        ,  0.        ],\n",
              "         [ 0.        ,  0.        ,  0.        ,  0.        ,\n",
              "           0.        ,  0.        ,  0.        ],\n",
              "         [ 0.        ,  0.        ,  0.        ,  0.        ,\n",
              "           0.        ,  0.        ,  0.        ],\n",
              "         [ 0.        ,  0.        ,  0.        ,  0.        ,\n",
              "           0.        ,  0.        ,  0.        ],\n",
              "         [ 0.        ,  0.        ,  0.        ,  0.        ,\n",
              "           0.        ,  0.        ,  0.        ],\n",
              "         [ 0.        ,  0.        ,  0.        ,  0.        ,\n",
              "           0.        ,  0.        ,  0.        ],\n",
              "         [ 0.        ,  0.        ,  0.        ,  0.        ,\n",
              "           0.        ,  0.        ,  0.        ],\n",
              "         [ 0.        ,  0.        ,  0.        ,  0.        ,\n",
              "           0.        ,  0.        ,  0.        ]]]], dtype=float32)"
            ]
          },
          "execution_count": 23,
          "metadata": {},
          "output_type": "execute_result"
        }
      ],
      "source": [
        "#資料內容[0,歸屬類別,信心程度，四點座標]\n",
        "detections"
      ]
    },
    {
      "cell_type": "code",
      "execution_count": null,
      "metadata": {
        "id": "JX486igf9DyF",
        "outputId": "1e46f196-2265-4f73-e5ae-220339ef4123"
      },
      "outputs": [
        {
          "data": {
            "text/plain": [
              "(1, 1, 100, 7)"
            ]
          },
          "execution_count": 24,
          "metadata": {},
          "output_type": "execute_result"
        }
      ],
      "source": [
        "detections.shape"
      ]
    },
    {
      "cell_type": "markdown",
      "metadata": {
        "id": "yioDqfs99DyF"
      },
      "source": [
        "## <font color=red>顯示結果"
      ]
    },
    {
      "cell_type": "code",
      "execution_count": null,
      "metadata": {
        "id": "IuRvfomX9DyF"
      },
      "outputs": [],
      "source": [
        "#我們需要有原本圖片尺寸的資訊，因為後面需要把偵測結果恢復真實值，才能顯示\n",
        "(h, w) = image.shape[:2]\n",
        "#做個顏色表，讓不同類別可以顯示不同顏色\n",
        "#需要轉成list格式，後面畫框框的顏色才塞得進去，它不讀np.array\n",
        "colors = np.random.randint(0, 255, size=(len(categories), 3)).tolist()\n",
        "\n",
        "for i in np.arange(0, detections.shape[2]):\n",
        "    #取出信心程度\n",
        "    confidence = detections[0, 0, i, 2]\n",
        "    #把大於0.2的拿出來特別處理\n",
        "    if confidence >0.2:\n",
        "        #下面就是類別判定結果，可能是人啊!可能是車啊!\n",
        "        idx = int(detections[0, 0, i, 1])\n",
        "        #取出座標點，但是這裡顯示的是比例，所以我們透過原本的圖片尺寸做還原\n",
        "        box = detections[0, 0, i, 3:7] * np.array([w, h, w, h])\n",
        "        #座標沒有小數，所以再處理一下\n",
        "        (startX, startY, endX, endY) = box.astype(\"int\")\n",
        "        #配一個類別專屬顏色，把框畫出來\n",
        "        cv2.rectangle(image, (startX, startY), (endX, endY), colors[idx], 2)\n",
        "        #準備一下label\n",
        "        label = \"{}: {:.2f}%\".format(categories[idx], confidence * 100)\n",
        "        #準備一下show label的位置\n",
        "        #如果上面沒空間就放下面一點\n",
        "        y = startY - 15 if startY - 15>15 else startY + 15\n",
        "        cv2.putText(image, label, (startX, y),cv2.FONT_HERSHEY_SIMPLEX, 0.5, colors[idx], 2)\n",
        "cv2.imshow(\"Output\", image)\n",
        "cv2.waitKey(0)\n",
        "cv2.destroyAllWindows()"
      ]
    },
    {
      "cell_type": "markdown",
      "metadata": {
        "id": "EE1wWFMr9DyF"
      },
      "source": [
        "## <font color=red ><小測驗>用MobileNet SSD辨識一下資料夾裡面的影像檔soccer2吧!"
      ]
    },
    {
      "cell_type": "code",
      "execution_count": null,
      "metadata": {
        "id": "vXrkapl59DyG"
      },
      "outputs": [],
      "source": []
    },
    {
      "cell_type": "markdown",
      "metadata": {
        "id": "HLG1p9mn9DyG"
      },
      "source": [
        "## <font color=red ><答案>"
      ]
    },
    {
      "cell_type": "code",
      "execution_count": null,
      "metadata": {
        "id": "d8Gn-DvR9DyG"
      },
      "outputs": [],
      "source": [
        "import cv2\n",
        "import numpy as np\n",
        "\n",
        "net = cv2.dnn.readNetFromCaffe('MobileNetSSD_deploy.prototxt.txt', 'MobileNetSSD_deploy.caffemodel')\n",
        "\n",
        "categories = { 0: 'background', 1: 'aeroplane', 2: 'bicycle', 3: 'bird', 4: 'boat', 5: 'bottle', 6: 'bus', 7: 'car', 8: 'cat',\n",
        "              9: 'chair', 10: 'cow', 11: 'diningtable', 12: 'dog', 13: 'horse', 14: 'motorbike', 15: 'person',\n",
        "              16: 'pottedplant', 17: 'sheep', 18: 'sofa', 19: 'train', 20: 'tvmonitor'}\n",
        "\n",
        "colors = np.random.randint(0, 255, size=(len(categories), 3)).tolist()\n",
        "\n",
        "video = cv2.VideoCapture(\"soccer2.mp4\")\n",
        "\n",
        "while True:\n",
        "    # grab the next frame from the video file\n",
        "    (grabbed, frame) = video.read()\n",
        "\n",
        "    # check to see if we have reached the end of the video file\n",
        "    if frame is None:\n",
        "        break\n",
        "    (h, w, c) = frame.shape\n",
        "\n",
        "    blob = cv2.dnn.blobFromImage(cv2.resize(frame, (300, 300)), 0.007843, (300, 300), (127.5,127.5,127.5))\n",
        "    net.setInput(blob)\n",
        "    detections = net.forward()\n",
        "\n",
        "    if len(detections) > 0:\n",
        "        #看一下前面的detection.shape你就會知道了\n",
        "        for i in np.arange(0, detections.shape[2]):\n",
        "            #取出信心值\n",
        "            confidence = detections[0, 0, i, 2]\n",
        "            if confidence >0.2:\n",
        "                #類別編號\n",
        "                idx = int(detections[0, 0, i, 1])\n",
        "                box = detections[0, 0, i, 3:7] * np.array([w, h, w, h])\n",
        "                (startX, startY, endX, endY) = box.astype(\"int\")\n",
        "                cv2.rectangle(frame, (startX, startY), (endX, endY), colors[i], 2)\n",
        "\n",
        "                label = \"{}: {:.2f}%\".format(categories[idx], confidence * 100)\n",
        "                y = startY - 15 if startY - 15>15 else startY + 15\n",
        "                cv2.putText(frame, label, (startX, y),cv2.FONT_HERSHEY_SIMPLEX, 0.5, colors[i], 2)\n",
        "\n",
        "\n",
        "    cv2.imshow(\"Tracker\",frame)\n",
        "    k = cv2.waitKey(20)\n",
        "    if k == 27:\n",
        "        break\n",
        "cv2.destroyAllWindows()"
      ]
    },
    {
      "cell_type": "markdown",
      "metadata": {
        "id": "RndvSzXP9DyG"
      },
      "source": [
        "## <font color=red >上面的方法，叫做\"逐頁辨識\"，但是我要的是追蹤..."
      ]
    },
    {
      "cell_type": "markdown",
      "metadata": {
        "id": "5Ng0coJz9DyG"
      },
      "source": [
        "## <font color=red ><小測驗>幫我想一下，怎麼讓MobileNet SSD辨識後，開始自動追蹤..."
      ]
    },
    {
      "cell_type": "code",
      "execution_count": null,
      "metadata": {
        "id": "eE0dBQ3_9DyG"
      },
      "outputs": [],
      "source": []
    },
    {
      "cell_type": "markdown",
      "metadata": {
        "id": "ZgoF_tuS9DyG"
      },
      "source": [
        "## <font color=red ><答案>"
      ]
    },
    {
      "cell_type": "code",
      "execution_count": null,
      "metadata": {
        "id": "V0Ef8OJW9DyG"
      },
      "outputs": [],
      "source": [
        "import cv2\n",
        "import numpy as np\n",
        "import dlib\n",
        "\n",
        "net = cv2.dnn.readNetFromCaffe('MobileNetSSD_deploy.prototxt.txt', 'MobileNetSSD_deploy.caffemodel')\n",
        "\n",
        "categories = { 0: 'background', 1: 'aeroplane', 2: 'bicycle', 3: 'bird', 4: 'boat', 5: 'bottle', 6: 'bus', 7: 'car', 8: 'cat',\n",
        "              9: 'chair', 10: 'cow', 11: 'diningtable', 12: 'dog', 13: 'horse', 14: 'motorbike', 15: 'person',\n",
        "              16: 'pottedplant', 17: 'sheep', 18: 'sofa', 19: 'train', 20: 'tvmonitor'}\n",
        "\n",
        "#做一個顏色集\n",
        "colors = np.random.randint(0, 255, size=(len(categories), 3)).tolist()\n",
        "\n",
        "video = cv2.VideoCapture(\"soccer2.mp4\")\n",
        "\n",
        "\n",
        "#我們需要記住我們一開始辨識出來的東西，方便後面追蹤\n",
        "trackers = []\n",
        "labels = []\n",
        "idxs=[]\n",
        "\n",
        "while True:\n",
        "    (grabbed, frame) = video.read()\n",
        "    # check to see if we have reached the end of the video file\n",
        "    if frame is None:\n",
        "        break\n",
        "    (h, w, c) = frame.shape\n",
        "\n",
        "    #沒有tracker的時候，就是要先找到要追蹤的目標\n",
        "    if len(trackers) == 0:\n",
        "\n",
        "            blob = cv2.dnn.blobFromImage(cv2.resize(frame, (300, 300)), 0.007843, (300, 300),  (127.5,127.5,127.5))\n",
        "            net.setInput(blob)\n",
        "            detections = net.forward()\n",
        "\n",
        "            if len(detections) > 0:\n",
        "                #針對每個偵測到的物件開始來做處理\n",
        "                for i in np.arange(0, detections.shape[2]):\n",
        "                    confidence = detections[0, 0, i, 2]\n",
        "                    if confidence >0.2:\n",
        "                        idx = int(detections[0, 0, i, 1])\n",
        "                        box = detections[0, 0, i, 3:7] * np.array([w, h, w, h])\n",
        "                        (startX, startY, endX, endY) = box.astype(\"int\")\n",
        "                        cv2.rectangle(frame, (startX, startY), (endX, endY), colors[idx], 2)\n",
        "\n",
        "                        label = \"{}: {:.2f}%\".format(categories[idx], confidence * 100)\n",
        "                        y = startY - 15 if startY - 15>15 else startY + 15\n",
        "                        cv2.putText(frame, label, (startX, y),cv2.FONT_HERSHEY_SIMPLEX, 0.5, colors[i], 2)\n",
        "\n",
        "                        #上面已經抓到物件\n",
        "                        #那就建立tracker，把座標給tracker\n",
        "                        tracker = dlib.correlation_tracker()\n",
        "                        rect = dlib.rectangle(startX, startY, endX, endY)\n",
        "                        #開始追蹤\n",
        "                        tracker.start_track(frame, rect)\n",
        "\n",
        "                        #把這些鎖定的資料和追蹤器都記錄起來\n",
        "                        #每個物件都有自己的追蹤器和標註\n",
        "                        trackers.append(tracker)\n",
        "                        labels.append(label)\n",
        "                        idxs.append(idx)\n",
        "\n",
        "\n",
        "    #如果有了追蹤目標，那就是一路給他追蹤下去囉!!\n",
        "    else:\n",
        "           for (tracker, label, idx) in zip(trackers, labels,idxs):\n",
        "                   #有新的frame進來，那就問一下追蹤器，有改變嗎?\n",
        "                   #有就更新一下囉!!\n",
        "                   tracker.update(frame)\n",
        "                   pos = tracker.get_position()\n",
        "\n",
        "                   startX = int(pos.left())\n",
        "                   startY = int(pos.top())\n",
        "                   endX = int(pos.right())\n",
        "                   endY = int(pos.bottom())\n",
        "\n",
        "                   cv2.rectangle(frame, (startX, startY), (endX, endY),colors[idx], 2)\n",
        "                   y = startY - 15 if startY - 15>15 else startY + 15\n",
        "                   cv2.putText(frame, label, (startX, y),cv2.FONT_HERSHEY_SIMPLEX, 0.5, colors[idx], 2)\n",
        "\n",
        "\n",
        "\n",
        "    cv2.imshow(\"Tracker\",frame)\n",
        "    k = cv2.waitKey(20)\n",
        "    if k == 27:\n",
        "        break\n",
        "cv2.destroyAllWindows()"
      ]
    }
  ],
  "metadata": {
    "kernelspec": {
      "display_name": "Python 3 (ipykernel)",
      "language": "python",
      "name": "python3"
    },
    "language_info": {
      "codemirror_mode": {
        "name": "ipython",
        "version": 3
      },
      "file_extension": ".py",
      "mimetype": "text/x-python",
      "name": "python",
      "nbconvert_exporter": "python",
      "pygments_lexer": "ipython3",
      "version": "3.8.8"
    },
    "colab": {
      "provenance": [],
      "include_colab_link": true
    }
  },
  "nbformat": 4,
  "nbformat_minor": 0
}