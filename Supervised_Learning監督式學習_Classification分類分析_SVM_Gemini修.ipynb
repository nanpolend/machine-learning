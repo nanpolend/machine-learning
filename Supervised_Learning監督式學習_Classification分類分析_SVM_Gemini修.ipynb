{
  "cells": [
    {
      "cell_type": "markdown",
      "metadata": {
        "id": "view-in-github",
        "colab_type": "text"
      },
      "source": [
        "<a href=\"https://colab.research.google.com/github/nanpolend/machine-learning/blob/master/Supervised_Learning%E7%9B%A3%E7%9D%A3%E5%BC%8F%E5%AD%B8%E7%BF%92_Classification%E5%88%86%E9%A1%9E%E5%88%86%E6%9E%90_SVM_Gemini%E4%BF%AE.ipynb\" target=\"_parent\"><img src=\"https://colab.research.google.com/assets/colab-badge.svg\" alt=\"Open In Colab\"/></a>"
      ]
    },
    {
      "source": [
        "# 掛載 Google Drive\n",
        "from google.colab import drive\n",
        "drive.mount('/content/drive')\n",
        "\n",
        "# 建立圖片資料夾 (可選)\n",
        "!mkdir /content/drive/MyDrive/colab_images\n",
        "\n",
        "# 假設您的圖片已上傳到 /content/drive/MyDrive/colab_images/ 資料夾中\n",
        "\n",
        "# 以下是您的程式碼，已將圖片路徑修改為 Google Drive 中的圖片路徑\n",
        "from IPython import get_ipython\n",
        "from IPython.display import display, Image\n",
        "# %% [markdown]\n",
        "# <h1>光頭傑夫製作</h1><img src=\"/content/drive/MyDrive/colab_images/Jeff.png\" width=160px align=\"left\" /> # 使用 Google Drive 中的圖片路徑\n",
        "# %% [markdown]\n",
        "# # <span style=\"color:red\"> Classification也可以想成是建立隔板的概念!\n",
        "# display(Image('/content/drive/MyDrive/colab_images/Classification也可以想成是建立隔板的概念.png')) # 請將此處的圖片路徑也修改為 Google Drive 中的圖片路徑\n",
        "# %% [markdown]\n",
        "# # <span style=\"color:red\"> Support Vector Machine (SVM)\n",
        "#\n",
        "# ---\n",
        "# %% [markdown]\n",
        "# ## <span style=\"color:red\"> 我們要把點分群分開-Maximum Separability\n",
        "# ---\n",
        "# display(Image('/content/drive/MyDrive/colab_images/我們要把點分群分開-Maximum Separability.png')) # 請將此處的圖片路徑也修改為 Google Drive 中的圖片路徑\n",
        "# %% [markdown]\n",
        "# ## <span style=\"color:red\"> 我們有很多種畫法\n",
        "# ----\n",
        "# display(Image('/content/drive/MyDrive/colab_images/我們有很多種畫法.png')) # 請將此處的圖片路徑也修改為 Google Drive 中的圖片路徑\n",
        "# %% [markdown]\n",
        "# ## <span style=\"color:red\"> 對SVM來說-Margin越大越好\n",
        "# ----\n",
        "# display(Image('/content/drive/MyDrive/colab_images/對SVM來說-Margin越大越好.png')) # 請將此處的圖片路徑也修改為 Google Drive 中的圖片路徑\n",
        "#\n",
        "# ----\n",
        "# ### 中間的那條分隔線，我們稱為hyperplane\n",
        "# %% [markdown]\n",
        "# ## <span style=\"color:red\"> 為什麼叫做SVM\n",
        "#\n",
        "# ----\n",
        "# display(Image('/content/drive/MyDrive/colab_images/為什麼叫做SVM.png')) # 請將此處的圖片路徑也修改為 Google Drive 中的圖片路徑\n",
        "# %% [markdown]\n",
        "# ## <span style=\"color:red\"> 那SVM要怎麼找到hyperplane\n",
        "#\n",
        "# ----\n",
        "# display(Image('/content/drive/MyDrive/colab_images/那SVM要怎麼找到hyperplane.png')) # 請將此處的圖片路徑也修改為 Google Drive 中的圖片路徑\n",
        "# %%\n",
        "#我想要把target的屬性互換一下\n",
        "import pandas as pd\n",
        "from sklearn.datasets import load_breast_cancer\n",
        "cancer = load_breast_cancer()        # Load dataset\n",
        "x = pd.DataFrame(cancer.data, columns=cancer.feature_names)\n",
        "y = pd.DataFrame(cancer.target, columns=['target'])\n",
        "y.loc[y['target'] == 1, 'target'] = 6\n",
        "y.loc[y['target'] == 0, 'target'] = 1\n",
        "y.loc[y['target'] == 6, 'target'] = 0\n",
        "# %%\n",
        "from sklearn.model_selection import train_test_split\n",
        "train_set, test_set, train_labels, test_labels = train_test_split(x,                # features\n",
        "                                                                  y,                # labels\n",
        "                                                                  test_size = 0.25, # split ratio\n",
        "                                                                  random_state = 1, # set random seed\n",
        "                                                                  )\n",
        "\n",
        "# %%\n",
        "# Train a support vector machine classifier\n",
        "from sklearn.svm import SVC\n",
        "\n",
        "svm = SVC(kernel='linear', C=1, random_state=1, gamma='scale')\n",
        "svm.fit(train_set, train_labels['target'])\n",
        "# %% [markdown]\n",
        "# ## <span style=\"color:red\">  <小插曲>什麼叫做Kernel\n",
        "#\n",
        "# ### 透過kernel，讓原本不好分的資料，變得好分。\n",
        "#\n",
        "# #### [參考地圖投影](https://zh.wikipedia.org/wiki/%E5%9C%B0%E5%9B%BE%E6%8A%95%E5%BD%B1)\n",
        "#\n",
        "# ---\n",
        "#\n",
        "# display(Image('/content/drive/MyDrive/colab_images/什麼叫做Kernel.png')) # 請將此處的圖片路徑也修改為 Google Drive 中的圖片路徑\n",
        "# %% [markdown]\n",
        "# ## <span style=\"color:red\">  <小插曲>C又是什麼?\n",
        "#\n",
        "# ### C是penalty parameter of the error term，錯誤懲罰因子\n",
        "#\n",
        "# ### 簡單而言，C值越高，就越要求模型一定要把每個點都判斷對，但是這樣的結果，你的線就會變得奇形怪狀。\n",
        "#\n",
        "# ---\n",
        "#\n",
        "# display(Image('/content/drive/MyDrive/colab_images/C又是什麼.png')) # 請將此處的圖片路徑也修改為 Google Drive 中的圖片路徑\n",
        "# %% [markdown]\n",
        "# ## <span style=\"color:red\">不同C值的比較\n",
        "# ---\n",
        "# display(Image('/content/drive/MyDrive/colab_images/不同C值的比較.png')) # 請將此處的圖片路徑也修改為 Google Drive 中的圖片路徑\n",
        "# %% [markdown]\n",
        "# ## <span style=\"color:red\">  <小插曲>Gamma又是什麼?\n",
        "#\n",
        "# ### Gamma定義了每一個資料點的影響程度\n",
        "#\n",
        "# ### 簡單而言，Gamma值越高，hyperplane附近的點影響模型越大\n",
        "#\n",
        "# ---\n",
        "#\n",
        "# display(Image('/content/drive/MyDrive/colab_images/Gamma又是什麼.png')) # 請將此處的圖片路徑也修改為 Google Drive 中的圖片路徑\n",
        "# %% [markdown]\n",
        "# display(Image('/content/drive/MyDrive/colab_images/Gamma又是什麼2.png')) # 請將此處的圖片路徑也修改為 Google Drive 中的圖片路徑\n",
        "# %% [markdown]\n",
        "# display(Image('/content/drive/MyDrive/colab_images/Gamma又是什麼3.png')) # 請將此處的圖片路徑也修改為 Google Drive 中的圖片路徑\n",
        "# %% [markdown]\n",
        "# ## <span style=\"color:red\">混合結果\n",
        "#\n",
        "# ### Gamma一放大，因為受到近點的影響，所以就會隨著近點的形狀改變，變成那個類似的形狀\n",
        "#\n",
        "# ----\n",
        "# display(Image('/content/drive/MyDrive/colab_images/混合結果.png')) # 請將此處的圖片路徑也修改為 Google Drive 中的圖片路徑\n",
        "# %%\n",
        "# What does the confusion matrix look like?\n",
        "#留下來的全猜對\n",
        "#但是走光的，都判定錯了\n",
        "from sklearn.metrics import confusion_matrix\n",
        "y_pred=svm.predict(test_set)\n",
        "confusion_matrix(test_labels, y_pred)\n",
        "# %% [markdown]\n",
        "# display(Image('/content/drive/MyDrive/colab_images/confusion_matrix.png')) # 請將此處的圖片路徑也修改為 Google Drive 中的圖片路徑"
      ],
      "cell_type": "code",
      "metadata": {
        "colab": {
          "base_uri": "https://localhost:8080/"
        },
        "id": "zfIaYDfQzut2",
        "outputId": "f53b6ff8-8a15-44a7-9f72-c2ae7624edab"
      },
      "execution_count": 3,
      "outputs": [
        {
          "output_type": "stream",
          "name": "stdout",
          "text": [
            "Drive already mounted at /content/drive; to attempt to forcibly remount, call drive.mount(\"/content/drive\", force_remount=True).\n",
            "mkdir: cannot create directory ‘/content/drive/MyDrive/colab_images’: File exists\n"
          ]
        },
        {
          "output_type": "execute_result",
          "data": {
            "text/plain": [
              "array([[85,  3],\n",
              "       [ 5, 50]])"
            ]
          },
          "metadata": {},
          "execution_count": 3
        }
      ]
    }
  ],
  "metadata": {
    "anaconda-cloud": {},
    "hide_input": false,
    "kernelspec": {
      "display_name": "Python 3 (ipykernel)",
      "language": "python",
      "name": "python3"
    },
    "language_info": {
      "codemirror_mode": {
        "name": "ipython",
        "version": 3
      },
      "file_extension": ".py",
      "mimetype": "text/x-python",
      "name": "python",
      "nbconvert_exporter": "python",
      "pygments_lexer": "ipython3",
      "version": "3.8.8"
    },
    "toc": {
      "base_numbering": 1,
      "nav_menu": {},
      "number_sections": true,
      "sideBar": true,
      "skip_h1_title": false,
      "title_cell": "Table of Contents",
      "title_sidebar": "Contents",
      "toc_cell": false,
      "toc_position": {},
      "toc_section_display": true,
      "toc_window_display": false
    },
    "varInspector": {
      "cols": {
        "lenName": 16,
        "lenType": 16,
        "lenVar": 40
      },
      "kernels_config": {
        "python": {
          "delete_cmd_postfix": "",
          "delete_cmd_prefix": "del ",
          "library": "var_list.py",
          "varRefreshCmd": "print(var_dic_list())"
        },
        "r": {
          "delete_cmd_postfix": ") ",
          "delete_cmd_prefix": "rm(",
          "library": "var_list.r",
          "varRefreshCmd": "cat(var_dic_list()) "
        }
      },
      "types_to_exclude": [
        "module",
        "function",
        "builtin_function_or_method",
        "instance",
        "_Feature"
      ],
      "window_display": false
    },
    "colab": {
      "provenance": [],
      "include_colab_link": true
    }
  },
  "nbformat": 4,
  "nbformat_minor": 0
}