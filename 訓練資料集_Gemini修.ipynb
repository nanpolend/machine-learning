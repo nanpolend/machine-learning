{
  "nbformat": 4,
  "nbformat_minor": 0,
  "metadata": {
    "colab": {
      "provenance": [],
      "authorship_tag": "ABX9TyNfMNrB7dym+C0eGCqV7vkA",
      "include_colab_link": true
    },
    "kernelspec": {
      "name": "python3",
      "display_name": "Python 3"
    },
    "language_info": {
      "name": "python"
    }
  },
  "cells": [
    {
      "cell_type": "markdown",
      "metadata": {
        "id": "view-in-github",
        "colab_type": "text"
      },
      "source": [
        "<a href=\"https://colab.research.google.com/github/nanpolend/machine-learning/blob/master/%E8%A8%93%E7%B7%B4%E8%B3%87%E6%96%99%E9%9B%86_Gemini%E4%BF%AE.ipynb\" target=\"_parent\"><img src=\"https://colab.research.google.com/assets/colab-badge.svg\" alt=\"Open In Colab\"/></a>"
      ]
    },
    {
      "source": [
        "+------------+\n",
        "                                   | sklearn   |\n",
        "                                   +------------+\n",
        "                                        |\n",
        "                                        | 匯入 datasets 模組\n",
        "                                        V\n",
        "                                   +------------+\n",
        "                                   | datasets  |\n",
        "                                   +------------+\n",
        "                                        |\n",
        "                  +-------------------+------------+-------------------+\n",
        "                  |                   |            |                   |\n",
        "                  | 載入 boston 資料集 | 載入 diabets 資料集| 載入 iris 資料集  |\n",
        "                  |                   |            |                   |\n",
        "                  V                   V            V                   V\n",
        "             +--------+          +--------+       +--------+         +--------+\n",
        "             | boston |          | diabets|       | iris  |         | digits |\n",
        "             +--------+          +--------+       +--------+         +--------+\n",
        "                  |                   |            |                   |\n",
        "                  | 印出鍵值          | 印出鍵值         | 印出鍵值          |\n",
        "                  |                   |            |                   |\n",
        "                  +-------------------+------------+-------------------+"
      ],
      "cell_type": "code",
      "metadata": {
        "id": "cceIWBl5nMjt"
      },
      "execution_count": null,
      "outputs": []
    },
    {
      "cell_type": "markdown",
      "source": [],
      "metadata": {
        "id": "ZMSZPFTsnOBd"
      }
    },
    {
      "source": [
        "# 匯入必要的函式庫\n",
        "from sklearn import datasets\n",
        "\n",
        "# 載入四個常用的機器學習資料集\n",
        "# boston, diabets 用於迴歸分析\n",
        "boston = datasets.load_boston()\n",
        "diabets = datasets.load_diabetes()\n",
        "# iris, digits 用於分類問題\n",
        "iris = datasets.load_iris()\n",
        "digits = datasets.load_digits()\n",
        "\n",
        "# 印出每個資料集的鍵值，以了解其包含的資訊\n",
        "print(\"boston 資料集的鍵值：\", boston.keys())\n",
        "print(\"diabets 資料集的鍵值：\", diabets.keys())\n",
        "print(\"iris 資料集的鍵值：\", iris.keys())\n",
        "print(\"digits 資料集的鍵值：\", digits.keys())\n",
        "\n",
        "\"\"\"\n",
        "## 程式碼說明：\n",
        "\n",
        "1. **匯入 `datasets` 模組:**\n",
        "   `from sklearn import datasets`\n",
        "   - 這一行程式碼從 `sklearn` 函式庫匯入 `datasets` 模組。\n",
        "   - `sklearn` (scikit-learn 的簡稱) 是一個廣泛使用的 Python 機器學習函式庫。\n",
        "   - `datasets` 模組提供了一些常用的內建資料集，可用於練習和測試機器學習演算法。\n",
        "\n",
        "2. **載入資料集:**\n",
        "   `boston = datasets.load_boston()`\n",
        "   `diabets = datasets.load_diabetes()`\n",
        "   `iris = datasets.load_iris()`\n",
        "   `digits = datasets.load_digits()`\n",
        "   - 這些程式碼載入了四個不同的資料集：`boston`、`diabets`、`iris` 和 `digits`。\n",
        "   - 每個資料集都使用 `datasets` 模組中的特定函數載入 (例如，`load_boston()`、`load_diabetes()` 等)。\n",
        "   - 載入的資料集會被賦值給具有相同名稱的變數，以便之後輕鬆存取。\n",
        "\n",
        "3. **印出資料集的鍵值:**\n",
        "   `print(\"boston 資料集的鍵值：\", boston.keys())`\n",
        "   `print(\"diabets 資料集的鍵值：\", diabets.keys())`\n",
        "   `print(\"iris 資料集的鍵值：\", iris.keys())`\n",
        "   `print(\"digits 資料集的鍵值：\", digits.keys())`\n",
        "   - 這些程式碼印出每個已載入資料集的鍵值。\n",
        "   - 在這個情境中，「鍵值」指的是儲存在每個資料集中的不同資訊。\n",
        "   - 例如，一個資料集可能具有 `data`（包含實際資料點）、`target`（包含我們想要預測的標籤或值）和 `feature_names`（描述每個資料欄位的含義）等鍵值。\n",
        "   - 通過印出鍵值，我們可以看到每個資料集中有哪些可用的資訊。\n",
        "\n",
        "## 架構圖："
      ],
      "cell_type": "code",
      "metadata": {
        "id": "K-CyMjLrndgM"
      },
      "execution_count": null,
      "outputs": []
    },
    {
      "source": [
        "## 註解：\n",
        "\n",
        "- `#boston, diabets 用於迴歸分析` 和 `#iris, digits 用於分類問題`：這些是程式碼中的註解，用於說明每個資料集的用途。\n",
        "- `print()` 函數：用於將資訊印到螢幕上。\n",
        "- `.keys()` 方法：用於取得資料集的鍵值。\n",
        "\"\"\""
      ],
      "cell_type": "code",
      "metadata": {
        "id": "tk5LeHAXniYY"
      },
      "execution_count": null,
      "outputs": []
    },
    {
      "cell_type": "code",
      "source": [],
      "metadata": {
        "id": "1_5avSzFnN7F"
      },
      "execution_count": null,
      "outputs": []
    }
  ]
}