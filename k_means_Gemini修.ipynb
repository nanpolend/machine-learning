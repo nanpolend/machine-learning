{
  "nbformat": 4,
  "nbformat_minor": 0,
  "metadata": {
    "colab": {
      "provenance": [],
      "authorship_tag": "ABX9TyM0yn/5c1ScyGZd70hJwnN8",
      "include_colab_link": true
    },
    "kernelspec": {
      "name": "python3",
      "display_name": "Python 3"
    },
    "language_info": {
      "name": "python"
    }
  },
  "cells": [
    {
      "cell_type": "markdown",
      "metadata": {
        "id": "view-in-github",
        "colab_type": "text"
      },
      "source": [
        "<a href=\"https://colab.research.google.com/github/nanpolend/machine-learning/blob/master/k_means_Gemini%E4%BF%AE.ipynb\" target=\"_parent\"><img src=\"https://colab.research.google.com/assets/colab-badge.svg\" alt=\"Open In Colab\"/></a>"
      ]
    },
    {
      "source": [
        "import pandas as pd\n",
        "import numpy as np\n",
        "from sklearn import datasets\n",
        "import matplotlib.pyplot as plt\n",
        "\n",
        "# 導入函式庫：\n",
        "# pandas 用於資料處理和分析，numpy 用於數值計算，\n",
        "# sklearn 提供鳶尾花資料集，matplotlib 用於繪圖。\n",
        "\n",
        "iris = datasets.load_iris()\n",
        "\n",
        "# 載入鳶尾花資料集到變數 iris。\n",
        "\n",
        "X = pd.DataFrame(iris.data, columns=iris.feature_names)\n",
        "X.columns = [\"sepal_length\", \"sepal_width\", \"petal_length\", \"petal_width\"]\n",
        "target = pd.DataFrame(iris.target, columns=[\"target\"])\n",
        "y = target[\"target\"]\n",
        "\n",
        "# 將資料集的特徵儲存到 DataFrame X 中，\n",
        "# 並將欄位名稱設定為描述性的名稱。\n",
        "# 將目標變數（鳶尾花種類）儲存到 DataFrame target 中，\n",
        "# 並將其提取到變數 y 中。\n",
        "\n",
        "colmap = np.array([\"r\", \"g\", \"y\"])\n",
        "plt.figure(figsize=(10,5))\n",
        "plt.subplot(1,2,1)\n",
        "plt.scatter(X[\"sepal_length\"], X[\"sepal_width\"], color=colmap[y])\n",
        "plt.xlabel(\"Sepal Length\")\n",
        "plt.ylabel(\"Sepal Width\")\n",
        "plt.subplot(1,2,2)\n",
        "plt.scatter(X[\"petal_length\"], X[\"petal_width\"], color=colmap[y])\n",
        "plt.xlabel(\"Petal Length\")\n",
        "plt.ylabel(\"Petal Width\")\n",
        "plt.show()\n",
        "\n",
        "# 設定顏色映射，建立圖形和子圖。\n",
        "# 使用散點圖繪製萼片長度和寬度，以及花瓣長度和寬度，\n",
        "# 並根據鳶尾花種類使用不同的顏色。\n",
        "# 設定圖表標籤，並顯示圖形。"
      ],
      "cell_type": "code",
      "metadata": {
        "id": "bNoFcm5pFXiY"
      },
      "execution_count": null,
      "outputs": []
    }
  ]
}