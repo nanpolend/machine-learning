{
  "nbformat": 4,
  "nbformat_minor": 0,
  "metadata": {
    "colab": {
      "provenance": [],
      "authorship_tag": "ABX9TyNwHZm8ZRLaSmfejBhISPtw",
      "include_colab_link": true
    },
    "kernelspec": {
      "name": "python3",
      "display_name": "Python 3"
    },
    "language_info": {
      "name": "python"
    }
  },
  "cells": [
    {
      "cell_type": "markdown",
      "metadata": {
        "id": "view-in-github",
        "colab_type": "text"
      },
      "source": [
        "<a href=\"https://colab.research.google.com/github/nanpolend/machine-learning/blob/master/%E6%B1%BA%E7%AD%96%E6%A8%B9_Gemini%E4%BF%AE.ipynb\" target=\"_parent\"><img src=\"https://colab.research.google.com/assets/colab-badge.svg\" alt=\"Open In Colab\"/></a>"
      ]
    },
    {
      "source": [
        "+---------------------+\n",
        "|  載入 Iris 資料集  |\n",
        "+--------+------------+\n",
        "         |\n",
        "         v\n",
        "+---------------------+\n",
        "|  資料前處理        |\n",
        "|  - 建立 DataFrame  |\n",
        "|  - 分割資料       |\n",
        "+--------+------------+\n",
        "         |\n",
        "         v\n",
        "+---------------------+\n",
        "|  建立決策樹模型    |\n",
        "|  - 設定參數       |\n",
        "|  - 訓練模型       |\n",
        "+--------+------------+\n",
        "         |\n",
        "         v\n",
        "+---------------------+\n",
        "|  模型評估        |\n",
        "|  - 計算準確率     |\n",
        "|  - 預測結果       |\n",
        "+---------------------+"
      ],
      "cell_type": "code",
      "metadata": {
        "id": "78sIg_66tGuT"
      },
      "execution_count": null,
      "outputs": []
    },
    {
      "source": [
        "# 導入必要的函式庫\n",
        "import pandas as pd  # 處理資料，例如建立 DataFrame\n",
        "from sklearn import datasets  # 載入資料集，例如 Iris 資料集\n",
        "from sklearn import tree  # 建立決策樹模型\n",
        "from sklearn.model_selection import train_test_split  # 將資料分割成訓練集和測試集\n",
        "\n",
        "# 載入 Iris 資料集\n",
        "iris = datasets.load_iris()\n",
        "\n",
        "# 資料前處理\n",
        "# 建立 DataFrame，將資料整理成表格形式\n",
        "# X 包含花的特徵，y 包含花的種類\n",
        "x = pd.DataFrame(iris.data, columns=iris.feature_names)  # 建立特徵 DataFrame，欄位名稱為特徵名稱\n",
        "X = x  # 將 x 指派給 X，修正原本程式碼的錯誤\n",
        "target = pd.DataFrame(iris.target, columns=[\"target\"])  # 建立目標 DataFrame，欄位名稱為 \"target\"\n",
        "y = target[\"target\"]  # 從目標 DataFrame 中取出 \"target\" 欄位，作為目標變數\n",
        "\n",
        "# 將資料分割成訓練集和測試集\n",
        "# 33% 的資料用於測試，67% 的資料用於訓練\n",
        "# random_state 確保每次分割結果相同\n",
        "XTrain, XTest, yTrain, yTest = train_test_split(X, y, test_size=0.33, random_state=1)\n",
        "\n",
        "# 建立決策樹模型\n",
        "# max_depth 設定決策樹的最大深度，避免模型過度複雜\n",
        "dtree = tree.DecisionTreeClassifier(max_depth=3)\n",
        "\n",
        "# 使用訓練集訓練決策樹模型\n",
        "dtree.fit(XTrain, yTrain)\n",
        "\n",
        "# 模型評估\n",
        "# 計算模型在測試集上的準確率\n",
        "print(\"準確度:\", dtree.score(XTest, yTest))\n",
        "\n",
        "# 使用模型預測測試集的結果\n",
        "print(\"預測結果:\", dtree.predict(XTest))\n",
        "\n",
        "# 顯示測試集的實際結果，以便與預測結果比較\n",
        "print(\"實際結果:\", yTest.values)"
      ],
      "cell_type": "code",
      "metadata": {
        "colab": {
          "base_uri": "https://localhost:8080/"
        },
        "id": "k3qZb8r_tJb-",
        "outputId": "c094ff77-a662-48a4-d264-96f942ab1e04"
      },
      "execution_count": 1,
      "outputs": [
        {
          "output_type": "stream",
          "name": "stdout",
          "text": [
            "準確度: 0.96\n",
            "預測結果: [0 1 1 0 2 1 2 0 0 2 1 0 2 1 1 0 1 1 0 0 1 1 2 0 2 1 0 0 1 2 1 2 1 2 2 0 1\n",
            " 0 1 2 2 0 1 2 1 2 0 0 0 1]\n",
            "實際結果: [0 1 1 0 2 1 2 0 0 2 1 0 2 1 1 0 1 1 0 0 1 1 1 0 2 1 0 0 1 2 1 2 1 2 2 0 1\n",
            " 0 1 2 2 0 2 2 1 2 0 0 0 1]\n"
          ]
        }
      ]
    }
  ]
}