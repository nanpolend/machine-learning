{
  "cells": [
    {
      "cell_type": "markdown",
      "metadata": {
        "id": "view-in-github",
        "colab_type": "text"
      },
      "source": [
        "<a href=\"https://colab.research.google.com/github/nanpolend/365E5/blob/master/%E8%BB%8A%E7%89%8C%E8%BE%A8%E8%AD%98%E6%A8%A1%E7%B5%84.ipynb\" target=\"_parent\"><img src=\"https://colab.research.google.com/assets/colab-badge.svg\" alt=\"Open In Colab\"/></a>"
      ]
    },
    {
      "cell_type": "markdown",
      "metadata": {
        "id": "WrLHqMTgakgX"
      },
      "source": [
        "<h1>光頭傑夫製作</h1><img src=\"https://rolqiw.bl.files.1drv.com/y4mYqkObWmQmdJFd8pab8t8m7d_mFhh3_YG63fiAnPaG6gjahHFt0n087pF97x1W2wemm7hd4ZdiPD2OxoPtqcCD_4-Jy-fojnt97kGGWR4Hnq0-9Ny61afd7WVHVTmF_9pcr45OFDFSwLKByeQU1q9TjwKk-HsNmWVsW1eGQ4Gi-9G4pQ5DYoTxswYJ5r5dLF-kKsA1InEyrqmV3kF5pm4WQ?width=658&height=584&cropmode=none\" width=160px align=\"left\" />\n",
        "<!--nicknochnack/ANPRwithPython-->"
      ]
    },
    {
      "cell_type": "markdown",
      "metadata": {
        "id": "9Jq5lMZ8akgY"
      },
      "source": [
        "## <font color=red>處理步驟\n",
        "------\n",
        "![image.png](attachment:image.png)"
      ]
    },
    {
      "cell_type": "markdown",
      "metadata": {
        "id": "VjCyCKFTakgY"
      },
      "source": [
        "## <font color=red>請先設立一個新的virtualenv"
      ]
    },
    {
      "cell_type": "markdown",
      "metadata": {
        "id": "dxKa23TgakgZ"
      },
      "source": [
        "## <font color=red>然後安裝下列組件"
      ]
    },
    {
      "cell_type": "code",
      "execution_count": null,
      "metadata": {
        "id": "IIWTSMx7akgZ"
      },
      "outputs": [],
      "source": [
        "!pip install easyocr\n",
        "!pip install imutils  #圖像路徑處理工具\n",
        "!pip install matplotlib\n",
        "!pip install opencv-python==4.5.4.60 --user"
      ]
    },
    {
      "cell_type": "markdown",
      "metadata": {
        "id": "_0IB56HDakgZ"
      },
      "source": [
        "## <font color=red>導入工具"
      ]
    },
    {
      "cell_type": "code",
      "execution_count": null,
      "metadata": {
        "id": "XHV0cALSakga"
      },
      "outputs": [],
      "source": [
        "import cv2\n",
        "from matplotlib import pyplot as plt\n",
        "import numpy as np\n",
        "import imutils\n",
        "import easyocr"
      ]
    },
    {
      "cell_type": "markdown",
      "metadata": {
        "id": "ZjwuzYSVakga"
      },
      "source": [
        "## <font color=red>1. 把圖片讀進來，改變一下尺寸"
      ]
    },
    {
      "cell_type": "code",
      "execution_count": null,
      "metadata": {
        "id": "K2hGR2u1akga"
      },
      "outputs": [],
      "source": [
        "image = cv2.imread('JPG1.jpg')\n",
        "image = imutils.resize(image, width=500)\n",
        "cv2.imshow(\"Original Image\", image)\n",
        "cv2.waitKey(0)\n",
        "cv2.destroyAllWindows()"
      ]
    },
    {
      "cell_type": "markdown",
      "metadata": {
        "id": "ePxF5USHakga"
      },
      "source": [
        "## <font color=red>2.轉灰階"
      ]
    },
    {
      "cell_type": "code",
      "execution_count": null,
      "metadata": {
        "id": "EczrkLtdakga"
      },
      "outputs": [],
      "source": [
        "gray = cv2.cvtColor(image, cv2.COLOR_BGR2GRAY)\n",
        "cv2.imshow(\"1 - Grayscale Conversion\", gray)\n",
        "cv2.waitKey(0)\n",
        "cv2.destroyAllWindows()"
      ]
    },
    {
      "cell_type": "markdown",
      "metadata": {
        "id": "Jmz2UCDQakgb"
      },
      "source": [
        "## <font color=red>4.在保持edge的狀態下，去除noise"
      ]
    },
    {
      "cell_type": "code",
      "execution_count": null,
      "metadata": {
        "id": "7jiOrYGwakgb"
      },
      "outputs": [],
      "source": [
        "gray = cv2.bilateralFilter(gray, 11, 17, 17)\n",
        "cv2.imshow(\"2 - Bilateral Filter\", gray)\n",
        "cv2.waitKey(0)\n",
        "cv2.destroyAllWindows()"
      ]
    },
    {
      "cell_type": "markdown",
      "metadata": {
        "id": "UPLmcj17akgb"
      },
      "source": [
        "## <font color=red>5.用Canny取得邊界圖"
      ]
    },
    {
      "cell_type": "code",
      "execution_count": null,
      "metadata": {
        "id": "jt6POmI6akgb"
      },
      "outputs": [],
      "source": [
        "edged = cv2.Canny(gray, 170, 200)\n",
        "cv2.imshow(\"3 - Canny Edges\", edged)\n",
        "cv2.waitKey(0)\n",
        "cv2.destroyAllWindows()"
      ]
    },
    {
      "cell_type": "markdown",
      "metadata": {
        "id": "1duYEm5makgb"
      },
      "source": [
        "## <font color=red>6.計算contour"
      ]
    },
    {
      "cell_type": "code",
      "execution_count": null,
      "metadata": {
        "id": "iF2HxUOgakgb"
      },
      "outputs": [],
      "source": [
        "cnts, new  = cv2.findContours(edged.copy(), cv2.RETR_LIST, cv2.CHAIN_APPROX_SIMPLE)\n",
        "img1 = image.copy()\n",
        "cv2.drawContours(img1, cnts, -1, (0,255,0), 3)\n",
        "cv2.imshow(\"4- All Contours\", img1)\n",
        "cv2.waitKey(0)\n",
        "cv2.destroyAllWindows()"
      ]
    },
    {
      "cell_type": "markdown",
      "metadata": {
        "id": "8hS_F2riakgb"
      },
      "source": [
        "## <font color=red>7.利用面積大小，計算出面積最大前30名的contour"
      ]
    },
    {
      "cell_type": "code",
      "execution_count": null,
      "metadata": {
        "id": "3rMFd6hGakgb"
      },
      "outputs": [],
      "source": [
        "cnts=sorted(cnts, key = cv2.contourArea, reverse = True)[:30]\n",
        "\n",
        "img2 = image.copy()\n",
        "cv2.drawContours(img2, cnts, -1, (0,255,0), 3)\n",
        "cv2.imshow(\"5- Top 30 Contours\", img2)\n",
        "cv2.waitKey(0)\n",
        "cv2.destroyAllWindows()"
      ]
    },
    {
      "cell_type": "markdown",
      "metadata": {
        "id": "7G_gtIcNakgb"
      },
      "source": [
        "## <font color=red>8.把車牌摘下來"
      ]
    },
    {
      "cell_type": "code",
      "execution_count": null,
      "metadata": {
        "id": "eMgQKafcakgc"
      },
      "outputs": [],
      "source": [
        "cropped_image= None\n",
        "approx = None\n",
        "for c in cnts:\n",
        "        #開始對每個contour做邊界辨識\n",
        "        peri = cv2.arcLength(c, True)\n",
        "        approx = cv2.approxPolyDP(c, 0.02 * peri, True)\n",
        "\n",
        "        #挑選多邊形尋找結果是有4個corners的\n",
        "        if len(approx) == 4:\n",
        "            # Crop those contours and store it in Cropped Images folder\n",
        "            x, y, w, h = cv2.boundingRect(c) #This will find out co-ord for plate\n",
        "            cropped_image= gray[y:y + h, x:x + w] #Create new image\n",
        "            break\n",
        "\n",
        "cv2.imshow(\"Cropped Image \", cropped_image)\n",
        "cv2.waitKey(0)\n",
        "cv2.destroyAllWindows()\n",
        "print(approx )"
      ]
    },
    {
      "cell_type": "markdown",
      "metadata": {
        "id": "KbhUJC1Qakgc"
      },
      "source": [
        "## <font color=red>9.開始認字"
      ]
    },
    {
      "cell_type": "code",
      "execution_count": null,
      "metadata": {
        "scrolled": true,
        "id": "FD6ZGnKqakgc"
      },
      "outputs": [],
      "source": [
        "reader = easyocr.Reader(['en'])\n",
        "result = reader.readtext(cropped_image)\n",
        "print(result)"
      ]
    },
    {
      "cell_type": "markdown",
      "metadata": {
        "id": "28M18xF-akgc"
      },
      "source": [
        "### 如果easyocr運轉有問題，opencv要降轉\n",
        "```\n",
        "pip install opencv-python==4.5.4.60\n",
        "```"
      ]
    },
    {
      "cell_type": "markdown",
      "metadata": {
        "id": "kG20L64Pakgc"
      },
      "source": [
        "## <font color=red>10.標示一下"
      ]
    },
    {
      "cell_type": "markdown",
      "metadata": {
        "id": "m2Gju6poakgc"
      },
      "source": [
        "```\n",
        "若要在圖片上加上文字，可以使用 cv2.putText 函數：\n",
        "\n",
        "cv2.putText(影像, 文字, 座標, 字型, 大小, 顏色, 線條寬度, 線條種類)\n",
        "```"
      ]
    },
    {
      "cell_type": "code",
      "execution_count": null,
      "metadata": {
        "id": "A84Fw2BTakgc"
      },
      "outputs": [],
      "source": [
        "#把辨別的文字取出來\n",
        "text = result[0][-2]\n",
        "#設定一下字體\n",
        "font = cv2.FONT_HERSHEY_SIMPLEX\n",
        "#把文字寫上圖片\n",
        "#org是字的座標，參考approx的位置，往下移動60\n",
        "res = cv2.putText(image, text=text, org=(approx[0][0][0], approx[1][0][1]+60), fontFace=font, fontScale=1, color=(0,255,0), thickness=2, lineType=cv2.LINE_AA)\n",
        "#把車牌框做出來\n",
        "res = cv2.rectangle(image, tuple(approx[0][0]), tuple(approx[2][0]), (0,255,0),3)\n",
        "plt.imshow(cv2.cvtColor(res, cv2.COLOR_BGR2RGB))"
      ]
    }
  ],
  "metadata": {
    "kernelspec": {
      "display_name": "Python 3 (ipykernel)",
      "language": "python",
      "name": "python3"
    },
    "language_info": {
      "codemirror_mode": {
        "name": "ipython",
        "version": 3
      },
      "file_extension": ".py",
      "mimetype": "text/x-python",
      "name": "python",
      "nbconvert_exporter": "python",
      "pygments_lexer": "ipython3",
      "version": "3.9.12"
    },
    "colab": {
      "provenance": [],
      "include_colab_link": true
    }
  },
  "nbformat": 4,
  "nbformat_minor": 0
}