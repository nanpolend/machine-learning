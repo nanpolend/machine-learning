{
  "nbformat": 4,
  "nbformat_minor": 0,
  "metadata": {
    "colab": {
      "provenance": [],
      "authorship_tag": "ABX9TyMaMnNOlsooEP2bjqOnYT8n",
      "include_colab_link": true
    },
    "kernelspec": {
      "name": "python3",
      "display_name": "Python 3"
    },
    "language_info": {
      "name": "python"
    }
  },
  "cells": [
    {
      "cell_type": "markdown",
      "metadata": {
        "id": "view-in-github",
        "colab_type": "text"
      },
      "source": [
        "<a href=\"https://colab.research.google.com/github/nanpolend/machine-learning/blob/master/%E5%AE%8C%E5%85%A8%E9%80%A3%E6%8E%A5%E5%B1%A4_Gemini%E4%BF%AE.ipynb\" target=\"_parent\"><img src=\"https://colab.research.google.com/assets/colab-badge.svg\" alt=\"Open In Colab\"/></a>"
      ]
    },
    {
      "source": [
        "+-------+\n",
        "                                    |  Data  |\n",
        "                                    +-------+\n",
        "                                        |\n",
        "                                        v\n",
        "                                +---------------+\n",
        "                                | Data Cleaning |\n",
        "                                +---------------+\n",
        "                                        |\n",
        "                                        v\n",
        "                             +--------------------+\n",
        "                             |  Feature Scaling  |\n",
        "                             +--------------------+\n",
        "                                        |\n",
        "                                        v\n",
        "                                 +------------+\n",
        "                                 |   Model   |\n",
        "                                 +------------+\n",
        "                                /      |      \\\n",
        "                           /        |        \\\n",
        "                      /           |           \\\n",
        "               +-----------+  +-----------+  +-----------+\n",
        "               |  Input   |->|  Hidden   |->|  Output   |\n",
        "               +-----------+  +-----------+  +-----------+"
      ],
      "cell_type": "code",
      "metadata": {
        "id": "rR8EY9KFwB1S"
      },
      "execution_count": null,
      "outputs": []
    },
    {
      "source": [
        "# -*- coding: utf-8 -*-\n",
        "\"\"\"\n",
        "建立時間：2023年3月11日 01:31:09\n",
        "\n",
        "作者：nanpo\n",
        "\"\"\"\n",
        "import numpy as np\n",
        "import tensorflow as tf\n",
        "\n",
        "# 1. 產生隨機數據\n",
        "# 設定數據點數量\n",
        "n = 100\n",
        "# 使用 np.linspace 產生 0 到 50 之間 n 個等距的值，分別賦予 x 和 y\n",
        "x = np.linspace(0, 50, n)\n",
        "y = np.linspace(0, 50, n)\n",
        "# 為 x 和 y 的每個元素加上 -10 到 10 之間的隨機雜訊，模擬真實數據的噪聲\n",
        "x += np.random.uniform(-10, 10, n)\n",
        "y += np.random.uniform(-10, 10, n)\n",
        "\n",
        "# 2. 定義模型\n",
        "# 建立一個 Dense 層，作為模型的第一層，神經元數量為 1，輸入形狀為 [1] (單一值)\n",
        "layer1 = tf.keras.layers.Dense(units=1, input_shape=[1])\n",
        "# 使用 Sequential 建立一個線性堆疊模型，此模型只包含 layer1\n",
        "model = tf.keras.Sequential([layer1])\n",
        "# 設定模型的損失函數為均方誤差 (MSE)，優化器為 Adam\n",
        "model.compile(loss='mean_squared_error', optimizer=tf.keras.optimizers.Adam())\n",
        "\n",
        "# 3. 訓練模型\n",
        "# 使用產生的數據 (x 和 y) 訓練模型，epochs=500 表示訓練過程迭代 500 次，verbose=False 表示訓練過程中不輸出訊息\n",
        "history = model.fit(x, y, epochs=500, verbose=False)\n",
        "\n",
        "# 4. 輸出學習到的權重和偏差\n",
        "# 獲取 layer1 的權重，並賦予 w\n",
        "w = layer1.get_weights()[0][0][0]\n",
        "# 獲取 layer1 的偏差，並賦予 b\n",
        "b = layer1.get_weights()[1][0]\n",
        "# 輸出權重 (w) 和偏差 (b) 的值，格式化為四位小數\n",
        "print(f\"w:{w:.4f}, b:{b:.4f}\")\n",
        "\n",
        "# 5. 繪製數據和模型預測結果\n",
        "import matplotlib.pyplot as plt\n",
        "# 使用 scatter 繪製原始數據點 (x 和 y) 的散點圖\n",
        "plt.scatter(x, y, label='數據')\n",
        "# 使用 plot 繪製模型的預測結果，以紅色線條表示，預測值使用學習到的權重 (w) 和偏差 (b) 計算\n",
        "plt.plot(x, x * w + b, 'r-', label='預測')\n",
        "# 顯示圖例，用於識別數據點和預測線\n",
        "plt.legend()\n",
        "# 設定 x 軸標籤\n",
        "plt.xlabel('訓練週期', fontsize=20)\n",
        "# 設定 y 軸標籤\n",
        "plt.ylabel('損失函數 (MSE)', fontsize=20)\n",
        "# 顯示圖表\n",
        "plt.show()"
      ],
      "cell_type": "code",
      "metadata": {
        "colab": {
          "base_uri": "https://localhost:8080/",
          "height": 937
        },
        "id": "Ilhn82iHwHHm",
        "outputId": "5dd6af4b-1f59-4a12-bef7-19b7ba77cf48"
      },
      "execution_count": 1,
      "outputs": [
        {
          "output_type": "stream",
          "name": "stderr",
          "text": [
            "/usr/local/lib/python3.11/dist-packages/keras/src/layers/core/dense.py:87: UserWarning: Do not pass an `input_shape`/`input_dim` argument to a layer. When using Sequential models, prefer using an `Input(shape)` object as the first layer in the model instead.\n",
            "  super().__init__(activity_regularizer=activity_regularizer, **kwargs)\n"
          ]
        },
        {
          "output_type": "stream",
          "name": "stdout",
          "text": [
            "w:-0.1008, b:1.6386\n"
          ]
        },
        {
          "output_type": "stream",
          "name": "stderr",
          "text": [
            "/usr/local/lib/python3.11/dist-packages/IPython/core/pylabtools.py:151: UserWarning: Glyph 35347 (\\N{CJK UNIFIED IDEOGRAPH-8A13}) missing from font(s) DejaVu Sans.\n",
            "  fig.canvas.print_figure(bytes_io, **kw)\n",
            "/usr/local/lib/python3.11/dist-packages/IPython/core/pylabtools.py:151: UserWarning: Glyph 32244 (\\N{CJK UNIFIED IDEOGRAPH-7DF4}) missing from font(s) DejaVu Sans.\n",
            "  fig.canvas.print_figure(bytes_io, **kw)\n",
            "/usr/local/lib/python3.11/dist-packages/IPython/core/pylabtools.py:151: UserWarning: Glyph 36913 (\\N{CJK UNIFIED IDEOGRAPH-9031}) missing from font(s) DejaVu Sans.\n",
            "  fig.canvas.print_figure(bytes_io, **kw)\n",
            "/usr/local/lib/python3.11/dist-packages/IPython/core/pylabtools.py:151: UserWarning: Glyph 26399 (\\N{CJK UNIFIED IDEOGRAPH-671F}) missing from font(s) DejaVu Sans.\n",
            "  fig.canvas.print_figure(bytes_io, **kw)\n",
            "/usr/local/lib/python3.11/dist-packages/IPython/core/pylabtools.py:151: UserWarning: Glyph 25613 (\\N{CJK UNIFIED IDEOGRAPH-640D}) missing from font(s) DejaVu Sans.\n",
            "  fig.canvas.print_figure(bytes_io, **kw)\n",
            "/usr/local/lib/python3.11/dist-packages/IPython/core/pylabtools.py:151: UserWarning: Glyph 22833 (\\N{CJK UNIFIED IDEOGRAPH-5931}) missing from font(s) DejaVu Sans.\n",
            "  fig.canvas.print_figure(bytes_io, **kw)\n",
            "/usr/local/lib/python3.11/dist-packages/IPython/core/pylabtools.py:151: UserWarning: Glyph 20989 (\\N{CJK UNIFIED IDEOGRAPH-51FD}) missing from font(s) DejaVu Sans.\n",
            "  fig.canvas.print_figure(bytes_io, **kw)\n",
            "/usr/local/lib/python3.11/dist-packages/IPython/core/pylabtools.py:151: UserWarning: Glyph 25976 (\\N{CJK UNIFIED IDEOGRAPH-6578}) missing from font(s) DejaVu Sans.\n",
            "  fig.canvas.print_figure(bytes_io, **kw)\n",
            "/usr/local/lib/python3.11/dist-packages/IPython/core/pylabtools.py:151: UserWarning: Glyph 25818 (\\N{CJK UNIFIED IDEOGRAPH-64DA}) missing from font(s) DejaVu Sans.\n",
            "  fig.canvas.print_figure(bytes_io, **kw)\n",
            "/usr/local/lib/python3.11/dist-packages/IPython/core/pylabtools.py:151: UserWarning: Glyph 38928 (\\N{CJK UNIFIED IDEOGRAPH-9810}) missing from font(s) DejaVu Sans.\n",
            "  fig.canvas.print_figure(bytes_io, **kw)\n",
            "/usr/local/lib/python3.11/dist-packages/IPython/core/pylabtools.py:151: UserWarning: Glyph 28204 (\\N{CJK UNIFIED IDEOGRAPH-6E2C}) missing from font(s) DejaVu Sans.\n",
            "  fig.canvas.print_figure(bytes_io, **kw)\n"
          ]
        },
        {
          "output_type": "display_data",
          "data": {
            "text/plain": [
              "<Figure size 640x480 with 1 Axes>"
            ],
            "image/png": "[encoded data removed]"
          },
          "metadata": {}
        }
      ]
    }
  ]
}