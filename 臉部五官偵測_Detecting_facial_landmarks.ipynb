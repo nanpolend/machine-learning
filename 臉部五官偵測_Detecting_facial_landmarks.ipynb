{
  "cells": [
    {
      "cell_type": "markdown",
      "metadata": {
        "id": "view-in-github",
        "colab_type": "text"
      },
      "source": [
        "<a href=\"https://colab.research.google.com/github/nanpolend/machine-learning/blob/master/%E8%87%89%E9%83%A8%E4%BA%94%E5%AE%98%E5%81%B5%E6%B8%AC_Detecting_facial_landmarks.ipynb\" target=\"_parent\"><img src=\"https://colab.research.google.com/assets/colab-badge.svg\" alt=\"Open In Colab\"/></a>"
      ]
    },
    {
      "cell_type": "markdown",
      "metadata": {
        "id": "MbV4xss2fFn3"
      },
      "source": [
        "<h1>光頭傑夫製作</h1><img src=\"https://rolqiw.bl.files.1drv.com/y4mYqkObWmQmdJFd8pab8t8m7d_mFhh3_YG63fiAnPaG6gjahHFt0n087pF97x1W2wemm7hd4ZdiPD2OxoPtqcCD_4-Jy-fojnt97kGGWR4Hnq0-9Ny61afd7WVHVTmF_9pcr45OFDFSwLKByeQU1q9TjwKk-HsNmWVsW1eGQ4Gi-9G4pQ5DYoTxswYJ5r5dLF-kKsA1InEyrqmV3kF5pm4WQ?width=658&height=584&cropmode=none\" width=160px align=\"left\" />\n",
        "<!--1789344913-343-->"
      ]
    },
    {
      "cell_type": "markdown",
      "metadata": {
        "id": "mxyAk9-PfFn5"
      },
      "source": [
        "## <font color=red>facial landmarks\n",
        "    facial landmarks就是臉上的辨識關鍵點，透過找到這些點，你就可以進一步做更精細的臉部相關運算\n",
        "-----\n"
      ]
    },
    {
      "cell_type": "markdown",
      "metadata": {
        "id": "B9qbCwhyfFn6"
      },
      "source": [
        "## <font color=red>openCV的處理方式"
      ]
    },
    {
      "cell_type": "markdown",
      "metadata": {
        "id": "R6Xo4C1EfFn6"
      },
      "source": [
        "## <font color=red>模型1-LBF model\n",
        "    \n",
        "-----\n",
        "    LBF就是一種演算法，中文稱為區域性二值特徵\n"
      ]
    },
    {
      "cell_type": "code",
      "execution_count": null,
      "metadata": {
        "scrolled": true,
        "id": "qA0BOkIdfFn6",
        "outputId": "6341995a-c3ad-4670-d5fa-72fa3497b8e3",
        "colab": {
          "base_uri": "https://localhost:8080/",
          "height": 257
        }
      },
      "outputs": [
        {
          "output_type": "error",
          "ename": "error",
          "evalue": "ignored",
          "traceback": [
            "\u001b[0;31m---------------------------------------------------------------------------\u001b[0m",
            "\u001b[0;31merror\u001b[0m                                     Traceback (most recent call last)",
            "\u001b[0;32m<ipython-input-1-9208cb57b733>\u001b[0m in \u001b[0;36m<cell line: 13>\u001b[0;34m()\u001b[0m\n\u001b[1;32m     11\u001b[0m \u001b[0;34m\u001b[0m\u001b[0m\n\u001b[1;32m     12\u001b[0m \u001b[0mfacemark\u001b[0m \u001b[0;34m=\u001b[0m \u001b[0mcv2\u001b[0m\u001b[0;34m.\u001b[0m\u001b[0mface\u001b[0m\u001b[0;34m.\u001b[0m\u001b[0mcreateFacemarkLBF\u001b[0m\u001b[0;34m(\u001b[0m\u001b[0;34m)\u001b[0m\u001b[0;34m\u001b[0m\u001b[0;34m\u001b[0m\u001b[0m\n\u001b[0;32m---> 13\u001b[0;31m \u001b[0mfacemark\u001b[0m\u001b[0;34m.\u001b[0m\u001b[0mloadModel\u001b[0m\u001b[0;34m(\u001b[0m\u001b[0;34m\"lbfmodel.yaml\"\u001b[0m\u001b[0;34m)\u001b[0m\u001b[0;34m\u001b[0m\u001b[0;34m\u001b[0m\u001b[0m\n\u001b[0m\u001b[1;32m     14\u001b[0m \u001b[0;31m#ok確認正常運作\u001b[0m\u001b[0;34m\u001b[0m\u001b[0;34m\u001b[0m\u001b[0m\n\u001b[1;32m     15\u001b[0m \u001b[0;31m#關鍵是landmarks，一共68個點\u001b[0m\u001b[0;34m\u001b[0m\u001b[0;34m\u001b[0m\u001b[0m\n",
            "\u001b[0;31merror\u001b[0m: OpenCV(4.7.0) /io/opencv/modules/core/src/persistence_yml.cpp:404: error: (-212:Parsing error) getBase64Row in function 'lbfmodel.yaml(299843): Unexpected end of line'\n"
          ]
        }
      ],
      "source": [
        "import cv2\n",
        "import numpy as np\n",
        "\n",
        "#先讀照片進來\n",
        "image = cv2.imread('model.png')\n",
        "#找臉\n",
        "cas = cv2.CascadeClassifier(\"haarcascade_frontalface_default.xml\")\n",
        "faces = cas.detectMultiScale(image , 1.5, 5)\n",
        "\n",
        "\n",
        "\n",
        "facemark = cv2.face.createFacemarkLBF()\n",
        "facemark.loadModel(\"lbfmodel.yaml\")\n",
        "#ok確認正常運作\n",
        "#關鍵是landmarks，一共68個點\n",
        "ok, landmarks = facemark.fit(image , faces)\n",
        "print (landmarks)\n",
        "\n",
        "#先去掉一層tupple\n",
        "for x,y in landmarks[0][0]:\n",
        "        # display landmarks on \"image_cropped\"\n",
        "        # with white colour in BGR and thickness 1\n",
        "        cv2.circle(image, (int(x), int(y)), 1, (0, 0, 255), 2)\n",
        "\n",
        "cv2.imshow('detected result', image)\n",
        "cv2.waitKey(0)\n",
        "cv2.destroyAllWindows()\n",
        ""
      ]
    },
    {
      "cell_type": "markdown",
      "metadata": {
        "id": "N78jBRhWfFn8"
      },
      "source": [
        "## <font color=red>模型2-face_landmark_model\n",
        "    \n",
        "-----\n"
      ]
    },
    {
      "cell_type": "code",
      "execution_count": null,
      "metadata": {
        "scrolled": true,
        "id": "3-g65M8vfFn9",
        "outputId": "3568c96c-7404-4b78-ac4d-512b1785f4d1"
      },
      "outputs": [
        {
          "name": "stdout",
          "output_type": "stream",
          "text": [
            "(array([[[113.249344, 243.24738 ],\n",
            "        [113.18795 , 277.4249  ],\n",
            "        [116.084435, 310.46783 ],\n",
            "        [122.025116, 343.41257 ],\n",
            "        [135.02101 , 374.26416 ],\n",
            "        [153.19624 , 400.90097 ],\n",
            "        [176.27713 , 423.28302 ],\n",
            "        [202.43298 , 441.91382 ],\n",
            "        [230.76598 , 447.8179  ],\n",
            "        [259.45526 , 442.13705 ],\n",
            "        [285.1506  , 425.7633  ],\n",
            "        [306.9965  , 404.09695 ],\n",
            "        [323.70908 , 377.66833 ],\n",
            "        [334.52997 , 345.33255 ],\n",
            "        [338.6817  , 310.37323 ],\n",
            "        [340.9434  , 275.84668 ],\n",
            "        [340.29083 , 240.64882 ],\n",
            "        [121.778145, 225.2586  ],\n",
            "        [138.83536 , 210.43456 ],\n",
            "        [161.29938 , 207.89218 ],\n",
            "        [183.52773 , 211.50362 ],\n",
            "        [205.39716 , 221.00558 ],\n",
            "        [239.76122 , 222.07533 ],\n",
            "        [263.0665  , 212.85062 ],\n",
            "        [286.89572 , 208.95717 ],\n",
            "        [311.1332  , 210.61974 ],\n",
            "        [331.3418  , 223.75616 ],\n",
            "        [224.30765 , 247.2792  ],\n",
            "        [224.74762 , 271.36926 ],\n",
            "        [225.10117 , 294.8799  ],\n",
            "        [225.44212 , 319.2858  ],\n",
            "        [199.64362 , 337.41568 ],\n",
            "        [212.70007 , 340.36377 ],\n",
            "        [226.1427  , 343.49374 ],\n",
            "        [239.47299 , 340.43964 ],\n",
            "        [252.51428 , 337.76523 ],\n",
            "        [143.71213 , 247.33832 ],\n",
            "        [158.62909 , 238.8167  ],\n",
            "        [174.81538 , 238.88739 ],\n",
            "        [188.00398 , 254.109   ],\n",
            "        [173.27586 , 255.40352 ],\n",
            "        [156.93683 , 254.23346 ],\n",
            "        [262.9824  , 254.66446 ],\n",
            "        [276.62082 , 239.43698 ],\n",
            "        [293.39203 , 238.95557 ],\n",
            "        [308.88116 , 247.7282  ],\n",
            "        [294.72052 , 254.93628 ],\n",
            "        [277.75827 , 256.15598 ],\n",
            "        [184.28387 , 377.58655 ],\n",
            "        [200.83386 , 370.735   ],\n",
            "        [216.23785 , 364.35132 ],\n",
            "        [226.68698 , 367.99457 ],\n",
            "        [236.59149 , 364.89606 ],\n",
            "        [254.49225 , 370.89737 ],\n",
            "        [275.3364  , 377.0077  ],\n",
            "        [256.04388 , 393.10464 ],\n",
            "        [239.24597 , 399.8094  ],\n",
            "        [228.08118 , 400.52164 ],\n",
            "        [216.30222 , 399.23737 ],\n",
            "        [201.41345 , 392.21924 ],\n",
            "        [191.18932 , 378.85117 ],\n",
            "        [216.08272 , 378.78125 ],\n",
            "        [226.89702 , 380.54324 ],\n",
            "        [237.3783  , 379.3008  ],\n",
            "        [268.47272 , 378.25394 ],\n",
            "        [238.12288 , 379.81616 ],\n",
            "        [227.45758 , 380.53076 ],\n",
            "        [216.38701 , 379.7094  ]]], dtype=float32),)\n"
          ]
        }
      ],
      "source": [
        "import cv2\n",
        "import numpy as np\n",
        "\n",
        "#先讀照片進來\n",
        "image = cv2.imread('model.png')\n",
        "#找臉\n",
        "cas = cv2.CascadeClassifier(\"haarcascade_frontalface_default.xml\")\n",
        "faces = cas.detectMultiScale(image , 1.5, 5)\n",
        "\n",
        "\n",
        "\n",
        "facemark = cv2.face.createFacemarkKazemi()\n",
        "facemark.loadModel(\"face_landmark_model.dat\")\n",
        "#ok確認正常運作\n",
        "#關鍵是landmarks，一共68個點\n",
        "ok, landmarks = facemark.fit(image , faces)\n",
        "print (landmarks)\n",
        "\n",
        "\n",
        "for x,y in landmarks[0][0]:\n",
        "        # display landmarks on \"image_cropped\"\n",
        "        # with white colour in BGR and thickness 1\n",
        "        cv2.circle(image, (int(x), int(y)), 1, (0, 0, 255), 2)\n",
        "\n",
        "cv2.imshow('detected result', image)\n",
        "cv2.waitKey(0)\n",
        "cv2.destroyAllWindows()\n",
        ""
      ]
    },
    {
      "cell_type": "markdown",
      "metadata": {
        "id": "ofTjyqg7fFn9"
      },
      "source": [
        "## <font color=red>landmarks的順序標註了不同的五官\n",
        "----\n",
        "```\n",
        "    landmarks---[0, 16]----下巴\n",
        "    landmarks---[17, 21]---左眉\n",
        "    landmarks---[22, 26]---右眉\n",
        "    landmarks---[27, 30]---鼻樑\n",
        "    landmarks---[30, 35]---下鼻\n",
        "    landmarks---[36, 41]---左眼\n",
        "    landmarks---[42, 47]---右眼\n",
        "    landmarks---[48, 59]---外唇\n",
        "    landmarks---[60, 67]---內唇\n",
        "\n",
        "```\n",
        "----\n"
      ]
    },
    {
      "cell_type": "markdown",
      "metadata": {
        "id": "qe29_2hXfFn-"
      },
      "source": [
        "## <font color=red ><小測驗>延續前面的案例，可不可以左眉毛標藍色，右眉毛標紅色"
      ]
    },
    {
      "cell_type": "code",
      "execution_count": null,
      "metadata": {
        "id": "OjXuYdmSfFn-"
      },
      "outputs": [],
      "source": []
    },
    {
      "cell_type": "markdown",
      "metadata": {
        "id": "6OZzSj-hfFn_"
      },
      "source": [
        "## <font color=red ><答案>"
      ]
    },
    {
      "cell_type": "code",
      "execution_count": null,
      "metadata": {
        "id": "GyihFPdKfFn_",
        "outputId": "420cb30f-69ae-427a-f105-ba155ea24acb"
      },
      "outputs": [
        {
          "name": "stdout",
          "output_type": "stream",
          "text": [
            "(array([[[113.249344, 243.24738 ],\n",
            "        [113.18795 , 277.4249  ],\n",
            "        [116.084435, 310.46783 ],\n",
            "        [122.025116, 343.41257 ],\n",
            "        [135.02101 , 374.26416 ],\n",
            "        [153.19624 , 400.90097 ],\n",
            "        [176.27713 , 423.28302 ],\n",
            "        [202.43298 , 441.91382 ],\n",
            "        [230.76598 , 447.8179  ],\n",
            "        [259.45526 , 442.13705 ],\n",
            "        [285.1506  , 425.7633  ],\n",
            "        [306.9965  , 404.09695 ],\n",
            "        [323.70908 , 377.66833 ],\n",
            "        [334.52997 , 345.33255 ],\n",
            "        [338.6817  , 310.37323 ],\n",
            "        [340.9434  , 275.84668 ],\n",
            "        [340.29083 , 240.64882 ],\n",
            "        [121.778145, 225.2586  ],\n",
            "        [138.83536 , 210.43456 ],\n",
            "        [161.29938 , 207.89218 ],\n",
            "        [183.52773 , 211.50362 ],\n",
            "        [205.39716 , 221.00558 ],\n",
            "        [239.76122 , 222.07533 ],\n",
            "        [263.0665  , 212.85062 ],\n",
            "        [286.89572 , 208.95717 ],\n",
            "        [311.1332  , 210.61974 ],\n",
            "        [331.3418  , 223.75616 ],\n",
            "        [224.30765 , 247.2792  ],\n",
            "        [224.74762 , 271.36926 ],\n",
            "        [225.10117 , 294.8799  ],\n",
            "        [225.44212 , 319.2858  ],\n",
            "        [199.64362 , 337.41568 ],\n",
            "        [212.70007 , 340.36377 ],\n",
            "        [226.1427  , 343.49374 ],\n",
            "        [239.47299 , 340.43964 ],\n",
            "        [252.51428 , 337.76523 ],\n",
            "        [143.71213 , 247.33832 ],\n",
            "        [158.62909 , 238.8167  ],\n",
            "        [174.81538 , 238.88739 ],\n",
            "        [188.00398 , 254.109   ],\n",
            "        [173.27586 , 255.40352 ],\n",
            "        [156.93683 , 254.23346 ],\n",
            "        [262.9824  , 254.66446 ],\n",
            "        [276.62082 , 239.43698 ],\n",
            "        [293.39203 , 238.95557 ],\n",
            "        [308.88116 , 247.7282  ],\n",
            "        [294.72052 , 254.93628 ],\n",
            "        [277.75827 , 256.15598 ],\n",
            "        [184.28387 , 377.58655 ],\n",
            "        [200.83386 , 370.735   ],\n",
            "        [216.23785 , 364.35132 ],\n",
            "        [226.68698 , 367.99457 ],\n",
            "        [236.59149 , 364.89606 ],\n",
            "        [254.49225 , 370.89737 ],\n",
            "        [275.3364  , 377.0077  ],\n",
            "        [256.04388 , 393.10464 ],\n",
            "        [239.24597 , 399.8094  ],\n",
            "        [228.08118 , 400.52164 ],\n",
            "        [216.30222 , 399.23737 ],\n",
            "        [201.41345 , 392.21924 ],\n",
            "        [191.18932 , 378.85117 ],\n",
            "        [216.08272 , 378.78125 ],\n",
            "        [226.89702 , 380.54324 ],\n",
            "        [237.3783  , 379.3008  ],\n",
            "        [268.47272 , 378.25394 ],\n",
            "        [238.12288 , 379.81616 ],\n",
            "        [227.45758 , 380.53076 ],\n",
            "        [216.38701 , 379.7094  ]]], dtype=float32),)\n"
          ]
        }
      ],
      "source": [
        "import cv2\n",
        "import numpy as np\n",
        "\n",
        "#先讀照片進來\n",
        "image = cv2.imread('model.png')\n",
        "#找臉\n",
        "cas = cv2.CascadeClassifier(\"haarcascade_frontalface_default.xml\")\n",
        "faces = cas.detectMultiScale(image , 1.5, 5)\n",
        "\n",
        "\n",
        "\n",
        "facemark = cv2.face.createFacemarkKazemi()\n",
        "facemark.loadModel(\"face_landmark_model.dat\")\n",
        "#ok確認正常運作\n",
        "#關鍵是landmarks，一共68個點\n",
        "ok, landmarks = facemark.fit(image , faces)\n",
        "print (landmarks)\n",
        "\n",
        "for x,y in landmarks[0][0][17:22]:\n",
        "        cv2.circle(image, (int(x), int(y)), 1, (255, 0,0), 2)\n",
        "for x,y in landmarks[0][0][22:27]:\n",
        "        cv2.circle(image, (int(x), int(y)), 1, (0, 0, 255), 2)\n",
        "\n",
        "cv2.imshow('detected result', image)\n",
        "cv2.waitKey(0)\n",
        "cv2.destroyAllWindows()"
      ]
    },
    {
      "cell_type": "markdown",
      "metadata": {
        "id": "kqO7ubsGfFoA"
      },
      "source": [
        "## <font color=red>dlib的處理方式"
      ]
    },
    {
      "cell_type": "markdown",
      "metadata": {
        "id": "vjaWSg6cfFoA"
      },
      "source": [
        "## <font color=red>我們需要先準備一個可以把dlib資料轉成numpy的function"
      ]
    },
    {
      "cell_type": "code",
      "execution_count": null,
      "metadata": {
        "id": "cd1TZMyffFoA"
      },
      "outputs": [],
      "source": [
        "def shape_to_np(dlib_shape, dtype=\"int\"):\n",
        "    # 先做出一個np.array等著裝座標\n",
        "    # 資料型別必須是int\n",
        "    # num_parts代表有幾個特徵點\n",
        "    # 因為每個座標只有x y，所以設2\n",
        "    coordinates = np.zeros((dlib_shape.num_parts, 2), dtype=dtype)\n",
        "\n",
        "    # for下去把每一個座標裝出來\n",
        "    for i in range(0, dlib_shape.num_parts):\n",
        "        coordinates[i] = (dlib_shape.part(i).x, dlib_shape.part(i).y)\n",
        "\n",
        "    return coordinates"
      ]
    },
    {
      "cell_type": "markdown",
      "metadata": {
        "id": "nqB9VACLfFoB"
      },
      "source": [
        "## <font color=red>開始偵測"
      ]
    },
    {
      "cell_type": "code",
      "execution_count": null,
      "metadata": {
        "id": "AL4UBYZBfFoB"
      },
      "outputs": [],
      "source": [
        "import cv2\n",
        "import numpy as np\n",
        "import dlib\n",
        "\n",
        "image = cv2.imread('model.png')\n",
        "gray = cv2.cvtColor(image , cv2.COLOR_BGR2GRAY)\n",
        "\n",
        "#準備偵測器\n",
        "#臉的偵測器\n",
        "detector = dlib.get_frontal_face_detector()\n",
        "#特徵的偵測器\n",
        "predictor = dlib.shape_predictor('shape_predictor_68_face_landmarks.dat')\n",
        "\n",
        "#先找到臉，上採樣用1\n",
        "rects = detector(gray, 1)\n",
        "\n",
        "#開始對找到的臉做landmark分析\n",
        "for (i, rect) in enumerate(rects):\n",
        "    shape = predictor(gray, rect)\n",
        "    shape = shape_to_np(shape)\n",
        "    for x,y in shape:\n",
        "        cv2.circle(image, (x, y), 1, (0, 0, 255), 2)\n",
        "cv2.imshow('Find Face image', image)\n",
        "cv2.waitKey(0)\n",
        "cv2.destroyAllWindows()"
      ]
    },
    {
      "cell_type": "code",
      "execution_count": null,
      "metadata": {
        "id": "p__hn7kJfFoB",
        "outputId": "e274d711-804a-4856-f49a-9a5d181b071c"
      },
      "outputs": [
        {
          "data": {
            "text/plain": [
              "(array([225, 249]), array([226, 319]))"
            ]
          },
          "execution_count": 9,
          "metadata": {},
          "output_type": "execute_result"
        }
      ],
      "source": [
        "#轉成numpy array的結果如下\n",
        "shape[27],shape[30]"
      ]
    },
    {
      "cell_type": "markdown",
      "metadata": {
        "id": "H4KUOsrZfFoC"
      },
      "source": [
        "## <font color=red ><小測驗>資料夾有一張face的照片，可不可以幫我把每個人的鼻子標註出來"
      ]
    },
    {
      "cell_type": "code",
      "execution_count": null,
      "metadata": {
        "id": "MWbfTZ4pfFoC"
      },
      "outputs": [],
      "source": []
    },
    {
      "cell_type": "markdown",
      "metadata": {
        "id": "9EQ0a_sofFoC"
      },
      "source": [
        "## <font color=red ><答案>"
      ]
    },
    {
      "cell_type": "code",
      "execution_count": null,
      "metadata": {
        "id": "RqZlCtDxfFoC"
      },
      "outputs": [],
      "source": [
        "import cv2\n",
        "import numpy as np\n",
        "import dlib\n",
        "\n",
        "\n",
        "# Load image:\n",
        "image = cv2.imread('face.png')\n",
        "image= cv2.resize(image,None,fx=1.5,fy=1.5, interpolation = cv2.INTER_AREA)\n",
        "gray = cv2.cvtColor(image , cv2.COLOR_BGR2GRAY)\n",
        "\n",
        "\n",
        "detector = dlib.get_frontal_face_detector()\n",
        "predictor = dlib.shape_predictor('shape_predictor_68_face_landmarks.dat')\n",
        "\n",
        "rects = detector(gray, 1)\n",
        "#開始對找到的臉做landmark分析\n",
        "for (i, rect) in enumerate(rects):\n",
        "    shape = predictor(gray, rect)\n",
        "    shape = shape_to_np(shape)\n",
        "    for index,(x,y) in  enumerate(shape[27:31]):\n",
        "        cv2.putText(image, str(index + 1), (x, y), cv2.FONT_HERSHEY_SIMPLEX, 0.2, (0, 0, 255))\n",
        "        cv2.circle(image, (x, y), 1, (0, 0, 255), 1)\n",
        "cv2.imshow('Find Face image', image)\n",
        "cv2.waitKey(0)\n",
        "cv2.destroyAllWindows()"
      ]
    },
    {
      "cell_type": "markdown",
      "metadata": {
        "id": "kz51kpYCfFoD"
      },
      "source": [
        "## <font color=red ><小測驗>資料夾有一張mask的照片，可不可以幫我把每個人都戴上口罩"
      ]
    },
    {
      "cell_type": "code",
      "execution_count": null,
      "metadata": {
        "id": "ELWRFzoffFoD"
      },
      "outputs": [],
      "source": []
    },
    {
      "cell_type": "markdown",
      "metadata": {
        "id": "6LDRJc_6fFoD"
      },
      "source": [
        "## <font color=red ><答案>"
      ]
    },
    {
      "cell_type": "code",
      "execution_count": null,
      "metadata": {
        "id": "vMou4H8_fFoD"
      },
      "outputs": [],
      "source": [
        "import cv2\n",
        "import numpy as np\n",
        "import dlib\n",
        "\n",
        "\n",
        "# Load image:\n",
        "image = cv2.imread('face.png')\n",
        "image= cv2.resize(image,None,fx=1.5,fy=1.5, interpolation = cv2.INTER_AREA)\n",
        "gray = cv2.cvtColor(image , cv2.COLOR_BGR2GRAY)\n",
        "\n",
        "\n",
        "detector = dlib.get_frontal_face_detector()\n",
        "predictor = dlib.shape_predictor('shape_predictor_68_face_landmarks.dat')\n",
        "rects = detector(gray, 1)\n",
        "#開始對找到的臉做landmark分析\n",
        "for (i, rect) in enumerate(rects):\n",
        "    shape = predictor(gray, rect)\n",
        "    shape = shape_to_np(shape)\n",
        "    for index,(x,y) in  enumerate([shape[48],shape[54],shape[30],shape[8]]):\n",
        "        cv2.putText(image, str(index + 1), (x, y), cv2.FONT_HERSHEY_SIMPLEX, 0.8, (0, 0, 255))\n",
        "        cv2.circle(image, (x, y), 1, (0, 0, 255), 1)\n",
        "cv2.imshow('Find Face image', image)\n",
        "cv2.waitKey(0)\n",
        "cv2.destroyAllWindows()\n",
        "\n",
        "#先把關鍵點找出來"
      ]
    },
    {
      "cell_type": "code",
      "execution_count": null,
      "metadata": {
        "id": "zP3tjh7NfFoE"
      },
      "outputs": [],
      "source": [
        "#這樣才好計算長寬\n",
        "import cv2\n",
        "import numpy as np\n",
        "import dlib\n",
        "\n",
        "\n",
        "# Load image:\n",
        "image = cv2.imread('face.png')\n",
        "face_mask= cv2.imread('mask.png')\n",
        "image= cv2.resize(image,None,fx=1.5,fy=1.5, interpolation = cv2.INTER_AREA)\n",
        "gray = cv2.cvtColor(image , cv2.COLOR_BGR2GRAY)\n",
        "\n",
        "\n",
        "detector = dlib.get_frontal_face_detector()\n",
        "predictor = dlib.shape_predictor('shape_predictor_68_face_landmarks.dat')\n",
        "rects = detector(gray, 1)\n",
        "#開始對找到的臉做landmark分析\n",
        "for (i, rect) in enumerate(rects):\n",
        "    shape = predictor(gray, rect)\n",
        "    shape = shape_to_np(shape)\n",
        "    #找出臉部定位點\n",
        "    # ML mouth_left\n",
        "    # n  nose\n",
        "    # c  chin\n",
        "    x_ML,y_ML=shape[48]\n",
        "    x_MR,y_MR=shape[54]\n",
        "    x_n,y_n=shape[30]\n",
        "    x_c,y_c=shape[8]\n",
        "\n",
        "    #找出口罩位置  後面的數字你要自行調整\n",
        "    h=int((y_c-y_n)*1.04)\n",
        "    w=int((x_MR-x_ML)*1.9)\n",
        "    x=x_ML-14\n",
        "    y=y_n-3\n",
        "\n",
        "    #確定目標區域\n",
        "    frame_roi = image[y:y+h, x:x+w]\n",
        "    #調整口罩大小\n",
        "    face_mask_small = cv2.resize(face_mask, (w,h), interpolation=cv2.INTER_AREA)\n",
        "    #做出口罩的遮罩\n",
        "    gray_mask = cv2.cvtColor(face_mask_small, cv2.COLOR_BGR2GRAY)\n",
        "    ret, mask = cv2.threshold(gray_mask, 180, 255, cv2.THRESH_BINARY_INV)\n",
        "    #依照遮罩，把口罩挖出來\n",
        "    masked_face = cv2.bitwise_and(face_mask_small, face_mask_small, mask=mask)\n",
        "    #依照遮罩，把ROI的地方挖出洞來\n",
        "    mask_inv = cv2.bitwise_not(mask)\n",
        "    masked_frame = cv2.bitwise_and(frame_roi, frame_roi, mask=mask_inv)\n",
        "    #合體\n",
        "    image[y:y+h, x:x+w] = cv2.add(masked_face, masked_frame)\n",
        "\n",
        "\n",
        "cv2.imshow('Masked image', image)\n",
        "cv2.waitKey(0)\n",
        "cv2.destroyAllWindows()"
      ]
    },
    {
      "cell_type": "markdown",
      "metadata": {
        "id": "91VAm-8GfFoE"
      },
      "source": [
        "## <font color=red ><小測驗>dlib有很多已經訓練好的模型，請參考下面連結，幫我下載shape_predictor_68_face_landmarks_GTX.dat試試看可以嗎?\n",
        "-----\n",
        "## [參考網址](https://github.com/davisking/dlib-models)"
      ]
    },
    {
      "cell_type": "code",
      "execution_count": null,
      "metadata": {
        "id": "KEsA51ElfFoE"
      },
      "outputs": [],
      "source": []
    },
    {
      "cell_type": "markdown",
      "metadata": {
        "id": "bUYNGTEQfFoE"
      },
      "source": [
        "## <font color=red ><答案>"
      ]
    },
    {
      "cell_type": "code",
      "execution_count": null,
      "metadata": {
        "id": "YZMjqRhMfFoF",
        "outputId": "d3dc502a-ba41-42a6-fc47-a62002880a29"
      },
      "outputs": [
        {
          "ename": "RuntimeError",
          "evalue": "Unable to open shape_predictor_68_face_landmarks_GTX.dat",
          "output_type": "error",
          "traceback": [
            "\u001b[1;31m---------------------------------------------------------------------------\u001b[0m",
            "\u001b[1;31mRuntimeError\u001b[0m                              Traceback (most recent call last)",
            "\u001b[1;32m~\\AppData\\Local\\Temp/ipykernel_14276/126584064.py\u001b[0m in \u001b[0;36m<module>\u001b[1;34m\u001b[0m\n\u001b[0;32m     12\u001b[0m \u001b[1;33m\u001b[0m\u001b[0m\n\u001b[0;32m     13\u001b[0m \u001b[0mdetector\u001b[0m \u001b[1;33m=\u001b[0m \u001b[0mdlib\u001b[0m\u001b[1;33m.\u001b[0m\u001b[0mget_frontal_face_detector\u001b[0m\u001b[1;33m(\u001b[0m\u001b[1;33m)\u001b[0m\u001b[1;33m\u001b[0m\u001b[1;33m\u001b[0m\u001b[0m\n\u001b[1;32m---> 14\u001b[1;33m \u001b[0mpredictor\u001b[0m \u001b[1;33m=\u001b[0m \u001b[0mdlib\u001b[0m\u001b[1;33m.\u001b[0m\u001b[0mshape_predictor\u001b[0m\u001b[1;33m(\u001b[0m\u001b[1;34m'shape_predictor_68_face_landmarks_GTX.dat'\u001b[0m\u001b[1;33m)\u001b[0m\u001b[1;33m\u001b[0m\u001b[1;33m\u001b[0m\u001b[0m\n\u001b[0m\u001b[0;32m     15\u001b[0m \u001b[0mrects\u001b[0m \u001b[1;33m=\u001b[0m \u001b[0mdetector\u001b[0m\u001b[1;33m(\u001b[0m\u001b[0mgray\u001b[0m\u001b[1;33m,\u001b[0m \u001b[1;36m1\u001b[0m\u001b[1;33m)\u001b[0m\u001b[1;33m\u001b[0m\u001b[1;33m\u001b[0m\u001b[0m\n\u001b[0;32m     16\u001b[0m \u001b[1;31m#開始對找到的臉做landmark分析\u001b[0m\u001b[1;33m\u001b[0m\u001b[1;33m\u001b[0m\u001b[1;33m\u001b[0m\u001b[0m\n",
            "\u001b[1;31mRuntimeError\u001b[0m: Unable to open shape_predictor_68_face_landmarks_GTX.dat"
          ]
        }
      ],
      "source": [
        "import cv2\n",
        "import numpy as np\n",
        "import dlib\n",
        "\n",
        "\n",
        "# Load image:\n",
        "image = cv2.imread('face.png')\n",
        "face_mask= cv2.imread('mask.png')\n",
        "image= cv2.resize(image,None,fx=1.5,fy=1.5, interpolation = cv2.INTER_AREA)\n",
        "gray = cv2.cvtColor(image , cv2.COLOR_BGR2GRAY)\n",
        "\n",
        "\n",
        "detector = dlib.get_frontal_face_detector()\n",
        "predictor = dlib.shape_predictor('shape_predictor_68_face_landmarks_GTX.dat')\n",
        "rects = detector(gray, 1)\n",
        "#開始對找到的臉做landmark分析\n",
        "for (i, rect) in enumerate(rects):\n",
        "    shape = predictor(gray, rect)\n",
        "    shape = shape_to_np(shape)\n",
        "    #找出臉部定位點\n",
        "    x_ML,y_ML=shape[48]\n",
        "    x_MR,y_MR=shape[54]\n",
        "    x_n,y_n=shape[30]\n",
        "    x_c,y_c=shape[8]\n",
        "\n",
        "    #找出口罩位置  後面的數字你要自行調整\n",
        "    h=int((y_c-y_n)*1.04)\n",
        "    w=int((x_MR-x_ML)*1.8)\n",
        "    x=x_ML-14\n",
        "    y=y_n-3\n",
        "\n",
        "    #確定目標區域\n",
        "    frame_roi = image[y:y+h, x:x+w]\n",
        "    #調整口罩大小\n",
        "    face_mask_small = cv2.resize(face_mask, (w,h), interpolation=cv2.INTER_AREA)\n",
        "    #做出口罩的遮罩\n",
        "    gray_mask = cv2.cvtColor(face_mask_small, cv2.COLOR_BGR2GRAY)\n",
        "    ret, mask = cv2.threshold(gray_mask, 180, 255, cv2.THRESH_BINARY_INV)\n",
        "    #依照遮罩，把口罩挖出來\n",
        "    masked_face = cv2.bitwise_and(face_mask_small, face_mask_small, mask=mask)\n",
        "    #依照遮罩，把ROI的地方挖出洞來\n",
        "    mask_inv = cv2.bitwise_not(mask)\n",
        "    masked_frame = cv2.bitwise_and(frame_roi, frame_roi, mask=mask_inv)\n",
        "    #合體\n",
        "    image[y:y+h, x:x+w] = cv2.add(masked_face, masked_frame)\n",
        "\n",
        "\n",
        "cv2.imshow('Masked image', image)\n",
        "cv2.waitKey(0)\n",
        "cv2.destroyAllWindows()"
      ]
    },
    {
      "cell_type": "markdown",
      "metadata": {
        "id": "X2fHl-dFfFoF"
      },
      "source": [
        "## <font color=red>face_recognition的處理方式\n",
        "----\n",
        "這個方法比較簡單，不用導模型"
      ]
    },
    {
      "cell_type": "code",
      "execution_count": null,
      "metadata": {
        "id": "IKh2oiSafFoF"
      },
      "outputs": [],
      "source": [
        "import cv2\n",
        "import face_recognition\n",
        "\n",
        "\n",
        "# Load image:\n",
        "image = cv2.imread(\"face.png\")\n",
        "\n",
        "# Create images to show the results:\n",
        "image_68 = image.copy()\n",
        "image_5 = image.copy()\n",
        "\n",
        "\n",
        "# 偵測68個特徵值:\n",
        "face_landmarks_list_68 = face_recognition.face_landmarks(image)\n",
        "\n",
        "\n",
        "# Draw all detected landmarks:\n",
        "for face_landmarks in face_landmarks_list_68:\n",
        "    for facial_feature in face_landmarks.keys():\n",
        "        for p in face_landmarks[facial_feature]:\n",
        "            cv2.circle(image_68, p, 2, (0, 255, 0), -1)\n",
        "\n",
        "# 偵測5個特徵值:\n",
        "face_landmarks_list_5 = face_recognition.face_landmarks(image, None, \"small\")\n",
        "\n",
        "# Draw all detected landmarks:\n",
        "for face_landmarks in face_landmarks_list_5:\n",
        "    for facial_feature in face_landmarks.keys():\n",
        "        for p in face_landmarks[facial_feature]:\n",
        "            cv2.circle(image_5, p, 2, (0, 255, 0), -1)\n",
        "\n",
        "cv2.imshow('image_68', image_68)\n",
        "cv2.imshow('image_5', image_5)\n",
        "cv2.waitKey(0)\n",
        "cv2.destroyAllWindows()"
      ]
    }
  ],
  "metadata": {
    "kernelspec": {
      "display_name": "Python 3 (ipykernel)",
      "language": "python",
      "name": "python3"
    },
    "language_info": {
      "codemirror_mode": {
        "name": "ipython",
        "version": 3
      },
      "file_extension": ".py",
      "mimetype": "text/x-python",
      "name": "python",
      "nbconvert_exporter": "python",
      "pygments_lexer": "ipython3",
      "version": "3.8.8"
    },
    "colab": {
      "provenance": [],
      "include_colab_link": true
    }
  },
  "nbformat": 4,
  "nbformat_minor": 0
}