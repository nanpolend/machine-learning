{
  "metadata": {
    "kernelspec": {
      "language": "python",
      "display_name": "Python 3",
      "name": "python3"
    },
    "language_info": {
      "name": "python",
      "version": "3.11.11",
      "mimetype": "text/x-python",
      "codemirror_mode": {
        "name": "ipython",
        "version": 3
      },
      "pygments_lexer": "ipython3",
      "nbconvert_exporter": "python",
      "file_extension": ".py"
    },
    "kaggle": {
      "accelerator": "nvidiaTeslaT4",
      "dataSources": [
        {
          "sourceId": 91498,
          "databundleVersionId": 11655853,
          "sourceType": "competition"
        }
      ],
      "dockerImageVersionId": 31011,
      "isInternetEnabled": true,
      "language": "python",
      "sourceType": "notebook",
      "isGpuEnabled": true
    },
    "colab": {
      "name": "圖片匹配Gemini123ff",
      "provenance": [],
      "include_colab_link": true
    }
  },
  "nbformat_minor": 0,
  "nbformat": 4,
  "cells": [
    {
      "cell_type": "markdown",
      "metadata": {
        "id": "view-in-github",
        "colab_type": "text"
      },
      "source": [
        "<a href=\"https://colab.research.google.com/github/nanpolend/machine-learning/blob/master/%E5%9C%96%E7%89%87%E5%8C%B9%E9%85%8DGemini123ff.ipynb\" target=\"_parent\"><img src=\"https://colab.research.google.com/assets/colab-badge.svg\" alt=\"Open In Colab\"/></a>"
      ]
    },
    {
      "source": [
        "# IMPORTANT: SOME KAGGLE DATA SOURCES ARE PRIVATE\n",
        "# RUN THIS CELL IN ORDER TO IMPORT YOUR KAGGLE DATA SOURCES.\n",
        "import kagglehub\n",
        "kagglehub.login()\n"
      ],
      "metadata": {
        "id": "eiF3vdYabOG2"
      },
      "cell_type": "code",
      "outputs": [],
      "execution_count": null
    },
    {
      "source": [
        "# IMPORTANT: RUN THIS CELL IN ORDER TO IMPORT YOUR KAGGLE DATA SOURCES,\n",
        "# THEN FEEL FREE TO DELETE THIS CELL.\n",
        "# NOTE: THIS NOTEBOOK ENVIRONMENT DIFFERS FROM KAGGLE'S PYTHON\n",
        "# ENVIRONMENT SO THERE MAY BE MISSING LIBRARIES USED BY YOUR\n",
        "# NOTEBOOK.\n",
        "\n",
        "image_matching_challenge_2025_path = kagglehub.competition_download('image-matching-challenge-2025')\n",
        "\n",
        "print('Data source import complete.')\n"
      ],
      "metadata": {
        "id": "hsfGWa9_bOG_"
      },
      "cell_type": "code",
      "outputs": [],
      "execution_count": null
    },
    {
      "cell_type": "code",
      "source": [
        "# This Python 3 environment comes with many helpful analytics libraries installed\n",
        "# It is defined by the kaggle/python Docker image: https://github.com/kaggle/docker-python\n",
        "# For example, here's several helpful packages to load\n",
        "\n",
        "import numpy as np # linear algebra\n",
        "import pandas as pd # data processing, CSV file I/O (e.g. pd.read_csv)\n",
        "\n",
        "# Input data files are available in the read-only \"../input/\" directory\n",
        "# For example, running this (by clicking run or pressing Shift+Enter) will list all files under the input directory\n",
        "\n",
        "import os\n",
        "for dirname, _, filenames in os.walk('/kaggle/input'):\n",
        "    for filename in filenames:\n",
        "        print(os.path.join(dirname, filename))\n",
        "\n",
        "# You can write up to 20GB to the current directory (/kaggle/working/) that gets preserved as output when you create a version using \"Save & Run All\"\n",
        "# You can also write temporary files to /kaggle/temp/, but they won't be saved outside of the current session"
      ],
      "metadata": {
        "_uuid": "8f2839f25d086af736a60e9eeb907d3b93b6e0e5",
        "_cell_guid": "b1076dfc-b9ad-4769-8c92-a6c4dae69d19",
        "trusted": true,
        "execution": {
          "iopub.status.busy": "2025-05-01T06:50:00.324027Z",
          "iopub.execute_input": "2025-05-01T06:50:00.324262Z",
          "iopub.status.idle": "2025-05-01T06:50:05.854583Z",
          "shell.execute_reply.started": "2025-05-01T06:50:00.324234Z",
          "shell.execute_reply": "2025-05-01T06:50:05.853986Z"
        },
        "id": "hBKOIfyubOHA"
      },
      "outputs": [],
      "execution_count": null
    },
    {
      "cell_type": "code",
      "source": [
        "!pip show opencv-python"
      ],
      "metadata": {
        "trusted": true,
        "execution": {
          "iopub.status.busy": "2025-05-01T15:15:16.198257Z",
          "iopub.execute_input": "2025-05-01T15:15:16.19853Z",
          "iopub.status.idle": "2025-05-01T15:15:19.421243Z",
          "shell.execute_reply.started": "2025-05-01T15:15:16.198502Z",
          "shell.execute_reply": "2025-05-01T15:15:19.420248Z"
        },
        "id": "Y0neUxUKbOHA",
        "outputId": "739e4817-25f8-450b-cc9c-29707bcd8721"
      },
      "outputs": [
        {
          "name": "stdout",
          "text": "Name: opencv-python\nVersion: 4.11.0.86\nSummary: Wrapper package for OpenCV python bindings.\nHome-page: https://github.com/opencv/opencv-python\nAuthor: \nAuthor-email: \nLicense: Apache 2.0\nLocation: /usr/local/lib/python3.11/dist-packages\nRequires: numpy\nRequired-by: dopamine_rl, imgaug\n",
          "output_type": "stream"
        }
      ],
      "execution_count": null
    },
    {
      "cell_type": "code",
      "source": [
        "import pandas as pd\n",
        "import numpy as np # 常用於處理矩陣運算\n",
        "\n",
        "# --- 模擬的預測結果 ---\n",
        "# 在實際應用中，你需要用你的模型對 \"測試集\" (test set) 進行預測，\n",
        "# 然後將預測出的 sample_id 和對應的 fundamental_matrix 填入這裡。\n",
        "\n",
        "# 範例測試樣本 ID (來自比賽提供的 test.csv 或 sample_submission.csv)\n",
        "# 格式通常類似 'batch_id;image_1_id;image_2_id' 或其他由比賽定義的格式\n",
        "# *** 你需要從比賽數據中獲取真實的測試樣本 ID ***\n",
        "test_sample_ids = [\n",
        "    'batch1;img001;img002',\n",
        "    'batch1;img003;img004',\n",
        "    'batch2;img101;img105',\n",
        "    # ... 包含所有測試樣本的 ID\n",
        "]\n",
        "\n",
        "# 範例預測的基礎矩陣 (Fundamental Matrices)\n",
        "# 這應該是你的模型為上面每個 test_sample_id 預測出的 3x3 矩陣。\n",
        "# 這裡使用隨機數據和固定數據作為範例。\n",
        "# *** 你需要用你的模型預測結果替換這裡的範例數據 ***\n",
        "predicted_fundamental_matrices = [\n",
        "    np.random.rand(3, 3), # 範例矩陣 1 (隨機)\n",
        "    np.array([[1e-8, 2e-7, 0.01],\n",
        "              [5e-8, 1e-7, 0.02],\n",
        "              [-0.01, -0.02, 1.0]]), # 範例矩陣 2 (模擬)\n",
        "    np.eye(3) * 1e-5, # 範例矩陣 3 (接近單位矩陣，乘以小數值)\n",
        "    # ... 包含對應所有測試樣本 ID 的預測矩陣\n",
        "]\n",
        "\n",
        "# --- 重要說明 ---\n",
        "# 關於你提到的 'train_labels' 和 'train_thresholds':\n",
        "# - 'train_labels': 在有監督學習中，這通常指訓練數據的真實標籤 (ground truth)。\n",
        "#   對於圖像匹配，這可能是真實的基礎矩陣或對應點。這些是用來訓練模型的，不是提交的內容。\n",
        "#   提交文件的內容是你模型對 *測試集* 的 *預測* 結果。\n",
        "# - 'train_thresholds' 或一般的 'thresholds': 這通常指在模型預測過程中使用的閾值，\n",
        "#   例如在 RANSAC 算法中判斷內點 (inliers) 的距離閾值，或者匹配特徵點時的置信度閾值。\n",
        "#   這些是模型內部的超參數或中間步驟，通常不直接放入最終提交的基礎矩陣中。\n",
        "\n",
        "# --- 檢查數據一致性 ---\n",
        "if len(test_sample_ids) != len(predicted_fundamental_matrices):\n",
        "    raise ValueError(\"測試樣本 ID 的數量和預測的基礎矩陣數量不匹配！\")\n",
        "\n",
        "# --- 格式化提交數據 ---\n",
        "submission_list = []\n",
        "for sample_id, f_matrix in zip(test_sample_ids, predicted_fundamental_matrices):\n",
        "    # 1. 確保 f_matrix 是 NumPy 陣列 (如果不是的話)\n",
        "    f_matrix_np = np.asarray(f_matrix)\n",
        "\n",
        "    # 2. 檢查矩陣形狀是否為 3x3\n",
        "    if f_matrix_np.shape != (3, 3):\n",
        "        print(f\"警告：樣本 {sample_id} 的基礎矩陣形狀不是 (3, 3)，而是 {f_matrix_np.shape}。請檢查你的預測。\")\n",
        "        # 可以選擇跳過此樣本或使用一個預設值，這裡僅作提醒\n",
        "        # 為避免提交錯誤，可以考慮填充一個預設值或跳過\n",
        "        # f_matrix_flat_str = \" \".join(['0'] * 9) # 使用全零作為預設值示例\n",
        "\n",
        "    # 3. 將 3x3 矩陣展平成 1x9 的列表\n",
        "    f_matrix_flat = f_matrix_np.flatten().tolist()\n",
        "\n",
        "    # 4. 將列表中的每個數字轉換為字串\n",
        "    f_matrix_str_list = [str(num) for num in f_matrix_flat]\n",
        "\n",
        "    # 5. 使用空格將 9 個數字字串連接起來\n",
        "    f_matrix_formatted_string = ' '.join(f_matrix_str_list)\n",
        "\n",
        "    # 6. 將 sample_id 和格式化後的矩陣字串加入列表\n",
        "    submission_list.append({\n",
        "        'sample_id': sample_id,\n",
        "        'fundamental_matrix': f_matrix_formatted_string\n",
        "    })\n",
        "\n",
        "# --- 生成 Pandas DataFrame ---\n",
        "submission_df = pd.DataFrame(submission_list)\n",
        "\n",
        "# --- 確保列的順序符合比賽要求 (通常是 'sample_id', 'fundamental_matrix') ---\n",
        "submission_df = submission_df[['sample_id', 'fundamental_matrix']]\n",
        "\n",
        "# --- 保存為 CSV 文件 ---\n",
        "# 比賽通常要求提交的文件名為 submission.csv\n",
        "output_filename = 'submission.csv'\n",
        "submission_df.to_csv(output_filename, index=False) # index=False 表示不將 DataFrame 的索引寫入 CSV 文件\n",
        "\n",
        "print(f\"提交文件 '{output_filename}' 已成功生成。\")\n",
        "print(\"文件包含 {} 行數據。\".format(len(submission_df)))\n",
        "print(\"\\n文件內容預覽 (前 5 行):\")\n",
        "print(submission_df.head())"
      ],
      "metadata": {
        "trusted": true,
        "execution": {
          "iopub.status.busy": "2025-05-01T15:15:43.413446Z",
          "iopub.execute_input": "2025-05-01T15:15:43.413757Z",
          "iopub.status.idle": "2025-05-01T15:15:43.702939Z",
          "shell.execute_reply.started": "2025-05-01T15:15:43.413729Z",
          "shell.execute_reply": "2025-05-01T15:15:43.702289Z"
        },
        "id": "lf5wrToHbOHB",
        "outputId": "14c200c6-5586-4394-bc94-b35e5e58f96c"
      },
      "outputs": [
        {
          "name": "stdout",
          "text": "提交文件 'submission.csv' 已成功生成。\n文件包含 3 行數據。\n\n文件內容預覽 (前 5 行):\n              sample_id                                 fundamental_matrix\n0  batch1;img001;img002  0.6573009028058712 0.003155558259978375 0.2642...\n1  batch1;img003;img004  1e-08 2e-07 0.01 5e-08 1e-07 0.02 -0.01 -0.02 1.0\n2  batch2;img101;img105          1e-05 0.0 0.0 0.0 1e-05 0.0 0.0 0.0 1e-05\n",
          "output_type": "stream"
        }
      ],
      "execution_count": null
    }
  ]
}