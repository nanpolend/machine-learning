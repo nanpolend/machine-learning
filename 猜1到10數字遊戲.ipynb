{
  "nbformat": 4,
  "nbformat_minor": 0,
  "metadata": {
    "colab": {
      "provenance": [],
      "authorship_tag": "ABX9TyMu0tVmYedVKkDSErCt/EvS",
      "include_colab_link": true
    },
    "kernelspec": {
      "name": "python3",
      "display_name": "Python 3"
    },
    "language_info": {
      "name": "python"
    }
  },
  "cells": [
    {
      "cell_type": "markdown",
      "metadata": {
        "id": "view-in-github",
        "colab_type": "text"
      },
      "source": [
        "<a href=\"https://colab.research.google.com/github/nanpolend/365E5/blob/master/%E7%8C%9C1%E5%88%B010%E6%95%B8%E5%AD%97%E9%81%8A%E6%88%B2.ipynb\" target=\"_parent\"><img src=\"https://colab.research.google.com/assets/colab-badge.svg\" alt=\"Open In Colab\"/></a>"
      ]
    },
    {
      "cell_type": "code",
      "execution_count": null,
      "metadata": {
        "colab": {
          "base_uri": "https://localhost:8080/"
        },
        "id": "ZeXUjdrfUwsD",
        "outputId": "601353fa-9e94-4a14-838e-74394ad1fda3"
      },
      "outputs": [
        {
          "output_type": "stream",
          "name": "stdout",
          "text": [
            "Guess a number between 1 and 10: 5\n",
            "Sorry, that's not it. Try again.\n",
            "Guess a number between 1 and 10: 3\n",
            "Sorry, that's not it. Try again.\n",
            "Guess a number between 1 and 10: 1\n",
            "Sorry, that's not it. Try again.\n",
            "Guess a number between 1 and 10: 2\n",
            "Sorry, that's not it. Try again.\n",
            "Guess a number between 1 and 10: 4\n",
            "Sorry, that's not it. Try again.\n",
            "Guess a number between 1 and 10: 6\n",
            "You guessed it! The number was 6\n"
          ]
        }
      ],
      "source": [
        "\n",
        "# define the game function\n",
        "def game():\n",
        "    import random\n",
        "\n",
        "    # generate a random number between 1 and 10\n",
        "    num = random.randint(1, 10)\n",
        "\n",
        "    # loop until the user guesses the correct number\n",
        "    while True:\n",
        "        # ask the user for their guess\n",
        "        guess = input(\"Guess a number between 1 and 10: \")\n",
        "\n",
        "        # check if the guess is correct\n",
        "        if int(guess) == num:\n",
        "            print(\"You guessed it! The number was\", num)\n",
        "            break\n",
        "        else:\n",
        "            print(\"Sorry, that's not it. Try again.\")\n",
        "\n",
        "# call the game function\n",
        "game()\n"
      ]
    }
  ]
}