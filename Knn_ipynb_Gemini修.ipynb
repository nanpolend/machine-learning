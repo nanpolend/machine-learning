{
  "nbformat": 4,
  "nbformat_minor": 0,
  "metadata": {
    "colab": {
      "provenance": [],
      "authorship_tag": "ABX9TyOiJDTBXe40ejeic7YIQ055",
      "include_colab_link": true
    },
    "kernelspec": {
      "name": "python3",
      "display_name": "Python 3"
    },
    "language_info": {
      "name": "python"
    }
  },
  "cells": [
    {
      "cell_type": "markdown",
      "metadata": {
        "id": "view-in-github",
        "colab_type": "text"
      },
      "source": [
        "<a href=\"https://colab.research.google.com/github/nanpolend/machine-learning/blob/master/Knn_ipynb_Gemini%E4%BF%AE.ipynb\" target=\"_parent\"><img src=\"https://colab.research.google.com/assets/colab-badge.svg\" alt=\"Open In Colab\"/></a>"
      ]
    },
    {
      "source": [
        "# 導入 math 模組，用於計算平方根等數學運算\n",
        "import math\n",
        "\n",
        "# 定義目標電影的特徵，例如動作程度、喜劇程度等，使用 5 個數值表示\n",
        "film =[5,7,8,10,2]\n",
        "\n",
        "# 定義其他電影的片名，將與目標電影進行比較\n",
        "film_titles =['復仇者聯盟', '決戰中途島', '冰雪奇緣', '雙子殺手']\n",
        "\n",
        "# 定義其他電影的特徵，每個內部列表代表一部電影，並具有 5 個數值特徵，類似於 film\n",
        "film_features = [[2,8,8,5,6],\n",
        "[5,6,9,2,5],\n",
        "[8,2,0,0,10],\n",
        "[5,8,8,8,3],\n",
        "]\n",
        "\n",
        "# 創建一個空列表，用於儲存目標電影與其他每部電影之間計算出的距離\n",
        "dist = []\n",
        "\n",
        "# 使用迴圈迭代 film_features 中每部電影的特徵\n",
        "for f in film_features:\n",
        "    distances = 0 # 初始化 distances 變數，用於累積平方差\n",
        "    # 使用迴圈迭代電影特徵列表 (f) 中的每個特徵\n",
        "    for i in range(len(f)):\n",
        "        # 計算目標電影和當前比較電影的相應特徵之間的平方差，並加到 distances 變數中\n",
        "        distances += (film[i] - f[i])**2\n",
        "    # 計算平方差總和的平方根，以獲得兩部電影之間的歐幾里得距離，並將此距離添加到 dist 列表中\n",
        "    dist.append(math.sqrt(distances))\n",
        "\n",
        "# 在 dist 列表中找到最小距離值，代表最短距離/最高相似度\n",
        "min_distance = min(dist)\n",
        "# 在 dist 列表中找到 min_distance 的索引（位置），它對應於 film_titles 中最相似電影的索引\n",
        "min_index = dist.index(min_distance)\n",
        "# 顯示最相似電影的片名及其相似度值（距離）\n",
        "print(f\"與玩命關頭最相似的電影:{film_titles[min_index]}\")\n",
        "print(f\"相似度值:{min_distance}\")\n",
        "\n",
        "# 使用迴圈迭代所有計算出的距離，並列印每部電影的片名及其相似度值（距離），格式化為兩位小數\n",
        "for i in range(len(dist)):\n",
        "    print(f\"影片:{film_titles[i]},相似度:{dist[i]:6.2f}\")"
      ],
      "cell_type": "code",
      "metadata": {
        "colab": {
          "base_uri": "https://localhost:8080/"
        },
        "id": "VfsmaR7iCSpe",
        "outputId": "d0c56bcc-da56-475b-9809-ce3cbf76edd4"
      },
      "execution_count": 1,
      "outputs": [
        {
          "output_type": "stream",
          "name": "stdout",
          "text": [
            "與玩命關頭最相似的電影:雙子殺手\n",
            "相似度值:2.449489742783178\n",
            "影片:復仇者聯盟,相似度:  7.14\n",
            "影片:決戰中途島,相似度:  8.66\n",
            "影片:冰雪奇緣,相似度: 16.19\n",
            "影片:雙子殺手,相似度:  2.45\n"
          ]
        }
      ]
    }
  ]
}