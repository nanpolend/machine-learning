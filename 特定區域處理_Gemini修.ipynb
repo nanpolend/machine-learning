{
  "nbformat": 4,
  "nbformat_minor": 0,
  "metadata": {
    "colab": {
      "provenance": [],
      "authorship_tag": "ABX9TyOPC+pzmX5kYBuzCSH40JLV",
      "include_colab_link": true
    },
    "kernelspec": {
      "name": "python3",
      "display_name": "Python 3"
    },
    "language_info": {
      "name": "python"
    }
  },
  "cells": [
    {
      "cell_type": "markdown",
      "metadata": {
        "id": "view-in-github",
        "colab_type": "text"
      },
      "source": [
        "<a href=\"https://colab.research.google.com/github/nanpolend/machine-learning/blob/master/%E7%89%B9%E5%AE%9A%E5%8D%80%E5%9F%9F%E8%99%95%E7%90%86_Gemini%E4%BF%AE.ipynb\" target=\"_parent\"><img src=\"https://colab.research.google.com/assets/colab-badge.svg\" alt=\"Open In Colab\"/></a>"
      ]
    },
    {
      "source": [
        "import cv2\n",
        "\n",
        "# 定義 ROI 的座標 (左上角和右下角)\n",
        "RECT = ((220, 20), (370, 190))\n",
        "(left, top), (right, bottom) = RECT\n",
        "\n",
        "# 擷取 ROI 區域的函式\n",
        "def roiarea(frame):\n",
        "    return frame[top:bottom, left:right]\n",
        "\n",
        "# 將新的影像資料置入 ROI 區域的函式\n",
        "def replaceroi(frame, roi):\n",
        "    frame[top:bottom, left:right] = roi\n",
        "    return frame\n",
        "\n",
        "# 架構圖\n",
        "# +---------------------+\n",
        "# |       影像 (frame)   |\n",
        "# | +-----------------+ |\n",
        "# | |      ROI      | |\n",
        "# | | (left, top)   | |\n",
        "# | |  --------     | |\n",
        "# | |  |      |     | |\n",
        "# | |  |      |     | |\n",
        "# | |  --------     | |\n",
        "# | | (right,bottom)| |\n",
        "# | +-----------------+ |\n",
        "# +---------------------+\n",
        "#\n",
        "# roiarea 函式: 擷取 ROI 區域\n",
        "# replaceroi 函式: 將新的影像資料置入 ROI 區域\n",
        "\n",
        "# 程式碼說明 (繁體中文)\n",
        "#\n",
        "# 1. 匯入 cv2 函式庫: 用於影像處理，例如影像處理、物件偵測和影片分析。\n",
        "# 2. 定義 ROI:  RECT 變數儲存 ROI 的座標，(left, top) 代表左上角，(right, bottom) 代表右下角。\n",
        "# 3. roiarea 函式: 輸入影像 (frame)，回傳 ROI 區域的影像資料。\n",
        "# 4. replaceroi 函式: 輸入影像 (frame) 和新的 ROI 影像資料 (roi)，將 roi 置入 frame 的 ROI 區域，並回傳修改後的 frame。"
      ],
      "cell_type": "code",
      "metadata": {
        "id": "q9lIs3CYogTO"
      },
      "execution_count": null,
      "outputs": []
    }
  ]
}