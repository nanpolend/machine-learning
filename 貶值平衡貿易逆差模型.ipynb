{
  "nbformat": 4,
  "nbformat_minor": 0,
  "metadata": {
    "colab": {
      "private_outputs": true,
      "provenance": [],
      "gpuType": "V28",
      "cell_execution_strategy": "setup",
      "authorship_tag": "ABX9TyPDWgp1LBDNsnFn4SYn7kqI",
      "include_colab_link": true
    },
    "kernelspec": {
      "name": "python3",
      "display_name": "Python 3"
    },
    "language_info": {
      "name": "python"
    },
    "accelerator": "TPU"
  },
  "cells": [
    {
      "cell_type": "markdown",
      "metadata": {
        "id": "view-in-github",
        "colab_type": "text"
      },
      "source": [
        "<a href=\"https://colab.research.google.com/github/nanpolend/365E5/blob/master/%E8%B2%B6%E5%80%BC%E5%B9%B3%E8%A1%A1%E8%B2%BF%E6%98%93%E9%80%86%E5%B7%AE%E6%A8%A1%E5%9E%8B.ipynb\" target=\"_parent\"><img src=\"https://colab.research.google.com/assets/colab-badge.svg\" alt=\"Open In Colab\"/></a>"
      ]
    },
    {
      "cell_type": "code",
      "execution_count": null,
      "metadata": {
        "id": "SLHUbHE69Zkq"
      },
      "outputs": [],
      "source": [
        "# -*- coding: utf-8 -*-\n",
        "\"\"\"\n",
        "馬歇爾-勒納條件貿易平衡計算器\n",
        "計算美元需貶值多少才能消除貿易逆差（假設其他條件不變）\n",
        "\"\"\"\n",
        "\n",
        "import numpy as np\n",
        "from scipy.optimize import fsolve\n",
        "\n",
        "# 假設參數設定（單位：十億美元）\n",
        "initial_exports = 2500    # 初始出口額 X₀\n",
        "initial_imports = 3500    # 初始進口額 M₀\n",
        "eta_x = 0.6               # 出口需求彈性（假設值）\n",
        "eta_m = 0.4               # 進口需求彈性（假設值）\n",
        "\n",
        "# 初始貿易逆差\n",
        "initial_deficit = initial_imports - initial_exports\n",
        "print(f\"初始貿易逆差：{initial_deficit}億美元\")\n",
        "\n",
        "def trade_balance(e):\n",
        "    \"\"\"\n",
        "    計算貶值後的貿易差額變化\n",
        "    e: 美元貶值幅度（小數形式，如0.1表示貶值10%）\n",
        "    返回：貿易逆差變化量\n",
        "    \"\"\"\n",
        "    # 出口變化公式\n",
        "    delta_X = initial_exports * eta_x * e\n",
        "\n",
        "    # 進口變化公式（考慮價格效應和數量效應）\n",
        "    delta_M = initial_imports * ( (1/(1+e)) * (1 - eta_m) - 1 )\n",
        "\n",
        "    # 新貿易逆差\n",
        "    new_deficit = (initial_imports + delta_M) - (initial_exports + delta_X)\n",
        "    return new_deficit\n",
        "\n",
        "# 求解使貿易逆差為0的貶值幅度\n",
        "def equation(e):\n",
        "    return trade_balance(e)\n",
        "\n",
        "# 使用數值方法求解方程\n",
        "solution = fsolve(equation, 0.1)  # 初始猜測值為10%\n",
        "required_devaluation = solution[0] * 100  # 轉換為百分比\n",
        "\n",
        "# 輸出結果\n",
        "print(\"\\n--- 馬歇爾-勒納條件計算結果 ---\")\n",
        "print(f\"出口需求彈性(η_x)：{eta_x:.1f}\")\n",
        "print(f\"進口需求彈性(η_m)：{eta_m:.1f}\")\n",
        "print(f\"彈性總和(η_x + η_m)：{eta_x + eta_m:.1f}\")\n",
        "print(f\"所需貶值幅度：{required_devaluation:.1f}%\")\n",
        "print(\"----------------------------------\")\n",
        "\n",
        "# 驗證計算結果\n",
        "final_exports = initial_exports * (1 + eta_x * required_devaluation/100)\n",
        "final_imports = initial_imports * (1/(1+required_devaluation/100)) * (1 - eta_m * required_devaluation/100)\n",
        "final_deficit = final_imports - final_exports\n",
        "\n",
        "print(\"\\n驗證計算：\")\n",
        "print(f\"貶值後出口額：{final_exports:.1f}億美元\")\n",
        "print(f\"貶值後進口額：{final_imports:.1f}億美元\")\n",
        "print(f\"新貿易逆差：{final_deficit:.1f}億美元\")"
      ]
    }
  ]
}