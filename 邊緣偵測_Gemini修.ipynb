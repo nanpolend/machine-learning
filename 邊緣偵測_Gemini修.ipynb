{
  "nbformat": 4,
  "nbformat_minor": 0,
  "metadata": {
    "colab": {
      "provenance": [],
      "authorship_tag": "ABX9TyOrivME8b1B4pFPXaA2h1GX",
      "include_colab_link": true
    },
    "kernelspec": {
      "name": "python3",
      "display_name": "Python 3"
    },
    "language_info": {
      "name": "python"
    }
  },
  "cells": [
    {
      "cell_type": "markdown",
      "metadata": {
        "id": "view-in-github",
        "colab_type": "text"
      },
      "source": [
        "<a href=\"https://colab.research.google.com/github/nanpolend/machine-learning/blob/master/%E9%82%8A%E7%B7%A3%E5%81%B5%E6%B8%AC_Gemini%E4%BF%AE.ipynb\" target=\"_parent\"><img src=\"https://colab.research.google.com/assets/colab-badge.svg\" alt=\"Open In Colab\"/></a>"
      ]
    },
    {
      "source": [
        "import cv2  # 匯入 OpenCV 函式庫\n",
        "\n",
        "# 架構圖：\n",
        "#\n",
        "# 1. 載入影像: 使用 cv2.VideoCapture 讀取影像檔案。\n",
        "# 2. 前處理:\n",
        "#    - 轉換為灰階: 使用 cv2.cvtColor。\n",
        "#    - 高斯模糊: 使用 cv2.GaussianBlur。\n",
        "#    - 邊緣偵測: 使用 cv2.Canny。\n",
        "# 3. 輪廓偵測: 使用 cv2.findContours 尋找物件輪廓。\n",
        "# 4. 繪製輪廓: 使用 cv2.drawContours 在影像上繪製輪廓。\n",
        "# 5. 顯示結果: 使用 cv2.imshow 顯示影像。\n",
        "#\n",
        "\n",
        "\n",
        "# 1. 載入影像: 使用 cv2.VideoCapture 讀取影像檔案。\n",
        "cap = cv2.VideoCapture('coin.jpg')  # 建立 VideoCapture 物件來讀取影像檔案 'coin.jpg'\n",
        "ret, frame = cap.read()  # 讀取影像並儲存在 frame 變數中\n",
        "\n",
        "# 2. 前處理:\n",
        "#    - 轉換為灰階: 使用 cv2.cvtColor。\n",
        "gray = cv2.cvtColor(frame, cv2.COLOR_BGR2GRAY)  # 將彩色影像轉換為灰階\n",
        "#    - 高斯模糊: 使用 cv2.GaussianBlur。\n",
        "gray = cv2.GaussianBlur(gray, (13, 13), 0)  # 使用高斯模糊降低雜訊\n",
        "#    - 邊緣偵測: 使用 cv2.Canny。\n",
        "edged = cv2.Canny(gray, 50, 50)  # 使用 Canny 演算法進行邊緣偵測\n",
        "\n",
        "# 3. 輪廓偵測: 使用 cv2.findContours 尋找物件輪廓。\n",
        "contours, hierarchy = cv2.findContours(\n",
        "edged.copy(),  # 使用邊緣偵測影像的副本\n",
        "cv2.RETR_EXTERNAL,  # 只擷取最外層的輪廓\n",
        "cv2.CHAIN_APPROX_SIMPLE)  # 簡化輪廓表示\n",
        "\n",
        "# 4. 繪製輪廓: 使用 cv2.drawContours 在影像上繪製輪廓。\n",
        "out = frame.copy()  # 建立原始影像的副本以繪製輪廓\n",
        "cv2.drawContours(out, contours, -1, (0, 255, 128), 2)  # 在 out 影像上繪製輪廓\n",
        "\n",
        "# 將原始影像和輪廓影像水平拼接\n",
        "frame = cv2.hconcat([frame, out])\n",
        "\n",
        "# 5. 顯示結果: 使用 cv2.imshow 顯示影像。\n",
        "cv2.imshow('frame', frame)  # 顯示拼接後的影像\n",
        "cv2.waitKey(0)  # 等待按鍵按下\n",
        "cv2.destroyAllWindows()  # 關閉所有 OpenCV 視窗"
      ],
      "cell_type": "code",
      "metadata": {
        "id": "HZo1GtOJT3S2"
      },
      "execution_count": null,
      "outputs": []
    }
  ]
}