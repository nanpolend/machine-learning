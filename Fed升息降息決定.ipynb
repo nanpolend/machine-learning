{
  "nbformat": 4,
  "nbformat_minor": 0,
  "metadata": {
    "colab": {
      "provenance": [],
      "authorship_tag": "ABX9TyOkegov7gg4urqzbsEoFKO1",
      "include_colab_link": true
    },
    "kernelspec": {
      "name": "python3",
      "display_name": "Python 3"
    },
    "language_info": {
      "name": "python"
    }
  },
  "cells": [
    {
      "cell_type": "markdown",
      "metadata": {
        "id": "view-in-github",
        "colab_type": "text"
      },
      "source": [
        "<a href=\"https://colab.research.google.com/github/nanpolend/machine-learning/blob/master/Fed%E5%8D%87%E6%81%AF%E9%99%8D%E6%81%AF%E6%B1%BA%E5%AE%9A.ipynb\" target=\"_parent\"><img src=\"https://colab.research.google.com/assets/colab-badge.svg\" alt=\"Open In Colab\"/></a>"
      ]
    },
    {
      "cell_type": "code",
      "source": [
        "class FedInterestDecision:\n",
        "    def __init__(self):\n",
        "        self.target_inflation = 2.0\n",
        "        self.natural_unemployment = 4.0\n",
        "        self.inflation_coeff = 0.5\n",
        "        self.unemployment_coeff = -1.0\n",
        "        self.neutral_rate = 2.5\n",
        "        self.max_change = 0.5  # 新增：單次最大調整幅度\n",
        "\n",
        "    def calculate_rate(self, expected_inflation, expected_unemployment):\n",
        "        inflation_gap = expected_inflation - self.target_inflation\n",
        "        unemployment_gap = expected_unemployment - self.natural_unemployment\n",
        "        recommended_rate = self.neutral_rate + \\\n",
        "                          (self.inflation_coeff * inflation_gap) + \\\n",
        "                          (self.unemployment_coeff * unemployment_gap)\n",
        "        return max(0, recommended_rate)\n",
        "\n",
        "    def decide_action(self, current_rate, expected_inflation, expected_unemployment):\n",
        "        target_rate = self.calculate_rate(expected_inflation, expected_unemployment)\n",
        "        rate_diff = target_rate - current_rate\n",
        "\n",
        "        # 限制單次調整幅度\n",
        "        if rate_diff > self.max_change:\n",
        "            adjust = self.max_change\n",
        "        elif rate_diff < -self.max_change:\n",
        "            adjust = -self.max_change\n",
        "        else:\n",
        "            adjust = rate_diff\n",
        "\n",
        "        new_rate = current_rate + adjust\n",
        "        new_rate = max(new_rate, 0)  # 維持零利率下限\n",
        "\n",
        "        # 決策描述\n",
        "        if adjust > 0:\n",
        "            if adjust >= 0.5:\n",
        "                action = \"升息2碼(0.5%)\"\n",
        "            else:\n",
        "                action = \"升息1碼(0.25%)\"\n",
        "        elif adjust < 0:\n",
        "            if adjust <= -0.5:\n",
        "                action = \"降息2碼(0.5%)\"\n",
        "            else:\n",
        "                action = \"降息1碼(0.25%)\"\n",
        "        else:\n",
        "            action = \"維持利率不變\"\n",
        "\n",
        "        return action, new_rate\n",
        "\n",
        "# 測試案例\n",
        "fed = FedInterestDecision()\n",
        "current_rate = 5.0  # 當前利率5%\n",
        "expected_inflation = 10.0\n",
        "expected_unemployment = 10.0\n",
        "\n",
        "action, new_rate = fed.decide_action(current_rate, expected_inflation, expected_unemployment)\n",
        "\n",
        "print(f\"經濟情境：\")\n",
        "print(f\"預期通膨率：{expected_inflation}% | 預期失業率：{expected_unemployment}%\")\n",
        "print(f\"政策決策：{action}\")\n",
        "print(f\"調整後利率：{new_rate:.2f}%\")"
      ],
      "metadata": {
        "colab": {
          "base_uri": "https://localhost:8080/"
        },
        "id": "T-hiBjaDqWG3",
        "outputId": "5449c1f3-cd8c-4dee-b8a8-fd4139985154"
      },
      "execution_count": 1,
      "outputs": [
        {
          "output_type": "stream",
          "name": "stdout",
          "text": [
            "經濟情境：\n",
            "預期通膨率：10.0% | 預期失業率：10.0%\n",
            "政策決策：降息2碼(0.5%)\n",
            "調整後利率：4.50%\n"
          ]
        }
      ]
    }
  ]
}