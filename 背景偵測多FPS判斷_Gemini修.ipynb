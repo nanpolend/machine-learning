{
  "nbformat": 4,
  "nbformat_minor": 0,
  "metadata": {
    "colab": {
      "provenance": [],
      "authorship_tag": "ABX9TyMGnbmPiOfsqxr+qh+Zhgm1",
      "include_colab_link": true
    },
    "kernelspec": {
      "name": "python3",
      "display_name": "Python 3"
    },
    "language_info": {
      "name": "python"
    }
  },
  "cells": [
    {
      "cell_type": "markdown",
      "metadata": {
        "id": "view-in-github",
        "colab_type": "text"
      },
      "source": [
        "<a href=\"https://colab.research.google.com/github/nanpolend/machine-learning/blob/master/%E8%83%8C%E6%99%AF%E5%81%B5%E6%B8%AC%E5%A4%9AFPS%E5%88%A4%E6%96%B7_Gemini%E4%BF%AE.ipynb\" target=\"_parent\"><img src=\"https://colab.research.google.com/assets/colab-badge.svg\" alt=\"Open In Colab\"/></a>"
      ]
    },
    {
      "source": [
        "mermaid\n",
        "graph LR\n",
        "A[載入必要的函式庫] --> B{初始化背景減除器};\n",
        "B --> C{開啟視訊來源};\n",
        "C --> D{設定影像尺寸};\n",
        "D --> E{主迴圈};\n",
        "E --> F{讀取影像};\n",
        "F --> G{調整影像尺寸};\n",
        "G --> H{水平翻轉影像};\n",
        "H --> I{套用背景減除器};\n",
        "I --> J{二值化處理};\n",
        "J --> K{膨脹處理};\n",
        "K --> L{尋找輪廓};\n",
        "L --> M{繪製輪廓和邊界框};\n",
        "M --> N{轉換色彩空間};\n",
        "N --> O{合併影像};\n",
        "O --> P{顯示影像};\n",
        "P --> Q{檢查是否按下ESC鍵};\n",
        "Q -- 是 --> R[結束程式];\n",
        "Q -- 否 --> E;"
      ],
      "cell_type": "code",
      "metadata": {
        "id": "TKemcbUErOZu"
      },
      "execution_count": null,
      "outputs": []
    },
    {
      "source": [
        "import cv2  # 載入 OpenCV 函式庫\n",
        "\n",
        "# 初始化背景減除器\n",
        "bs = cv2.bgsegm.createBackgroundSubtractorGMG()\n",
        "\n",
        "# 開啟視訊來源 (® 應替換成實際的視訊檔案路徑或攝影機編號)\n",
        "cap = cv2.VideoCapture(®)\n",
        "\n",
        "# 計算影像長寬比並設定顯示尺寸\n",
        "ratio = cap.get(cv2.CAP_PROP_FRAME_WIDTH) / cap.get(cv2.CAP_PROP_FRAME_HEIGHT)\n",
        "WIDTH = 400\n",
        "HEIGHT = int(WIDTH / ratio)\n",
        "\n",
        "# 主迴圈\n",
        "while True:\n",
        "    ret, frame = cap.read()  # 讀取影像\n",
        "    if not ret:\n",
        "        break # 若讀取失敗則跳出迴圈\n",
        "\n",
        "    frame = cv2.resize(frame, (WIDTH, HEIGHT))  # 調整影像尺寸\n",
        "    frame = cv2.flip(frame, 1)  # 水平翻轉影像\n",
        "\n",
        "    # 套用背景減除器\n",
        "    fgmask = bs.apply(frame)\n",
        "\n",
        "    # 二值化處理\n",
        "    _, mask = cv2.threshold(fgmask, 30, 255, cv2.THRESH_BINARY)\n",
        "\n",
        "    # 膨脹處理 (形態學操作，用於消除雜訊)\n",
        "    mask = cv2.dilate(mask, None, iterations=10)\n",
        "\n",
        "    # 尋找輪廓\n",
        "    contours, hierarchy = cv2.findContours(mask, cv2.RETR_EXTERNAL, cv2.CHAIN_APPROX_SIMPLE)\n",
        "\n",
        "    # 繪製輪廓和邊界框\n",
        "    for c in contours:\n",
        "        if cv2.contourArea(c) < 200:  # 忽略太小的輪廓\n",
        "            continue\n",
        "\n",
        "        # 繪製輪廓\n",
        "        cv2.drawContours(frame, [c], -1, (0, 255, 255), 2)\n",
        "\n",
        "        # 繪製邊界框\n",
        "        (x, y, w, h) = cv2.boundingRect(c)\n",
        "        cv2.rectangle(frame, (x, y), (x + w, y + h), (0, 255, 0), 2)\n",
        "\n",
        "    # 轉換色彩空間 (將灰階遮罩轉換為彩色，以便合併顯示)\n",
        "    mask = cv2.cvtColor(mask, cv2.COLOR_GRAY2BGR)\n",
        "\n",
        "    # 合併影像 (將原始影像和遮罩影像水平合併)\n",
        "    frame = cv2.hconcat([frame, mask])\n",
        "\n",
        "    # 顯示影像\n",
        "    cv2.imshow('frame', frame)\n",
        "\n",
        "    # 檢查是否按下ESC鍵\n",
        "    if cv2.waitKey(1) == 27:\n",
        "        break\n",
        "\n",
        "# 關閉所有視窗\n",
        "cv2.destroyAllWindows()"
      ],
      "cell_type": "code",
      "metadata": {
        "colab": {
          "base_uri": "https://localhost:8080/",
          "height": 110
        },
        "id": "NECg9mokrRGG",
        "outputId": "2760252c-c333-481e-f494-78d3fe6d606b"
      },
      "execution_count": 1,
      "outputs": [
        {
          "output_type": "error",
          "ename": "SyntaxError",
          "evalue": "invalid character '®' (U+00AE) (<ipython-input-1-154f996605e1>, line 7)",
          "traceback": [
            "\u001b[0;36m  File \u001b[0;32m\"<ipython-input-1-154f996605e1>\"\u001b[0;36m, line \u001b[0;32m7\u001b[0m\n\u001b[0;31m    cap = cv2.VideoCapture(®)\u001b[0m\n\u001b[0m                           ^\u001b[0m\n\u001b[0;31mSyntaxError\u001b[0m\u001b[0;31m:\u001b[0m invalid character '®' (U+00AE)\n"
          ]
        }
      ]
    }
  ]
}