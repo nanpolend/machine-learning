{
  "nbformat": 4,
  "nbformat_minor": 0,
  "metadata": {
    "colab": {
      "provenance": [],
      "authorship_tag": "ABX9TyP9/6fxVN/RcgF9s/3RwK66",
      "include_colab_link": true
    },
    "kernelspec": {
      "name": "python3",
      "display_name": "Python 3"
    },
    "language_info": {
      "name": "python"
    }
  },
  "cells": [
    {
      "cell_type": "markdown",
      "metadata": {
        "id": "view-in-github",
        "colab_type": "text"
      },
      "source": [
        "<a href=\"https://colab.research.google.com/github/nanpolend/machine-learning/blob/master/DBSCAN%E8%81%9A%E9%A1%9E%E6%BC%94%E7%AE%97%E6%B3%95_Gemini%E4%BF%AE.ipynb\" target=\"_parent\"><img src=\"https://colab.research.google.com/assets/colab-badge.svg\" alt=\"Open In Colab\"/></a>"
      ]
    },
    {
      "source": [
        "# 匯入函式庫\n",
        "from sklearn.cluster import DBSCAN  # 匯入 DBSCAN 類別，用於密度分群\n",
        "import numpy as np  # 匯入 numpy 函式庫，用於處理數值數據，尤其是陣列\n",
        "\n",
        "# 建立資料集\n",
        "# 每個內部列表代表一個資料點，包含兩個特徵值\n",
        "X = np.array([[2, 3], [3, 4], [4, 5], [18, 71], [19, 73], [20, 67], [125, 180]])\n",
        "\n",
        "# 建立和擬合 DBSCAN 模型\n",
        "clustering = DBSCAN(eps=3, min_samples=2)  # 建立 DBSCAN 物件，設定 epsilon 和最小樣本數\n",
        "clustering.fit(X)  # 將 DBSCAN 演算法應用於資料集 X，以識別群集\n",
        "\n",
        "# 取得和列印群集標籤\n",
        "Y_pred = clustering.labels_  # 擷取群集標籤，儲存在 Y_pred 變數中\n",
        "print(clustering.labels_)  # 列印群集標籤，-1 通常表示雜訊點"
      ],
      "cell_type": "code",
      "metadata": {
        "colab": {
          "base_uri": "https://localhost:8080/"
        },
        "id": "PEA6URINOidR",
        "outputId": "9a194725-113f-44b5-c2c0-2608bb024d58"
      },
      "execution_count": 1,
      "outputs": [
        {
          "output_type": "stream",
          "name": "stdout",
          "text": [
            "[ 0  0  0  1  1 -1 -1]\n"
          ]
        }
      ]
    }
  ]
}