{
  "nbformat": 4,
  "nbformat_minor": 0,
  "metadata": {
    "colab": {
      "provenance": [],
      "authorship_tag": "ABX9TyNlqHvvu03Sw6A3V2gyPga2",
      "include_colab_link": true
    },
    "kernelspec": {
      "name": "python3",
      "display_name": "Python 3"
    },
    "language_info": {
      "name": "python"
    }
  },
  "cells": [
    {
      "cell_type": "markdown",
      "metadata": {
        "id": "view-in-github",
        "colab_type": "text"
      },
      "source": [
        "<a href=\"https://colab.research.google.com/github/nanpolend/machine-learning/blob/master/%E6%9C%80%E6%96%B0%E5%9C%8B%E9%9A%9B%E9%87%91%E5%83%B9api.ipynb\" target=\"_parent\"><img src=\"https://colab.research.google.com/assets/colab-badge.svg\" alt=\"Open In Colab\"/></a>"
      ]
    },
    {
      "cell_type": "code",
      "source": [
        "import time\n",
        "import requests\n",
        "\n",
        "url = 'https://fsapi-china.gold.org/api/goldprice/v11/chart/price/usd/ounces'  # 修改單位為盎司\n",
        "headers = {\n",
        "    'User-Agent': 'Mozilla/5.0 (Windows NT 10.0; Win64; x64) AppleWebKit/537.36 (KHTML, like Gecko) Chrome/124.0.0.0 Safari/537.36'\n",
        "}\n",
        "\n",
        "# 發送GET請求\n",
        "response = requests.get(url, headers=headers)\n",
        "data = response.json()['chartData']['USD']  # 提取美元計價數據\n",
        "\n",
        "# 轉換時間戳並提取最新價格\n",
        "latest_timestamp = data[-1][0] / 1000  # 毫秒轉秒\n",
        "latest_date = time.strftime('%Y-%m-%d %H:%M:%S', time.localtime(latest_timestamp))\n",
        "latest_price = data[-1][1]\n",
        "\n",
        "print(f\"最新國際金價（美元/盎司）: {latest_price}（更新時間：{latest_date}）\")"
      ],
      "metadata": {
        "colab": {
          "base_uri": "https://localhost:8080/"
        },
        "id": "wbwXAzKhyuRB",
        "outputId": "e636bbbc-ae52-4b77-827c-db89b7c605a3"
      },
      "execution_count": 2,
      "outputs": [
        {
          "output_type": "stream",
          "name": "stdout",
          "text": [
            "最新國際金價（美元/盎司）: 3305.65（更新時間：2025-04-17 00:00:00）\n"
          ]
        }
      ]
    }
  ]
}