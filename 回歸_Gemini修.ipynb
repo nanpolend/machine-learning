{
  "nbformat": 4,
  "nbformat_minor": 0,
  "metadata": {
    "colab": {
      "provenance": [],
      "authorship_tag": "ABX9TyPNI5hQ1WVg8Erin6eUn588",
      "include_colab_link": true
    },
    "kernelspec": {
      "name": "python3",
      "display_name": "Python 3"
    },
    "language_info": {
      "name": "python"
    }
  },
  "cells": [
    {
      "cell_type": "markdown",
      "metadata": {
        "id": "view-in-github",
        "colab_type": "text"
      },
      "source": [
        "<a href=\"https://colab.research.google.com/github/nanpolend/machine-learning/blob/master/%E5%9B%9E%E6%AD%B8_Gemini%E4%BF%AE.ipynb\" target=\"_parent\"><img src=\"https://colab.research.google.com/assets/colab-badge.svg\" alt=\"Open In Colab\"/></a>"
      ]
    },
    {
      "source": [
        "+---------------------+      +---------------------+      +---------------------+\n",
        "|     讀取影像       | ----> |      顯示影像       | ----> |     等待 & 關閉     |\n",
        "+---------------------+      +---------------------+      +---------------------+\n",
        "| cv2.imread('demo.jpg') |      | cv2_imshow('image', frame) |      | cv2.waitKey(0)       |\n",
        "| frame = ...           |      |                        |      | cv2.destroyAllWindows()|\n",
        "+---------------------+      +---------------------+      +---------------------+"
      ],
      "cell_type": "code",
      "metadata": {
        "id": "pulATZDMy9R5"
      },
      "execution_count": null,
      "outputs": []
    },
    {
      "source": [
        "# -*- coding: utf-8 -*-\n",
        "from google.colab.patches import cv2_imshow # 導入 Google Colab 專用的影像顯示函數\n",
        "import cv2 # 導入 OpenCV 函式庫\n",
        "\n",
        "# 讀取影像檔案\n",
        "frame = cv2.imread('demo.jpg') # 使用 cv2.imread 讀取影像，儲存到 frame 變數\n",
        "\n",
        "# 顯示影像\n",
        "cv2_imshow('image', frame) # 使用 cv2_imshow 顯示影像，視窗名稱為 'image'\n",
        "\n",
        "# 等待按鍵按下\n",
        "cv2.waitKey(0) # 等待使用者按下按鍵\n",
        "\n",
        "# 關閉所有視窗\n",
        "cv2.destroyAllWindows() # 關閉所有 OpenCV 建立的視窗"
      ],
      "cell_type": "code",
      "metadata": {
        "colab": {
          "base_uri": "https://localhost:8080/",
          "height": 219
        },
        "id": "rFAcEEMHy-PZ",
        "outputId": "786b3e0e-6dde-4cfe-99f5-90a0c81f6eea"
      },
      "execution_count": 1,
      "outputs": [
        {
          "output_type": "error",
          "ename": "TypeError",
          "evalue": "cv2_imshow() takes 1 positional argument but 2 were given",
          "traceback": [
            "\u001b[0;31m---------------------------------------------------------------------------\u001b[0m",
            "\u001b[0;31mTypeError\u001b[0m                                 Traceback (most recent call last)",
            "\u001b[0;32m<ipython-input-1-e8e29d85bd00>\u001b[0m in \u001b[0;36m<cell line: 0>\u001b[0;34m()\u001b[0m\n\u001b[1;32m      7\u001b[0m \u001b[0;34m\u001b[0m\u001b[0m\n\u001b[1;32m      8\u001b[0m \u001b[0;31m# 顯示影像\u001b[0m\u001b[0;34m\u001b[0m\u001b[0;34m\u001b[0m\u001b[0m\n\u001b[0;32m----> 9\u001b[0;31m \u001b[0mcv2_imshow\u001b[0m\u001b[0;34m(\u001b[0m\u001b[0;34m'image'\u001b[0m\u001b[0;34m,\u001b[0m \u001b[0mframe\u001b[0m\u001b[0;34m)\u001b[0m \u001b[0;31m# 使用 cv2_imshow 顯示影像，視窗名稱為 'image'\u001b[0m\u001b[0;34m\u001b[0m\u001b[0;34m\u001b[0m\u001b[0m\n\u001b[0m\u001b[1;32m     10\u001b[0m \u001b[0;34m\u001b[0m\u001b[0m\n\u001b[1;32m     11\u001b[0m \u001b[0;31m# 等待按鍵按下\u001b[0m\u001b[0;34m\u001b[0m\u001b[0;34m\u001b[0m\u001b[0m\n",
            "\u001b[0;31mTypeError\u001b[0m: cv2_imshow() takes 1 positional argument but 2 were given"
          ]
        }
      ]
    }
  ]
}