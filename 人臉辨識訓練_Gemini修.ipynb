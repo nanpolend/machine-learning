{
  "nbformat": 4,
  "nbformat_minor": 0,
  "metadata": {
    "colab": {
      "provenance": [],
      "authorship_tag": "ABX9TyPn5PRlydaBa16rc2fKCaGJ",
      "include_colab_link": true
    },
    "kernelspec": {
      "name": "python3",
      "display_name": "Python 3"
    },
    "language_info": {
      "name": "python"
    }
  },
  "cells": [
    {
      "cell_type": "markdown",
      "metadata": {
        "id": "view-in-github",
        "colab_type": "text"
      },
      "source": [
        "<a href=\"https://colab.research.google.com/github/nanpolend/machine-learning/blob/master/%E4%BA%BA%E8%87%89%E8%BE%A8%E8%AD%98%E8%A8%93%E7%B7%B4_Gemini%E4%BF%AE.ipynb\" target=\"_parent\"><img src=\"https://colab.research.google.com/assets/colab-badge.svg\" alt=\"Open In Colab\"/></a>"
      ]
    },
    {
      "source": [
        "+-----------------+     +--------------+     +-------------+     +------------+\n",
        "| 載入影像資料 (images) | --> | 建立 LBPH 辨識器 | --> | 訓練模型     | --> | 儲存模型   |\n",
        "+-----------------+     +--------------+     +-------------+     +------------+\n",
        "                            ^                                       |\n",
        "                            |                                       |\n",
        "                            +---------------------------------------+\n",
        "                                         標籤資料 (labels)"
      ],
      "cell_type": "code",
      "metadata": {
        "id": "AZAr_hQE1kYG"
      },
      "execution_count": null,
      "outputs": []
    },
    {
      "source": [
        "# 導入必要的函式庫\n",
        "import cv2\n",
        "import numpy as np\n",
        "import os\n",
        "\n",
        "# 顯示訓練開始訊息\n",
        "print('訓練中...')\n",
        "\n",
        "# 創建 LBPH 臉部辨識器\n",
        "model = cv2.face.LBPHFaceRecognizer_create()\n",
        "\n",
        "# 初始化 images 和 labels 變數\n",
        "images = []\n",
        "labels = []\n",
        "\n",
        "# 設定資料集路徑\n",
        "dataset_path = 'dataset'  # 將 'dataset' 替換為您的資料集資料夾路徑\n",
        "\n",
        "# 讀取資料集中的影像和標籤\n",
        "for person_name in os.listdir(dataset_path):\n",
        "    person_path = os.path.join(dataset_path, person_name)\n",
        "    if os.path.isdir(person_path):\n",
        "        label = int(person_name)  # 假設資料夾名稱為標籤 (例如：'1', '2', '3'...)\n",
        "        for image_name in os.listdir(person_path):\n",
        "            image_path = os.path.join(person_path, image_name)\n",
        "            image = cv2.imread(image_path, cv2.IMREAD_GRAYSCALE)\n",
        "            images.append(image)\n",
        "            labels.append(label)\n",
        "\n",
        "# 使用影像和標籤訓練模型\n",
        "model.train(np.asarray(images), np.asarray(labels))\n",
        "\n",
        "# 保存訓練好的模型\n",
        "model.save('faces.data')\n",
        "\n",
        "# 顯示訓練完成訊息\n",
        "print('訓練完成')"
      ],
      "cell_type": "code",
      "metadata": {
        "id": "IL1x7NYJ2G12"
      },
      "execution_count": null,
      "outputs": []
    }
  ]
}