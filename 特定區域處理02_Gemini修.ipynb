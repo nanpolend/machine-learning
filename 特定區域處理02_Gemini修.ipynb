{
  "nbformat": 4,
  "nbformat_minor": 0,
  "metadata": {
    "colab": {
      "provenance": [],
      "authorship_tag": "ABX9TyMnfqJdxwgbbWsKx0jDQJSb",
      "include_colab_link": true
    },
    "kernelspec": {
      "name": "python3",
      "display_name": "Python 3"
    },
    "language_info": {
      "name": "python"
    }
  },
  "cells": [
    {
      "cell_type": "markdown",
      "metadata": {
        "id": "view-in-github",
        "colab_type": "text"
      },
      "source": [
        "<a href=\"https://colab.research.google.com/github/nanpolend/machine-learning/blob/master/%E7%89%B9%E5%AE%9A%E5%8D%80%E5%9F%9F%E8%99%95%E7%90%8602_Gemini%E4%BF%AE.ipynb\" target=\"_parent\"><img src=\"https://colab.research.google.com/assets/colab-badge.svg\" alt=\"Open In Colab\"/></a>"
      ]
    },
    {
      "source": [
        "+---------------------+     +---------------------+     +---------------------+     +---------------------+\n",
        "|     影片擷取        | --> |  調整大小和翻轉   | --> |   取出 ROI 區域   | --> |  顏色空間轉換    |\n",
        "+---------------------+     +---------------------+     +---------------------+     +---------------------+\n",
        "                                                                    ^\n",
        "                                                                    |\n",
        "                                                                    v\n",
        "                                                            +---------------------+     +---------------------+\n",
        "                                                            |   將 ROI 貼回      | --> |  繪製矩形框    |\n",
        "                                                            +---------------------+     +---------------------+\n",
        "                                                                    ^\n",
        "                                                                    |\n",
        "                                                                    v\n",
        "                                                            +---------------------+     +---------------------+\n",
        "                                                            |    顯示畫面        | --> |  檢查 Esc 鍵   |\n",
        "                                                            +---------------------+     +---------------------+"
      ],
      "cell_type": "code",
      "metadata": {
        "id": "nrsvUAz4pTtt"
      },
      "execution_count": null,
      "outputs": []
    },
    {
      "source": [
        "import cv2\n",
        "\n",
        "# 初始化視訊擷取物件\n",
        "cap = cv2.VideoCapture(0)  # 使用預設攝影機 (索引 0)\n",
        "\n",
        "# 計算畫面比例 (假設 'c' 代表 cv2.CAP_PROP_FRAME_HEIGHT)\n",
        "ratio = cap.get(cv2.CAP_PROP_FRAME_WIDTH) / cap.get(cv2.CAP_PROP_FRAME_HEIGHT)\n",
        "\n",
        "# 設定畫面寬度和高度\n",
        "WIDTH = 40\n",
        "HEIGHT = int(WIDTH / ratio)\n",
        "\n",
        "# 迴圈處理每一幀畫面\n",
        "while True:\n",
        "    # 讀取一幀畫面\n",
        "    ret, frame = cap.read()\n",
        "\n",
        "    # 調整畫面大小\n",
        "    frame = cv2.resize(frame, (WIDTH, HEIGHT))\n",
        "\n",
        "    # 水平翻轉畫面\n",
        "    frame = cv2.flip(frame, 1)\n",
        "\n",
        "    # 取出 ROI 區域 (假設 roiarea 函式已定義)\n",
        "    roi = roiarea(frame)\n",
        "\n",
        "    # 將 ROI 區域的顏色空間轉換為 HSV\n",
        "    roi = cv2.cvtColor(roi, cv2.COLOR_BGR2HSV)\n",
        "\n",
        "    # 將處理後的 ROI 貼回原畫面 (假設 replaceroi 函式已定義)\n",
        "    frame = replaceroi(frame, roi)\n",
        "\n",
        "    # 在 ROI 區域繪製矩形框 (假設 RECT 變數已定義)\n",
        "    cv2.rectangle(frame, RECT[0], RECT[1], (0, 0, 255), 2)  # 修正：加上線條粗細參數\n",
        "\n",
        "    # 顯示畫面\n",
        "    cv2.imshow(\"frame\", frame)\n",
        "\n",
        "    # 檢查是否按下 Esc 鍵 (ASCII code 27)\n",
        "    if cv2.waitKey(1) == 27:\n",
        "        break\n",
        "\n",
        "# 釋放資源\n",
        "cap.release()\n",
        "cv2.destroyAllWindows()"
      ],
      "cell_type": "code",
      "metadata": {
        "id": "T58BwsQMpV8W"
      },
      "execution_count": null,
      "outputs": []
    }
  ]
}