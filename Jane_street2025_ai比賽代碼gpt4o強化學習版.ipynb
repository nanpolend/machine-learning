{
  "nbformat": 4,
  "nbformat_minor": 0,
  "metadata": {
    "colab": {
      "provenance": [],
      "authorship_tag": "ABX9TyOo+pVu+j3FxAj/6dOl7gJ0",
      "include_colab_link": true
    },
    "kernelspec": {
      "name": "python3",
      "display_name": "Python 3"
    },
    "language_info": {
      "name": "python"
    }
  },
  "cells": [
    {
      "cell_type": "markdown",
      "metadata": {
        "id": "view-in-github",
        "colab_type": "text"
      },
      "source": [
        "<a href=\"https://colab.research.google.com/github/nanpolend/machine-learning/blob/master/Jane_street2025_ai%E6%AF%94%E8%B3%BD%E4%BB%A3%E7%A2%BCgpt4o%E5%BC%B7%E5%8C%96%E5%AD%B8%E7%BF%92%E7%89%88.ipynb\" target=\"_parent\"><img src=\"https://colab.research.google.com/assets/colab-badge.svg\" alt=\"Open In Colab\"/></a>"
      ]
    },
    {
      "source": [
        "+---------------------+     +---------------------+     +---------------------+     +---------------------+     +---------------------+\n",
        "|  1. 資料載入        | --> | 2. 資料預處理       | --> | 3. 特徵工程       | --> | 4. 模型訓練        | --> | 5. 模型評估        |\n",
        "+---------------------+     +---------------------+     +---------------------+     +---------------------+     +---------------------+\n",
        "       ^                                                                                                              |\n",
        "       |                                                                                                              V\n",
        "       +---------------------------------------------------------------------------------------------------------------+\n",
        "                                                           6. 視覺化 (混淆矩陣)"
      ],
      "cell_type": "code",
      "metadata": {
        "id": "dJU-4I3yAT9S"
      },
      "execution_count": null,
      "outputs": []
    },
    {
      "cell_type": "code",
      "source": [
        "import os\n",
        "import gym\n",
        "import numpy as np\n",
        "import pandas as pd\n",
        "from gym import spaces\n",
        "from sklearn.model_selection import train_test_split\n",
        "from sklearn.preprocessing import StandardScaler\n",
        "from stable_baselines3 import PPO\n",
        "from stable_baselines3.common.env_util import DummyVecEnv\n",
        "from stable_baselines3.common.callbacks import BaseCallback\n",
        "import tensorflow as tf\n",
        "import matplotlib.pyplot as plt\n",
        "\n",
        "# TensorBoard callback for extra logging\n",
        "class TensorboardCallback(BaseCallback):\n",
        "    def __init__(self, verbose=0):\n",
        "        super().__init__(verbose)\n",
        "\n",
        "    def _on_step(self) -> bool:\n",
        "        # Example of logging a custom metric\n",
        "        self.logger.record(\"custom/steps\", self.num_timesteps)\n",
        "        return True\n",
        "\n",
        "# 自訂強化學習環境\n",
        "class CustomEnv(gym.Env):\n",
        "    def __init__(self, X, y):\n",
        "        super().__init__()\n",
        "        self.X = X.astype(np.float32)\n",
        "        self.y = y.astype(int)\n",
        "        self.index = 0\n",
        "        self.observation_space = spaces.Box(low=-np.inf, high=np.inf, shape=(X.shape[1],), dtype=np.float32)\n",
        "        self.action_space = spaces.Discrete(len(np.unique(y)))\n",
        "\n",
        "    def reset(self):\n",
        "        self.index = 0\n",
        "        return self.X[self.index]\n",
        "\n",
        "    def step(self, action):\n",
        "        correct = int(action == self.y[self.index])\n",
        "        reward = 1.0 if correct else -1.0\n",
        "        self.index += 1\n",
        "        done = self.index >= len(self.X)\n",
        "        obs = self.X[self.index] if not done else np.zeros_like(self.X[0])\n",
        "        return obs, reward, done, {}\n",
        "\n",
        "# 資料處理函數\n",
        "def 載入並預處理資料(csv_path):\n",
        "    df = pd.read_csv(csv_path)\n",
        "    df.fillna(df.mean(), inplace=True)\n",
        "    特徵 = [col for col in df.columns if 'feature' in col]\n",
        "    X = df[特徵].values\n",
        "    y = df['action'].values\n",
        "    scaler = StandardScaler()\n",
        "    X = scaler.fit_transform(X)\n",
        "    return train_test_split(X, y, test_size=0.2, random_state=42)\n",
        "\n",
        "# 訓練與測試代理\n",
        "def 訓練與測試(csv_path):\n",
        "    X_train, X_test, y_train, y_test = 載入並預處理資料(csv_path)\n",
        "\n",
        "    # 環境初始化\n",
        "    train_env = DummyVecEnv([lambda: CustomEnv(X_train, y_train)])\n",
        "    test_env = CustomEnv(X_test, y_test)\n",
        "\n",
        "    # PPO訓練\n",
        "    model = PPO(\"MlpPolicy\", train_env, verbose=1, tensorboard_log=\"./ppo_log\")\n",
        "    model.learn(total_timesteps=10000, callback=TensorboardCallback())\n",
        "\n",
        "    # 測試\n",
        "    obs = test_env.reset()\n",
        "    done = False\n",
        "    total = 0\n",
        "    correct = 0\n",
        "    while not done:\n",
        "        action, _ = model.predict(obs, deterministic=True)\n",
        "        obs, reward, done, _ = test_env.step(action)\n",
        "        if reward > 0:\n",
        "            correct += 1\n",
        "        total += 1\n",
        "\n",
        "    print(f\"測試準確率: {correct / total:.2f}\")\n",
        "\n",
        "    return model\n",
        "\n",
        "# TensorBoard 可視化提示\n",
        "if __name__ == \"__main__\":\n",
        "    csv_file = os.path.join(os.getcwd(), \"train.csv\")\n",
        "    if not os.path.exists(csv_file):\n",
        "        print(\"請將資料檔 train.csv 放置在程式目錄下\")\n",
        "    else:\n",
        "        model = 訓練與測試(csv_file)\n",
        "        print(\"訓練完成，請執行以下指令來檢視 TensorBoard：\")\n",
        "        print(\"\\ntensorboard --logdir=./ppo_log\\n\")\n"
      ],
      "metadata": {
        "colab": {
          "base_uri": "https://localhost:8080/",
          "height": 387
        },
        "id": "AL1K5OosXrGo",
        "outputId": "25085373-98ad-431d-c795-c9059fdce351"
      },
      "execution_count": 1,
      "outputs": [
        {
          "output_type": "error",
          "ename": "ModuleNotFoundError",
          "evalue": "No module named 'stable_baselines3'",
          "traceback": [
            "\u001b[0;31m---------------------------------------------------------------------------\u001b[0m",
            "\u001b[0;31mModuleNotFoundError\u001b[0m                       Traceback (most recent call last)",
            "\u001b[0;32m<ipython-input-1-49b19fa7c9ac>\u001b[0m in \u001b[0;36m<cell line: 0>\u001b[0;34m()\u001b[0m\n\u001b[1;32m      6\u001b[0m \u001b[0;32mfrom\u001b[0m \u001b[0msklearn\u001b[0m\u001b[0;34m.\u001b[0m\u001b[0mmodel_selection\u001b[0m \u001b[0;32mimport\u001b[0m \u001b[0mtrain_test_split\u001b[0m\u001b[0;34m\u001b[0m\u001b[0;34m\u001b[0m\u001b[0m\n\u001b[1;32m      7\u001b[0m \u001b[0;32mfrom\u001b[0m \u001b[0msklearn\u001b[0m\u001b[0;34m.\u001b[0m\u001b[0mpreprocessing\u001b[0m \u001b[0;32mimport\u001b[0m \u001b[0mStandardScaler\u001b[0m\u001b[0;34m\u001b[0m\u001b[0;34m\u001b[0m\u001b[0m\n\u001b[0;32m----> 8\u001b[0;31m \u001b[0;32mfrom\u001b[0m \u001b[0mstable_baselines3\u001b[0m \u001b[0;32mimport\u001b[0m \u001b[0mPPO\u001b[0m\u001b[0;34m\u001b[0m\u001b[0;34m\u001b[0m\u001b[0m\n\u001b[0m\u001b[1;32m      9\u001b[0m \u001b[0;32mfrom\u001b[0m \u001b[0mstable_baselines3\u001b[0m\u001b[0;34m.\u001b[0m\u001b[0mcommon\u001b[0m\u001b[0;34m.\u001b[0m\u001b[0menv_util\u001b[0m \u001b[0;32mimport\u001b[0m \u001b[0mDummyVecEnv\u001b[0m\u001b[0;34m\u001b[0m\u001b[0;34m\u001b[0m\u001b[0m\n\u001b[1;32m     10\u001b[0m \u001b[0;32mfrom\u001b[0m \u001b[0mstable_baselines3\u001b[0m\u001b[0;34m.\u001b[0m\u001b[0mcommon\u001b[0m\u001b[0;34m.\u001b[0m\u001b[0mcallbacks\u001b[0m \u001b[0;32mimport\u001b[0m \u001b[0mBaseCallback\u001b[0m\u001b[0;34m\u001b[0m\u001b[0;34m\u001b[0m\u001b[0m\n",
            "\u001b[0;31mModuleNotFoundError\u001b[0m: No module named 'stable_baselines3'",
            "",
            "\u001b[0;31m---------------------------------------------------------------------------\u001b[0;32m\nNOTE: If your import is failing due to a missing package, you can\nmanually install dependencies using either !pip or !apt.\n\nTo view examples of installing some common dependencies, click the\n\"Open Examples\" button below.\n\u001b[0;31m---------------------------------------------------------------------------\u001b[0m\n"
          ],
          "errorDetails": {
            "actions": [
              {
                "action": "open_url",
                "actionText": "Open Examples",
                "url": "/notebooks/snippets/importing_libraries.ipynb"
              }
            ]
          }
        }
      ]
    }
  ]
}