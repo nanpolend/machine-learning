{
  "nbformat": 4,
  "nbformat_minor": 0,
  "metadata": {
    "colab": {
      "provenance": [],
      "authorship_tag": "ABX9TyOI5G1HetV6tlZwwCHB0dMS",
      "include_colab_link": true
    },
    "kernelspec": {
      "name": "python3",
      "display_name": "Python 3"
    },
    "language_info": {
      "name": "python"
    }
  },
  "cells": [
    {
      "cell_type": "markdown",
      "metadata": {
        "id": "view-in-github",
        "colab_type": "text"
      },
      "source": [
        "<a href=\"https://colab.research.google.com/github/nanpolend/365E5/blob/master/%E3%80%8CFed%E5%8D%87%E6%81%AF%E9%99%8D%E6%81%AF%E6%B1%BA%E5%AE%9A_ipynb%E3%80%8D%E7%9A%84%E5%89%AF%E6%9C%AC.ipynb\" target=\"_parent\"><img src=\"https://colab.research.google.com/assets/colab-badge.svg\" alt=\"Open In Colab\"/></a>"
      ]
    },
    {
      "cell_type": "code",
      "source": [
        "class FedInterestDecision:\n",
        "    def __init__(self):\n",
        "        # 經濟目標參數\n",
        "        self.target_inflation = 2.0    # 通膨目標(%)\n",
        "        self.natural_unemployment = 4.0 # 自然失業率(%)\n",
        "\n",
        "        # 政策反應係數 (根據歷史數據調整)\n",
        "        self.inflation_coeff = 0.5     # 通膨偏離反應強度\n",
        "        self.unemployment_coeff = -1.0 # 失業率偏離反應強度\n",
        "        self.neutral_rate = 2.5        # 中性利率(長期均衡值)\n",
        "\n",
        "    def calculate_rate(self, expected_inflation, expected_unemployment):\n",
        "        \"\"\"\n",
        "        計算建議聯邦基金利率\n",
        "        公式擴展自泰勒規則：\n",
        "        Rate = Neutral_rate + Inflation_coeff*(Inflation - Target)\n",
        "               + Unemployment_coeff*(Unemployment - Natural)\n",
        "        \"\"\"\n",
        "        # 計算偏離值\n",
        "        inflation_gap = expected_inflation - self.target_inflation\n",
        "        unemployment_gap = expected_unemployment - self.natural_unemployment\n",
        "\n",
        "        # 利率計算\n",
        "        recommended_rate = self.neutral_rate + \\\n",
        "                          (self.inflation_coeff * inflation_gap) + \\\n",
        "                          (self.unemployment_coeff * unemployment_gap)\n",
        "\n",
        "        return max(0, recommended_rate)  # 利率不低於0\n",
        "\n",
        "    def decide_action(self, current_rate, expected_inflation, expected_unemployment):\n",
        "        \"\"\"\n",
        "        決策輸出函數\n",
        "        \"\"\"\n",
        "        new_rate = self.calculate_rate(expected_inflation, expected_unemployment)\n",
        "        rate_change = new_rate - current_rate\n",
        "\n",
        "        # 決策邏輯\n",
        "        if rate_change > 0.25:  # 強烈緊縮信號\n",
        "            return \"升息2碼(0.5%)\", new_rate\n",
        "        elif rate_change > 0:\n",
        "            return \"升息1碼(0.25%)\", new_rate\n",
        "        elif rate_change < -0.25: # 強烈寬鬆信號\n",
        "            return \"降息2碼(0.5%)\", new_rate\n",
        "        elif rate_change < 0:\n",
        "            return \"降息1碼(0.25%)\", new_rate\n",
        "        else:\n",
        "            return \"維持利率不變\", current_rate\n",
        "\n",
        "# 實戰測試 ====================================\n",
        "fed = FedInterestDecision()\n",
        "\n",
        "# 當前利率與經濟預期\n",
        "current_rate = 5.25  # 當前聯邦基金利率\n",
        "expected_inflation = 3.2  # 預期通膨率(%)\n",
        "expected_unemployment = 3.8 # 預期失業率(%)\n",
        "\n",
        "# 獲取決策\n",
        "action, new_rate = fed.decide_action(current_rate, expected_inflation, expected_unemployment)\n",
        "\n",
        "# 輸出結果\n",
        "print(f\"經濟情境：\")\n",
        "print(f\"預期通膨率：{expected_inflation}% | 預期失業率：{expected_unemployment}%\")\n",
        "print(f\"政策決策：{action}\")\n",
        "print(f\"建議新利率：{new_rate:.2f}%\")\n"
      ],
      "metadata": {
        "colab": {
          "base_uri": "https://localhost:8080/"
        },
        "id": "YVSSgyAgCJK6",
        "outputId": "eaf59bcb-b0c9-4f3a-e768-5574531988ff"
      },
      "execution_count": null,
      "outputs": [
        {
          "output_type": "stream",
          "name": "stdout",
          "text": [
            "經濟情境：\n",
            "預期通膨率：3.2% | 預期失業率：3.8%\n",
            "政策決策：降息2碼(0.5%)\n",
            "建議新利率：3.30%\n"
          ]
        }
      ]
    }
  ]
}