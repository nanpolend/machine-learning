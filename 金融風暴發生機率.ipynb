{
  "nbformat": 4,
  "nbformat_minor": 0,
  "metadata": {
    "colab": {
      "provenance": [],
      "authorship_tag": "ABX9TyPjMII5Tz8owLPrAH3GJn5G",
      "include_colab_link": true
    },
    "kernelspec": {
      "name": "python3",
      "display_name": "Python 3"
    },
    "language_info": {
      "name": "python"
    }
  },
  "cells": [
    {
      "cell_type": "markdown",
      "metadata": {
        "id": "view-in-github",
        "colab_type": "text"
      },
      "source": [
        "<a href=\"https://colab.research.google.com/github/nanpolend/365E5/blob/master/%E9%87%91%E8%9E%8D%E9%A2%A8%E6%9A%B4%E7%99%BC%E7%94%9F%E6%A9%9F%E7%8E%87.ipynb\" target=\"_parent\"><img src=\"https://colab.research.google.com/assets/colab-badge.svg\" alt=\"Open In Colab\"/></a>"
      ]
    },
    {
      "cell_type": "code",
      "execution_count": 3,
      "metadata": {
        "colab": {
          "base_uri": "https://localhost:8080/"
        },
        "id": "JqRBSry91Sl_",
        "outputId": "6257d153-ece1-4fe1-c34f-e2f9d293829b"
      },
      "outputs": [
        {
          "output_type": "stream",
          "name": "stdout",
          "text": [
            "全球經濟大蕭條發生機率：100.0%\n",
            "\n",
            "因子影響力分析(標準化係數)：\n",
            "tariff_increase     4.493162\n",
            "debt_gdp_ratio      1.637866\n",
            "vix                 0.682702\n",
            "yield_curve        -1.236791\n",
            "trade_dependency   -2.585721\n",
            "gdp_growth         -2.644087\n",
            "dtype: float64\n"
          ]
        }
      ],
      "source": [
        "import numpy as np\n",
        "import pandas as pd\n",
        "from sklearn.linear_model import LogisticRegression\n",
        "from sklearn.preprocessing import StandardScaler\n",
        "\n",
        "class GlobalDepressionModel:\n",
        "    def __init__(self):\n",
        "        # 模型參數(基於歷史經濟危機數據校準)\n",
        "        self.factors = [\n",
        "            'tariff_increase',   # 關稅增幅(百分比點)\n",
        "            'gdp_growth',       # 全球GDP年增率(%)\n",
        "            'trade_dependency', # 全球貿易依存度(貿易總額/GDP)\n",
        "            'debt_gdp_ratio',   # 全球平均政府債務/GDP比率\n",
        "            'vix',              # 恐慌指數(芝加哥期權交易所波動率)\n",
        "            'yield_curve'       # 美債殖利率曲線斜率(10年-2年利差)\n",
        "        ]\n",
        "        self.model = LogisticRegression()\n",
        "        self.scaler = StandardScaler()\n",
        "\n",
        "    def generate_sim_data(self, n_samples=1000):\n",
        "        \"\"\"\n",
        "        生成模擬數據集(因真實危機數據稀缺)\n",
        "        數據關係基於經濟理論與歷史事件相關性:\n",
        "        - 關稅上升會降低貿易依存度與GDP增長\n",
        "        - 殖利率曲線倒掛預示衰退風險\n",
        "        - 高債務加重財政脆弱性\n",
        "        \"\"\"\n",
        "        np.random.seed(42)\n",
        "        data = pd.DataFrame({\n",
        "            'tariff_increase': np.random.uniform(0, 15, n_samples),  # 0-15%關稅增幅\n",
        "            'gdp_growth': np.random.normal(2.5, 1.5, n_samples),     # 全球GDP增長分布\n",
        "            'trade_dependency': np.random.uniform(40, 70, n_samples),# 貿易依存度40-70%\n",
        "            'debt_gdp_ratio': np.random.lognormal(3.5, 0.3, n_samples),\n",
        "            'vix': np.abs(np.random.normal(15, 8, n_samples)),       # 恐慌指數分布\n",
        "            'yield_curve': np.random.normal(1.0, 0.8, n_samples)     # 殖利率曲線斜率\n",
        "        })\n",
        "\n",
        "        # 危機標籤生成邏輯(非線性組合)\n",
        "        crisis_risk = (\n",
        "            0.3 * data['tariff_increase']**1.5 +\n",
        "            0.4 * (100 - data['trade_dependency']) +\n",
        "            0.2 * data['debt_gdp_ratio'] +\n",
        "            0.15 * data['vix'] -\n",
        "            0.5 * data['yield_curve']**3 -\n",
        "            2.5 * data['gdp_growth']\n",
        "        )\n",
        "        data['depression_label'] = (crisis_risk > np.percentile(crisis_risk, 85)).astype(int)\n",
        "        return data\n",
        "\n",
        "    def train_model(self, data):\n",
        "        \"\"\"\n",
        "        訓練危機預測模型\n",
        "        \"\"\"\n",
        "        X = data[self.factors]\n",
        "        y = data['depression_label']\n",
        "        X_scaled = self.scaler.fit_transform(X)\n",
        "        self.model.fit(X_scaled, y)\n",
        "\n",
        "    def predict_depression_prob(self, scenario):\n",
        "        \"\"\"\n",
        "        預測特定情境下的大蕭條機率\n",
        "        \"\"\"\n",
        "        X_input = pd.DataFrame([scenario])\n",
        "        X_scaled = self.scaler.transform(X_input)\n",
        "        return self.model.predict_proba(X_scaled)[0][1]\n",
        "\n",
        "# 實戰應用 ====================================\n",
        "# 初始化模型\n",
        "model = GlobalDepressionModel()\n",
        "\n",
        "# 生成並訓練模擬數據\n",
        "sim_data = model.generate_sim_data()\n",
        "model.train_model(sim_data)\n",
        "\n",
        "# 定義川普關稅戰情境(假設參數)\n",
        "trump_scenario = {\n",
        "    'tariff_increase': 25,      # 關稅大幅增加25個百分點\n",
        "    'gdp_growth': -1.2,         # 全球GDP萎縮1.2%\n",
        "    'trade_dependency': 45,     # 貿易依存度降至45%\n",
        "    'debt_gdp_ratio': 120,      # 債務/GDP比率升至120%\n",
        "    'vix': 45,                  # 恐慌指數飆升至45\n",
        "    'yield_curve': -0.5         # 殖利率曲線倒掛0.5%\n",
        "}\n",
        "\n",
        "# 計算危機機率\n",
        "probability = model.predict_depression_prob(trump_scenario)\n",
        "print(f\"全球經濟大蕭條發生機率：{probability:.1%}\")\n",
        "\n",
        "# 特徵重要性分析\n",
        "importance = pd.Series(model.model.coef_[0], index=model.factors)\n",
        "print(\"\\n因子影響力分析(標準化係數)：\")\n",
        "print(importance.sort_values(ascending=False))"
      ]
    }
  ]
}