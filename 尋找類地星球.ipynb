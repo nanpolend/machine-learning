{
  "nbformat": 4,
  "nbformat_minor": 0,
  "metadata": {
    "colab": {
      "provenance": [],
      "authorship_tag": "ABX9TyMZISMWYqmfTlP7b0obpn1K",
      "include_colab_link": true
    },
    "kernelspec": {
      "name": "python3",
      "display_name": "Python 3"
    },
    "language_info": {
      "name": "python"
    }
  },
  "cells": [
    {
      "cell_type": "markdown",
      "metadata": {
        "id": "view-in-github",
        "colab_type": "text"
      },
      "source": [
        "<a href=\"https://colab.research.google.com/github/nanpolend/365E5/blob/master/%E5%B0%8B%E6%89%BE%E9%A1%9E%E5%9C%B0%E6%98%9F%E7%90%83.ipynb\" target=\"_parent\"><img src=\"https://colab.research.google.com/assets/colab-badge.svg\" alt=\"Open In Colab\"/></a>"
      ]
    },
    {
      "cell_type": "code",
      "execution_count": null,
      "metadata": {
        "colab": {
          "base_uri": "https://localhost:8080/",
          "height": 236
        },
        "id": "lpeQuUpNbK-u",
        "outputId": "dd9833fa-dd6b-492a-8c54-56c8bd34e665"
      },
      "outputs": [
        {
          "output_type": "error",
          "ename": "TypeError",
          "evalue": "ignored",
          "traceback": [
            "\u001b[0;31m---------------------------------------------------------------------------\u001b[0m",
            "\u001b[0;31mTypeError\u001b[0m                                 Traceback (most recent call last)",
            "\u001b[0;32m<ipython-input-2-0b93c8eb79a3>\u001b[0m in \u001b[0;36m<module>\u001b[0;34m\u001b[0m\n\u001b[1;32m     26\u001b[0m     \u001b[0mimg_info_response\u001b[0m \u001b[0;34m=\u001b[0m \u001b[0mrequests\u001b[0m\u001b[0;34m.\u001b[0m\u001b[0mget\u001b[0m\u001b[0;34m(\u001b[0m\u001b[0mimg_info_url\u001b[0m\u001b[0;34m)\u001b[0m\u001b[0;34m\u001b[0m\u001b[0;34m\u001b[0m\u001b[0m\n\u001b[1;32m     27\u001b[0m     \u001b[0mimg_info_data\u001b[0m \u001b[0;34m=\u001b[0m \u001b[0mjson\u001b[0m\u001b[0;34m.\u001b[0m\u001b[0mloads\u001b[0m\u001b[0;34m(\u001b[0m\u001b[0mimg_info_response\u001b[0m\u001b[0;34m.\u001b[0m\u001b[0mtext\u001b[0m\u001b[0;34m)\u001b[0m\u001b[0;34m\u001b[0m\u001b[0;34m\u001b[0m\u001b[0m\n\u001b[0;32m---> 28\u001b[0;31m     \u001b[0mimg_url\u001b[0m \u001b[0;34m=\u001b[0m \u001b[0mimg_info_data\u001b[0m\u001b[0;34m[\u001b[0m\u001b[0;36m0\u001b[0m\u001b[0;34m]\u001b[0m\u001b[0;34m[\u001b[0m\u001b[0;34m'links'\u001b[0m\u001b[0;34m]\u001b[0m\u001b[0;34m[\u001b[0m\u001b[0;36m0\u001b[0m\u001b[0;34m]\u001b[0m\u001b[0;34m[\u001b[0m\u001b[0;34m'href'\u001b[0m\u001b[0;34m]\u001b[0m\u001b[0;34m\u001b[0m\u001b[0;34m\u001b[0m\u001b[0m\n\u001b[0m\u001b[1;32m     29\u001b[0m \u001b[0;34m\u001b[0m\u001b[0m\n\u001b[1;32m     30\u001b[0m     \u001b[0;31m# 下载图片并将其转换为numpy数组\u001b[0m\u001b[0;34m\u001b[0m\u001b[0;34m\u001b[0m\u001b[0;34m\u001b[0m\u001b[0m\n",
            "\u001b[0;31mTypeError\u001b[0m: string indices must be integers"
          ]
        }
      ],
      "source": [
        "import requests\n",
        "import json\n",
        "import numpy as np\n",
        "from PIL import Image\n",
        "from io import BytesIO\n",
        "\n",
        "# 获取NASA API密钥\n",
        "nasa_api_key = 'YOUR_API_KEY'\n",
        "\n",
        "# 搜索类地行星图片的API\n",
        "search_url = 'https://images-api.nasa.gov/search?q=earth&media_type=image'\n",
        "\n",
        "# 发送请求并获取JSON数据\n",
        "response = requests.get(search_url)\n",
        "data = json.loads(response.text)\n",
        "\n",
        "# 初始化变量\n",
        "earth_img = None\n",
        "earth_features = None\n",
        "similarity_scores = {}\n",
        "\n",
        "# 循环所有图像\n",
        "for item in data['collection']['items']:\n",
        "    # 获取图像信息和链接\n",
        "    img_info_url = item['href']\n",
        "    img_info_response = requests.get(img_info_url)\n",
        "    img_info_data = json.loads(img_info_response.text)\n",
        "    img_url = img_info_data[0]['links'][0]['href']\n",
        "\n",
        "    # 下载图片并将其转换为numpy数组\n",
        "    img_response = requests.get(img_url)\n",
        "    img = Image.open(BytesIO(img_response.content))\n",
        "    img_array = np.array(img)\n",
        "\n",
        "    # 如果是地球图像，将其保存为参考图像并计算其特征\n",
        "    if item['data'][0]['title'] == 'Earth':\n",
        "        earth_img = img\n",
        "        earth_features = np.mean(img_array, axis=(0,1))\n",
        "    else:\n",
        "        # 计算图像与地球的相似度得分\n",
        "        similarity_score = np.sum(np.abs(np.mean(img_array, axis=(0,1)) - earth_features))\n",
        "        similarity_scores[item['data'][0]['title']] = similarity_score\n",
        "\n",
        "# 打印前十个最相似的行星\n",
        "top_matches = sorted(similarity_scores.items(), key=lambda x: x[1])[:10]\n",
        "for match in top_matches:\n",
        "    print(match[0], match[1])\n"
      ]
    }
  ]
}