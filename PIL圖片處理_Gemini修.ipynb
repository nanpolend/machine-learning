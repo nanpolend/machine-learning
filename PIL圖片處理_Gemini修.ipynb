{
  "nbformat": 4,
  "nbformat_minor": 0,
  "metadata": {
    "colab": {
      "provenance": [],
      "authorship_tag": "ABX9TyNVHFUoESLNsCtOye9v508c",
      "include_colab_link": true
    },
    "kernelspec": {
      "name": "python3",
      "display_name": "Python 3"
    },
    "language_info": {
      "name": "python"
    }
  },
  "cells": [
    {
      "cell_type": "markdown",
      "metadata": {
        "id": "view-in-github",
        "colab_type": "text"
      },
      "source": [
        "<a href=\"https://colab.research.google.com/github/nanpolend/machine-learning/blob/master/PIL%E5%9C%96%E7%89%87%E8%99%95%E7%90%86_Gemini%E4%BF%AE.ipynb\" target=\"_parent\"><img src=\"https://colab.research.google.com/assets/colab-badge.svg\" alt=\"Open In Colab\"/></a>"
      ]
    },
    {
      "source": [
        "from PIL import Image # 從 PIL 函式庫導入 Image 模組\n",
        "from IPython.display import display # 從 IPython.display 模組導入 display 函式\n",
        "\n",
        "# 使用 Image.open() 開啟影像並賦值給變數 im\n",
        "im = Image.open('C:\\\\AI\\\\demo.jpg')\n",
        "# 使用 display 函式顯示 im 變數中儲存的影像\n",
        "display(im)"
      ],
      "cell_type": "code",
      "metadata": {
        "id": "0vMrqygV8c-Z"
      },
      "execution_count": null,
      "outputs": []
    }
  ]
}