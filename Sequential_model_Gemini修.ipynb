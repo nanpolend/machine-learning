{
  "nbformat": 4,
  "nbformat_minor": 0,
  "metadata": {
    "colab": {
      "provenance": [],
      "authorship_tag": "ABX9TyPFLvSnFcBjgm78BE0zrqDz",
      "include_colab_link": true
    },
    "kernelspec": {
      "name": "python3",
      "display_name": "Python 3"
    },
    "language_info": {
      "name": "python"
    }
  },
  "cells": [
    {
      "cell_type": "markdown",
      "metadata": {
        "id": "view-in-github",
        "colab_type": "text"
      },
      "source": [
        "<a href=\"https://colab.research.google.com/github/nanpolend/machine-learning/blob/master/Sequential_model_Gemini%E4%BF%AE.ipynb\" target=\"_parent\"><img src=\"https://colab.research.google.com/assets/colab-badge.svg\" alt=\"Open In Colab\"/></a>"
      ]
    },
    {
      "source": [
        "import tensorflow as tf\n",
        "from tensorflow.keras import layers\n",
        "\n",
        "# 建立第一個模型\n",
        "# 架構圖:\n",
        "# 輸入層: 一個 28x28 的矩形 (例如圖片)，可以想像成 784 個小格子。\n",
        "# Flatten 層: 將 28x28 的矩形 \"壓扁\" 成一條線，變成 784 個連續的點。\n",
        "# Dense 層 (128, relu): 這層有 128 個圓圈 (神經元)，每個圓圈都連接到 Flatten 層的 784 個點。每個連接都有一個權重值。\n",
        "# Dropout 層 (0.2): 想像在連接線上隨機剪掉 20% 的連接，讓數據通過時部分資訊被阻擋。\n",
        "# Dense 層 (10): 這層有 10 個圓圈 (神經元)，每個圓圈都連接到前一層 (Dropout) 的 128 個圓圈。每個連接也都有權重值。這 10 個神經元的輸出就是模型的預測結果。\n",
        "model = tf.keras.models.Sequential([\n",
        "    tf.keras.layers.Flatten(input_shape=(28, 28)),  # 將輸入資料攤平\n",
        "    tf.keras.layers.Dense(128, activation='relu'),  # 全連接層，128 個神經元，使用 relu 激活函數\n",
        "    tf.keras.layers.Dropout(0.2),  # Dropout 層，防止過擬合\n",
        "    tf.keras.layers.Dense(10, activation='softmax')  # 全連接層，10 個神經元，使用 softmax 激活函數\n",
        "])\n",
        "\n",
        "# 修改第一個模型\n",
        "model.pop()  # 移除最後一層 (softmax 層)\n",
        "model.add(tf.keras.layers.Dense(10))  # 添加新的全連接層，10 個神經元\n",
        "\n",
        "# 顯示第一個模型的資訊\n",
        "print(f'神經層數:{len(model.layers)}')  # 顯示模型層數\n",
        "model.layers  # 顯示模型的層結構 (在 Jupyter Notebook 中會顯示摘要)\n",
        "\n",
        "# 建立第二個模型\n",
        "# 架構圖:\n",
        "# 輸入層: 同樣是 28x28 的矩形。\n",
        "# Dense 層 (2, relu, \"layer1\"): 這層只有 2 個圓圈 (神經元)，每個圓圈都連接到輸入層的 784 個點。\n",
        "# Dense 層 (3, relu, \"layer2\"): 這層有 3 個圓圈，每個圓圈連接到前一層 (layer1) 的 2 個圓圈。\n",
        "# Dense 層 (4, \"layer3\"): 這層有 4 個圓圈，每個圓圈連接到前一層 (layer2) 的 3 個圓圈。這 4 個神經元的輸出就是模型的預測結果。\n",
        "layer1 = tf.keras.layers.Dense(2, activation=\"relu\", name=\"layer1\", input_shape=(28, 28))  # 第一層，2 個神經元，relu 激活\n",
        "layer2 = tf.keras.layers.Dense(3, activation=\"relu\", name=\"layer2\")  # 第二層，3 個神經元，relu 激活\n",
        "layer3 = tf.keras.layers.Dense(4, name=\"layer3\")  # 第三層，4 個神經元\n",
        "model = tf.keras.models.Sequential([\n",
        "    layer1,\n",
        "    layer2,\n",
        "    layer3\n",
        "])\n",
        "\n",
        "# 顯示第二個模型的資訊\n",
        "print(f'神經層參數類別總數:{len(model.weights)}')  # 顯示模型參數數量\n",
        "model.weights  # 顯示模型的權重和偏差值 (在 Jupyter Notebook 中會顯示)\n",
        "print(f'{layer2.name}總數:{len(model.weights)}')  # 顯示模型參數數量，並加上 layer2 的名稱"
      ],
      "cell_type": "code",
      "metadata": {
        "colab": {
          "base_uri": "https://localhost:8080/"
        },
        "id": "5uOWE-KD67av",
        "outputId": "ccb1dcdd-6bcb-4948-b27c-1ff2c64de476"
      },
      "execution_count": 3,
      "outputs": [
        {
          "output_type": "stream",
          "name": "stdout",
          "text": [
            "神經層數:4\n",
            "神經層參數類別總數:6\n",
            "layer2總數:6\n"
          ]
        }
      ]
    }
  ]
}