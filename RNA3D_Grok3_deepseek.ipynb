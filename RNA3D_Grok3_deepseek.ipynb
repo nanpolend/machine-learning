{
  "nbformat": 4,
  "nbformat_minor": 0,
  "metadata": {
    "colab": {
      "provenance": [],
      "authorship_tag": "ABX9TyO+3PRsLGFzcp5PmjPpz2kW",
      "include_colab_link": true
    },
    "kernelspec": {
      "name": "python3",
      "display_name": "Python 3"
    },
    "language_info": {
      "name": "python"
    }
  },
  "cells": [
    {
      "cell_type": "markdown",
      "metadata": {
        "id": "view-in-github",
        "colab_type": "text"
      },
      "source": [
        "<a href=\"https://colab.research.google.com/github/nanpolend/machine-learning/blob/master/RNA3D_Grok3_deepseek.ipynb\" target=\"_parent\"><img src=\"https://colab.research.google.com/assets/colab-badge.svg\" alt=\"Open In Colab\"/></a>"
      ]
    },
    {
      "cell_type": "markdown",
      "source": [
        "+-----------------------+ | 輸入測試數據 | | (CSV格式含id,sequence)| +----------|------------+ ▼ +-----------------------+ | 數據預處理模組 | # 轉換T→U/大寫 +----------|------------+ ▼ +-----------------------+ | 動態規劃矩陣計算 | # 填滿Nussinov矩陣 +----------|------------+ ▼ +-----------------------+ | 二級結構回溯解析 | # 從矩陣提取配對 +----------|------------+ ▼ +-----------------------+ | 格式轉換與輸出 | # 生成點括號格式 +-----------------------+"
      ],
      "metadata": {
        "id": "WUAggejcazWO"
      }
    },
    {
      "cell_type": "code",
      "source": [
        "import pandas as pd\n",
        "from functools import lru_cache\n",
        "\n",
        "class RNA結構預測器:\n",
        "    def __init__(self):\n",
        "        self.配對規則 = {('A', 'U'), ('U', 'A'), ('G', 'C'), ('C', 'G'), ('G', 'U'), ('U', 'G')}\n",
        "\n",
        "    def 驗證序列(self, 序列):\n",
        "        序列 = 序列.upper().replace('T', 'U')\n",
        "        合法核苷酸 = {'A', 'U', 'C', 'G'}\n",
        "        assert all(c in 合法核苷酸 for c in 序列), \"含無效核苷酸\"\n",
        "        return 序列\n",
        "\n",
        "    def 預測(self, 序列):\n",
        "        try:\n",
        "            有效序列 = self.驗證序列(序列)\n",
        "            n = len(有效序列)\n",
        "\n",
        "            @lru_cache(maxsize=None)\n",
        "            def dp(i, j):\n",
        "                if i >= j - 3:  # 至少相隔4個碱基（j-i-1 >= 4 → j-i >= 4）\n",
        "                    return 0\n",
        "                max_pairs = dp(i+1, j)  # 跳過i\n",
        "                max_pairs = max(max_pairs, dp(i, j-1))  # 跳過j\n",
        "\n",
        "                # 檢查i和j是否可以配對\n",
        "                if (有效序列[i], 有效序列[j]) in self.配對規則:\n",
        "                    max_pairs = max(max_pairs, dp(i+1, j-1) + 1)\n",
        "\n",
        "                # 檢查所有可能的分割點k\n",
        "                for k in range(i, j):\n",
        "                    current = dp(i, k) + dp(k+1, j)\n",
        "                    if current > max_pairs:\n",
        "                        max_pairs = current\n",
        "                return max_pairs\n",
        "\n",
        "            return dp(0, n-1)\n",
        "        except AssertionError as e:\n",
        "            print(f\"錯誤: {e}\")\n",
        "            raise  # 重新拋出異常以便測試案例捕獲\n",
        "        except Exception as e:\n",
        "            print(f\"發生錯誤: {e}\")\n",
        "            raise\n",
        "\n",
        "# 測試案例\n",
        "if __name__ == \"__main__\":\n",
        "    預測器 = RNA結構預測器()\n",
        "\n",
        "    # 測試有效序列\n",
        "    try:\n",
        "        result = 預測器.預測('AUGCT')\n",
        "        print(f\"測試1結果: {result}\")\n",
        "        assert result == 1  # 示例預期值，需根據實際情況調整\n",
        "    except Exception as e:\n",
        "        print(f\"測試1失敗: {e}\")\n",
        "\n",
        "    # 測試無效字符\n",
        "    try:\n",
        "        預測器.預測('SAUCE')\n",
        "        print(\"測試2失敗: 未拋出異常\")\n",
        "    except AssertionError as e:\n",
        "        print(f\"測試2通過: {e}\")\n",
        "    except Exception as e:\n",
        "        print(f\"測試2異常: {e}\")\n",
        "\n",
        "    # 測試短序列\n",
        "    try:\n",
        "        result = 預測器.預測('A')\n",
        "        print(f\"測試3結果: {result}\")\n",
        "        assert result == 0\n",
        "    except Exception as e:\n",
        "        print(f\"測試3失敗: {e}\")"
      ],
      "metadata": {
        "colab": {
          "base_uri": "https://localhost:8080/"
        },
        "id": "7HUWMpzhqJKV",
        "outputId": "0f5196c6-4b6b-49ee-e4f4-30675ca87690"
      },
      "execution_count": 10,
      "outputs": [
        {
          "output_type": "stream",
          "name": "stdout",
          "text": [
            "測試1結果: 1\n",
            "錯誤: 含無效核苷酸\n",
            "測試2通過: 含無效核苷酸\n",
            "測試3結果: 0\n"
          ]
        }
      ]
    }
  ]
}