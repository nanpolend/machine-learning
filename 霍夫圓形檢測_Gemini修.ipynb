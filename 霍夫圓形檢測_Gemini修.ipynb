{
  "nbformat": 4,
  "nbformat_minor": 0,
  "metadata": {
    "colab": {
      "provenance": [],
      "authorship_tag": "ABX9TyN78C5GN+nCNbiIleEh5jWk",
      "include_colab_link": true
    },
    "kernelspec": {
      "name": "python3",
      "display_name": "Python 3"
    },
    "language_info": {
      "name": "python"
    }
  },
  "cells": [
    {
      "cell_type": "markdown",
      "metadata": {
        "id": "view-in-github",
        "colab_type": "text"
      },
      "source": [
        "<a href=\"https://colab.research.google.com/github/nanpolend/machine-learning/blob/master/%E9%9C%8D%E5%A4%AB%E5%9C%93%E5%BD%A2%E6%AA%A2%E6%B8%AC_Gemini%E4%BF%AE.ipynb\" target=\"_parent\"><img src=\"https://colab.research.google.com/assets/colab-badge.svg\" alt=\"Open In Colab\"/></a>"
      ]
    },
    {
      "source": [
        "+-----------------+\n",
        "                                    | 載入圖片          |\n",
        "                                    +-------+----------+\n",
        "                                            |\n",
        "                                            v\n",
        "                                    +-----------------+\n",
        "                                    | 調整圖片大小      |\n",
        "                                    +-------+----------+\n",
        "                                            |\n",
        "                                            v\n",
        "                                    +-----------------+\n",
        "                                    | 轉換成灰階      |\n",
        "                                    +-------+----------+\n",
        "                                            |\n",
        "                                            v\n",
        "                                    +-----------------+\n",
        "                                    | 高斯模糊處理      |\n",
        "                                    +-------+----------+\n",
        "                                            |\n",
        "                                            v\n",
        "                                    +-----------------+\n",
        "                                    | 霍夫圓形偵測      |\n",
        "                                    +-------+----------+\n",
        "                                            |\n",
        "                                            v\n",
        "                                    +-----------------+\n",
        "                                    | 繪製偵測到的圓形  |\n",
        "                                    +-------+----------+\n",
        "                                            |\n",
        "                                            v\n",
        "                                    +-----------------+\n",
        "                                    | 顯示結果          |\n",
        "                                    +-----------------+"
      ],
      "cell_type": "code",
      "metadata": {
        "id": "MEadFoFNjzwe"
      },
      "execution_count": null,
      "outputs": []
    },
    {
      "source": [
        "import cv2\n",
        "\n",
        "# 載入圖片\n",
        "src = cv2.imread('cup.jpg', cv2.IMREAD_UNCHANGED)\n",
        "\n",
        "# 調整圖片大小\n",
        "src = cv2.resize(src, (403, 302))\n",
        "\n",
        "# 轉換成灰階\n",
        "gray = cv2.cvtColor(src, cv2.COLOR_BGR2GRAY)\n",
        "\n",
        "# 高斯模糊處理\n",
        "gray = cv2.GaussianBlur(gray, (5, 5), 0)\n",
        "\n",
        "# 霍夫圓形偵測\n",
        "circles = cv2.HoughCircles(\n",
        "    gray,\n",
        "    cv2.HOUGH_GRADIENT,\n",
        "    1, 20,\n",
        "    None,\n",
        "    100,\n",
        "    30,\n",
        "    3,\n",
        "    75\n",
        ")\n",
        "\n",
        "# 繪製偵測到的圓形\n",
        "if circles is not None:  # 檢查是否有偵測到圓形\n",
        "    out = src.copy()\n",
        "    circles = np.round(circles[0, :]).astype(\"int\")  # 將圓形資訊轉換為整數\n",
        "    for (x, y, r) in circles:\n",
        "        # 畫圓\n",
        "        cv2.circle(out, (x, y), r, (0, 0, 255), 3, cv2.LINE_AA)\n",
        "        # 畫圓心\n",
        "        cv2.circle(out, (x, y), 2, (0, 255, 0), 3, cv2.LINE_AA)\n",
        "    # 水平拼接原始圖片和偵測結果\n",
        "    src = cv2.hconcat([src, out])\n",
        "\n",
        "# 顯示結果\n",
        "cv2.namedWindow('image', cv2.WINDOW_NORMAL)\n",
        "cv2.imshow('image', src)\n",
        "cv2.waitKey(0)\n",
        "cv2.destroyAllWindows()"
      ],
      "cell_type": "code",
      "metadata": {
        "id": "TtLUzKmNj4Bw"
      },
      "execution_count": null,
      "outputs": []
    }
  ]
}