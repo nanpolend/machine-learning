{
  "nbformat": 4,
  "nbformat_minor": 0,
  "metadata": {
    "colab": {
      "provenance": [],
      "authorship_tag": "ABX9TyMrb7d/anz/ncg0vSgaBuOq",
      "include_colab_link": true
    },
    "kernelspec": {
      "name": "python3",
      "display_name": "Python 3"
    },
    "language_info": {
      "name": "python"
    }
  },
  "cells": [
    {
      "cell_type": "markdown",
      "metadata": {
        "id": "view-in-github",
        "colab_type": "text"
      },
      "source": [
        "<a href=\"https://colab.research.google.com/github/nanpolend/machine-learning/blob/master/%E7%B9%AA%E5%9C%96%E5%8A%A0%E5%85%A5%E4%B8%AD%E6%96%87_Gemin%E4%BF%AE.ipynb\" target=\"_parent\"><img src=\"https://colab.research.google.com/assets/colab-badge.svg\" alt=\"Open In Colab\"/></a>"
      ]
    },
    {
      "source": [
        "+---------------------+     +---------------------+     +---------------------+\n",
        "|   載入必要的函式庫  | --> | 定義文字繪製函式  | --> |  讀取圖片並處理   |\n",
        "+---------------------+     +---------------------+     +---------------------+\n",
        "| import numpy        |     | cv2ImgAddText()    |     | cv2.imread()       |\n",
        "| from PIL import     |     |   - 轉換圖片格式   |     | cv2ImgAddText()    |\n",
        "|   Image, ImageDraw, |     |   - 建立繪圖物件   |     | cv2.imshow()       |\n",
        "|   ImageFont        |     |   - 設定字體樣式   |     | cv2.waitKey()      |\n",
        "+---------------------+     |   - 繪製文字       |     | cv2.destroyAllWindows()|\n",
        "                            |   - 轉換回OpenCV格式 |     +---------------------+\n",
        "                            +---------------------+"
      ],
      "cell_type": "code",
      "metadata": {
        "id": "wIvREb0KhFcl"
      },
      "execution_count": null,
      "outputs": []
    },
    {
      "source": [
        "# 載入必要的函式庫\n",
        "import numpy\n",
        "from PIL import Image, ImageDraw, ImageFont\n",
        "import cv2  # 需引入 OpenCV 函式庫\n",
        "\n",
        "# 定義文字繪製函式\n",
        "def cv2ImgAddText(img, text, left, top, textColor=(0, 255, 0), textSize=20):\n",
        "    \"\"\"\n",
        "    在 OpenCV 圖片上繪製文字。\n",
        "\n",
        "    參數：\n",
        "        img: 輸入的 OpenCV 圖片 (NumPy 陣列)。\n",
        "        text: 要繪製的文字字串。\n",
        "        left: 文字左上角的 x 座標。\n",
        "        top: 文字左上角的 y 座標。\n",
        "        textColor: 文字顏色，RGB 格式 (預設為綠色)。\n",
        "        textSize: 文字大小 (預設為 20)。\n",
        "\n",
        "    回傳：\n",
        "        繪製文字後的 OpenCV 圖片 (NumPy 陣列)。\n",
        "    \"\"\"\n",
        "    # 檢查輸入圖片是否為 NumPy 陣列\n",
        "    if isinstance(img, numpy.ndarray):\n",
        "        # OpenCV 圖片轉換為 PIL 圖片格式\n",
        "        img = Image.fromarray(cv2.cvtColor(img, cv2.COLOR_BGR2RGB))\n",
        "\n",
        "        # 使用 PIL 繪製文字\n",
        "        draw = ImageDraw.Draw(img)\n",
        "        fontText = ImageFont.truetype(\"font/msjh.ttc\", textSize, encoding=\"utf-8\")  # 使用微軟正黑體\n",
        "        draw.text((left, top), text, textColor, font=fontText)\n",
        "\n",
        "        # PIL 圖片格式轉換成 OpenCV 的圖片格式\n",
        "        return cv2.cvtColor(numpy.asarray(img), cv2.COLOR_RGB2BGR)\n",
        "    else:\n",
        "        return img  # 若輸入圖片格式不符，則直接回傳原圖\n",
        "\n",
        "\n",
        "# 讀取圖片並處理\n",
        "img = cv2.imread('demo.jpg')  # 讀取圖片檔案\n",
        "img = cv2ImgAddText(img, \"範例文字\", 100, 100, (255, 0, 0), 50)  # 呼叫函式繪製文字\n",
        "cv2.imshow('顯示圖片', img)  # 顯示圖片\n",
        "cv2.waitKey(0)  # 等待按鍵輸入\n",
        "cv2.destroyAllWindows()  # 關閉所有視窗"
      ],
      "cell_type": "code",
      "metadata": {
        "id": "my09ksqHhGlp"
      },
      "execution_count": null,
      "outputs": []
    }
  ]
}