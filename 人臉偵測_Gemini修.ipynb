{
  "nbformat": 4,
  "nbformat_minor": 0,
  "metadata": {
    "colab": {
      "provenance": [],
      "authorship_tag": "ABX9TyPdDe7C34BerZMlKQIMhCal",
      "include_colab_link": true
    },
    "kernelspec": {
      "name": "python3",
      "display_name": "Python 3"
    },
    "language_info": {
      "name": "python"
    }
  },
  "cells": [
    {
      "cell_type": "markdown",
      "metadata": {
        "id": "view-in-github",
        "colab_type": "text"
      },
      "source": [
        "<a href=\"https://colab.research.google.com/github/nanpolend/machine-learning/blob/master/%E4%BA%BA%E8%87%89%E5%81%B5%E6%B8%AC_Gemini%E4%BF%AE.ipynb\" target=\"_parent\"><img src=\"https://colab.research.google.com/assets/colab-badge.svg\" alt=\"Open In Colab\"/></a>"
      ]
    },
    {
      "source": [
        "+-------+\n",
        "                                    | 讀取影像 |\n",
        "                                    +-------+\n",
        "                                        |\n",
        "                                        V\n",
        "                                    +-------+\n",
        "                                    | 灰階轉換 |\n",
        "                                    +-------+\n",
        "                                        |\n",
        "                                        V\n",
        "                                    +-------+\n",
        "                                    | 人臉偵測 |\n",
        "                                    +-------+\n",
        "                                        |\n",
        "                                        V\n",
        "                                    +-------+\n",
        "                                    | 繪製方框 |\n",
        "                                    +-------+\n",
        "                                        |\n",
        "                                        V\n",
        "                                    +-------+\n",
        "                                    | 顯示影像 |\n",
        "                                    +-------+"
      ],
      "cell_type": "code",
      "metadata": {
        "id": "iztocD4C4g1w"
      },
      "execution_count": null,
      "outputs": []
    },
    {
      "source": [
        "import cv2  # 導入 OpenCV 函式庫\n",
        "import os  # 導入 os 模組用於檔案路徑操作\n",
        "\n",
        "# 定義 Haar Cascade 檔案路徑\n",
        "haar_frontalface_default_path = r'X:\\IDE\\anaconda3\\Lib\\site-packages\\cv2\\data\\haarcascade_frontalface_default.xml'  # 正臉偵測器\n",
        "haar_frontalface_alt2_path = r'X:\\IDE\\anaconda3\\Lib\\site-packages\\cv2\\data\\haarcascade_frontalface_alt2.xml'  # 替代正臉偵測器\n",
        "haar_profileface_path = r'X:\\IDE\\anaconda3\\Lib\\site-packages\\cv2\\data\\haarcascade_profileface.xml'  # 側臉偵測器\n",
        "haar_eye_path = r'X:\\IDE\\anaconda3\\Lib\\site-packages\\cv2\\data\\haarcascade_eye.xml'  # 眼睛偵測器\n",
        "\n",
        "# 初始化人臉偵測器，使用 haar_frontalface_default_path 作為模型\n",
        "face_cascade = cv2.CascadeClassifier(haar_frontalface_default_path)\n",
        "\n",
        "# 設定影像檔案路徑，請將 'demo.jpg' 替換為您的影像檔案名稱\n",
        "image_path = 'demo.jpg'\n",
        "\n",
        "# 檢查影像檔案是否存在\n",
        "if not os.path.exists(image_path):\n",
        "    print(f\"錯誤：影像檔案 '{image_path}' 不存在。請確認檔案路徑是否正確。\")\n",
        "    exit()\n",
        "\n",
        "# 讀取影像檔案\n",
        "image = cv2.imread(image_path)\n",
        "\n",
        "# 檢查影像是否成功讀取\n",
        "if image is None:\n",
        "    print(\"錯誤：無法讀取影像檔案。請確認檔案路徑是否正確。\")\n",
        "    exit()\n",
        "\n",
        "# 將影像轉換為灰階\n",
        "gray = cv2.cvtColor(image, cv2.COLOR_BGR2GRAY)\n",
        "\n",
        "# 偵測人臉\n",
        "faces = face_cascade.detectMultiScale(gray, scaleFactor=1.1, minNeighbors=3)\n",
        "\n",
        "# 繪製方框標記人臉\n",
        "for (x, y, w, h) in faces:\n",
        "    cv2.rectangle(image, (x, y), (x + w, y + h), (0, 255, 0), 3)  # 繪製綠色方框，厚度為 3\n",
        "\n",
        "# 顯示影像\n",
        "cv2.namedWindow('人臉偵測', cv2.WINDOW_NORMAL)  # 建立可調整大小的視窗，標題為 \"人臉偵測\"\n",
        "cv2.imshow('人臉偵測', image)  # 在視窗中顯示影像\n",
        "cv2.waitKey(0)  # 等待按鍵按下\n",
        "cv2.destroyAllWindows()  # 關閉所有視窗"
      ],
      "cell_type": "code",
      "metadata": {
        "colab": {
          "base_uri": "https://localhost:8080/",
          "height": 273
        },
        "id": "2Ycxl_To5ODG",
        "outputId": "a64d8759-d9da-424a-f499-75be0a5ca178"
      },
      "execution_count": 1,
      "outputs": [
        {
          "output_type": "stream",
          "name": "stdout",
          "text": [
            "錯誤：影像檔案 'demo.jpg' 不存在。請確認檔案路徑是否正確。\n",
            "錯誤：無法讀取影像檔案。請確認檔案路徑是否正確。\n"
          ]
        },
        {
          "output_type": "error",
          "ename": "error",
          "evalue": "OpenCV(4.11.0) /io/opencv/modules/imgproc/src/color.cpp:199: error: (-215:Assertion failed) !_src.empty() in function 'cvtColor'\n",
          "traceback": [
            "\u001b[0;31m---------------------------------------------------------------------------\u001b[0m",
            "\u001b[0;31merror\u001b[0m                                     Traceback (most recent call last)",
            "\u001b[0;32m<ipython-input-1-7eb796625e9c>\u001b[0m in \u001b[0;36m<cell line: 0>\u001b[0;34m()\u001b[0m\n\u001b[1;32m     28\u001b[0m \u001b[0;34m\u001b[0m\u001b[0m\n\u001b[1;32m     29\u001b[0m \u001b[0;31m# 將影像轉換為灰階\u001b[0m\u001b[0;34m\u001b[0m\u001b[0;34m\u001b[0m\u001b[0m\n\u001b[0;32m---> 30\u001b[0;31m \u001b[0mgray\u001b[0m \u001b[0;34m=\u001b[0m \u001b[0mcv2\u001b[0m\u001b[0;34m.\u001b[0m\u001b[0mcvtColor\u001b[0m\u001b[0;34m(\u001b[0m\u001b[0mimage\u001b[0m\u001b[0;34m,\u001b[0m \u001b[0mcv2\u001b[0m\u001b[0;34m.\u001b[0m\u001b[0mCOLOR_BGR2GRAY\u001b[0m\u001b[0;34m)\u001b[0m\u001b[0;34m\u001b[0m\u001b[0;34m\u001b[0m\u001b[0m\n\u001b[0m\u001b[1;32m     31\u001b[0m \u001b[0;34m\u001b[0m\u001b[0m\n\u001b[1;32m     32\u001b[0m \u001b[0;31m# 偵測人臉\u001b[0m\u001b[0;34m\u001b[0m\u001b[0;34m\u001b[0m\u001b[0m\n",
            "\u001b[0;31merror\u001b[0m: OpenCV(4.11.0) /io/opencv/modules/imgproc/src/color.cpp:199: error: (-215:Assertion failed) !_src.empty() in function 'cvtColor'\n"
          ]
        }
      ]
    }
  ]
}